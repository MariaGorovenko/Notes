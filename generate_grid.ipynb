{
 "cells": [
  {
   "cell_type": "code",
   "execution_count": 9,
   "id": "a7b9432a",
   "metadata": {
    "scrolled": true
   },
   "outputs": [
    {
     "name": "stdout",
     "output_type": "stream",
     "text": [
      "rows\n",
      "invalid literal for int() with base 10: ''\n",
      "rows4\n",
      "columns5\n",
      "minimum (or Enter for 0): \n",
      "maximum (or Enter for 1000): \n",
      "       273       682       897        82       928\n",
      "        32       347       776       131       222\n",
      "       555        92       545       107       884\n",
      "       954       612       558       707       856\n"
     ]
    }
   ],
   "source": [
    "# generate_grid\n",
    "\n",
    "import random\n",
    "def get_int(msg, minimum, default):\n",
    "    while True:\n",
    "        try:\n",
    "            line = input(msg)\n",
    "            if not line and default is not None:\n",
    "                return default\n",
    "            i = int(line)\n",
    "            if i < minimum:\n",
    "                print('must be >= ', minimum)\n",
    "            else:\n",
    "                return i\n",
    "        except ValueError as err:\n",
    "            print(err)\n",
    "rows = get_int('rows', 1, None)\n",
    "columns = get_int('columns', 1, None)\n",
    "minimum = get_int('minimum (or Enter for 0): ', -1000000, 0)\n",
    "default = 1000\n",
    "if default < minimum:\n",
    "    default = 2 * minimum\n",
    "maximum = get_int('maximum (or Enter for ' + str(default) + '): ', minimum, default)\n",
    "row = 0\n",
    "while row < rows:\n",
    "    line = ''\n",
    "    column = 0\n",
    "    while column < columns:\n",
    "        i = random.randint(minimum, maximum)\n",
    "        s = str(i)\n",
    "        while len(s) < 10:\n",
    "            s = ' ' + s\n",
    "        line += s\n",
    "        column += 1\n",
    "    print(line)\n",
    "    row += 1"
   ]
  },
  {
   "cell_type": "code",
   "execution_count": null,
   "id": "a4a62ead",
   "metadata": {},
   "outputs": [],
   "source": []
  },
  {
   "cell_type": "code",
   "execution_count": null,
   "id": "0508caf2",
   "metadata": {},
   "outputs": [],
   "source": []
  }
 ],
 "metadata": {
  "kernelspec": {
   "display_name": "Python 3 (ipykernel)",
   "language": "python",
   "name": "python3"
  },
  "language_info": {
   "codemirror_mode": {
    "name": "ipython",
    "version": 3
   },
   "file_extension": ".py",
   "mimetype": "text/x-python",
   "name": "python",
   "nbconvert_exporter": "python",
   "pygments_lexer": "ipython3",
   "version": "3.11.4"
  }
 },
 "nbformat": 4,
 "nbformat_minor": 5
}
