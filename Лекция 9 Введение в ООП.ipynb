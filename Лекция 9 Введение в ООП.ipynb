{
 "cells": [
  {
   "cell_type": "markdown",
   "id": "d08561b3",
   "metadata": {},
   "source": [
    "Введение в ООП"
   ]
  },
  {
   "cell_type": "markdown",
   "id": "79a0dcc4",
   "metadata": {},
   "source": [
    "Cоздание классов и объектов"
   ]
  },
  {
   "cell_type": "code",
   "execution_count": 25,
   "id": "cc4ad7c2",
   "metadata": {},
   "outputs": [],
   "source": [
    "# Объявление класса Car, наследника класса object (общего родителя классов в Python)\n",
    "class CarF(object):\n",
    "    '''Информация о классе'''\n",
    "    pass # В блоке класса объявляются функции"
   ]
  },
  {
   "cell_type": "code",
   "execution_count": 26,
   "id": "7814b1f0",
   "metadata": {},
   "outputs": [],
   "source": [
    "CarF?"
   ]
  },
  {
   "cell_type": "code",
   "execution_count": 34,
   "id": "01561001",
   "metadata": {},
   "outputs": [],
   "source": [
    "class Car(object):\n",
    "    '''Базовый класс для автомобилей'''\n",
    "    def __init__(self, x): # конструктор класса, используется для инициализации нового объекта\n",
    "        self.x = x # создаем аттрибут класса\n",
    "        \n",
    "    # метод класса; все методы класса должны иметь в качестве первого аттрибута переменную self,\n",
    "    # в которую автоматически передается ссылка на текущий объект\n",
    "    def is_near(self, x2):\n",
    "        return abs(self.x - x2) < 2.0 # self.x - обращение к аттрибуту класса\n",
    "        # abs - с двух сторон    "
   ]
  },
  {
   "cell_type": "code",
   "execution_count": 35,
   "id": "5a1c2d0c",
   "metadata": {},
   "outputs": [],
   "source": [
    "c_1 = Car(3.1)"
   ]
  },
  {
   "cell_type": "code",
   "execution_count": 36,
   "id": "300f6e22",
   "metadata": {},
   "outputs": [
    {
     "data": {
      "text/plain": [
       "__main__.Car"
      ]
     },
     "execution_count": 36,
     "metadata": {},
     "output_type": "execute_result"
    }
   ],
   "source": [
    "type(c_1)"
   ]
  },
  {
   "cell_type": "code",
   "execution_count": 37,
   "id": "3e76387e",
   "metadata": {},
   "outputs": [
    {
     "data": {
      "text/plain": [
       "3.1"
      ]
     },
     "execution_count": 37,
     "metadata": {},
     "output_type": "execute_result"
    }
   ],
   "source": [
    "c_1.x"
   ]
  },
  {
   "cell_type": "code",
   "execution_count": 38,
   "id": "3c048775",
   "metadata": {},
   "outputs": [
    {
     "data": {
      "text/plain": [
       "11.2"
      ]
     },
     "execution_count": 38,
     "metadata": {},
     "output_type": "execute_result"
    }
   ],
   "source": [
    "c_1.x = 11.2\n",
    "c_1.x"
   ]
  },
  {
   "cell_type": "code",
   "execution_count": 47,
   "id": "2895df95",
   "metadata": {},
   "outputs": [],
   "source": [
    "c_2 = Car(7.1)"
   ]
  },
  {
   "cell_type": "code",
   "execution_count": 48,
   "id": "c4678db2",
   "metadata": {},
   "outputs": [
    {
     "data": {
      "text/plain": [
       "False"
      ]
     },
     "execution_count": 48,
     "metadata": {},
     "output_type": "execute_result"
    }
   ],
   "source": [
    "c_1.is_near(c_2.x)"
   ]
  },
  {
   "cell_type": "code",
   "execution_count": 49,
   "id": "1f1afab9",
   "metadata": {},
   "outputs": [],
   "source": [
    "c_2.x = 10.2"
   ]
  },
  {
   "cell_type": "code",
   "execution_count": 50,
   "id": "dd1ac7dc",
   "metadata": {},
   "outputs": [
    {
     "data": {
      "text/plain": [
       "True"
      ]
     },
     "execution_count": 50,
     "metadata": {},
     "output_type": "execute_result"
    }
   ],
   "source": [
    "c_1.is_near(c_2.x)"
   ]
  },
  {
   "cell_type": "code",
   "execution_count": 51,
   "id": "bd3e6dd7",
   "metadata": {},
   "outputs": [
    {
     "data": {
      "text/plain": [
       "{'x': 11.2}"
      ]
     },
     "execution_count": 51,
     "metadata": {},
     "output_type": "execute_result"
    }
   ],
   "source": [
    "c_1.__dict__"
   ]
  },
  {
   "cell_type": "code",
   "execution_count": 52,
   "id": "65abf002",
   "metadata": {},
   "outputs": [
    {
     "data": {
      "text/plain": [
       "{'x': 10.2}"
      ]
     },
     "execution_count": 52,
     "metadata": {},
     "output_type": "execute_result"
    }
   ],
   "source": [
    "c_2.__dict__"
   ]
  },
  {
   "cell_type": "code",
   "execution_count": 53,
   "id": "0e0e5af5",
   "metadata": {},
   "outputs": [
    {
     "data": {
      "text/plain": [
       "10.2"
      ]
     },
     "execution_count": 53,
     "metadata": {},
     "output_type": "execute_result"
    }
   ],
   "source": [
    "c_2.__dict__['x']"
   ]
  },
  {
   "cell_type": "code",
   "execution_count": 54,
   "id": "34a6512f",
   "metadata": {},
   "outputs": [],
   "source": [
    "c_2.speed = 88.5"
   ]
  },
  {
   "cell_type": "code",
   "execution_count": 55,
   "id": "13492b2f",
   "metadata": {},
   "outputs": [
    {
     "data": {
      "text/plain": [
       "{'x': 10.2, 'speed': 88.5}"
      ]
     },
     "execution_count": 55,
     "metadata": {},
     "output_type": "execute_result"
    }
   ],
   "source": [
    "c_2.__dict__"
   ]
  },
  {
   "cell_type": "code",
   "execution_count": 56,
   "id": "cc7ea09d",
   "metadata": {},
   "outputs": [
    {
     "data": {
      "text/plain": [
       "{'x': 11.2}"
      ]
     },
     "execution_count": 56,
     "metadata": {},
     "output_type": "execute_result"
    }
   ],
   "source": [
    "c_1.__dict__"
   ]
  },
  {
   "cell_type": "markdown",
   "id": "79d5a8fb",
   "metadata": {},
   "source": [
    "Наследование и полиморфизм"
   ]
  },
  {
   "cell_type": "code",
   "execution_count": 57,
   "id": "f88c3174",
   "metadata": {},
   "outputs": [],
   "source": [
    "# Класс, наследующий у Car\n",
    "class CargoCar(Car):\n",
    "    def __init__(self, x, max_load, load):\n",
    "        self.x = x\n",
    "        self.max_load = max_load\n",
    "        self.load = load\n",
    "    def is_overloaded(self):\n",
    "        return self.load > self.max_load"
   ]
  },
  {
   "cell_type": "code",
   "execution_count": 58,
   "id": "4bfdcc16",
   "metadata": {},
   "outputs": [],
   "source": [
    "cc_1 = CargoCar(6.0, 10, 2)"
   ]
  },
  {
   "cell_type": "code",
   "execution_count": 59,
   "id": "bce2c1de",
   "metadata": {},
   "outputs": [
    {
     "data": {
      "text/plain": [
       "True"
      ]
     },
     "execution_count": 59,
     "metadata": {},
     "output_type": "execute_result"
    }
   ],
   "source": [
    "cc_1.is_near(7.9)"
   ]
  },
  {
   "cell_type": "code",
   "execution_count": 60,
   "id": "e5413d3e",
   "metadata": {},
   "outputs": [
    {
     "data": {
      "text/plain": [
       "False"
      ]
     },
     "execution_count": 60,
     "metadata": {},
     "output_type": "execute_result"
    }
   ],
   "source": [
    "cc_1.is_overloaded()"
   ]
  },
  {
   "cell_type": "code",
   "execution_count": 61,
   "id": "837d459a",
   "metadata": {},
   "outputs": [],
   "source": [
    "cars1 = [c_1, cc_1, c_2]"
   ]
  },
  {
   "cell_type": "code",
   "execution_count": 62,
   "id": "5e0cfcd4",
   "metadata": {},
   "outputs": [
    {
     "name": "stdout",
     "output_type": "stream",
     "text": [
      "False\n",
      "False\n",
      "False\n"
     ]
    }
   ],
   "source": [
    "for c in cars1:\n",
    "    print(c.is_near(8.2))"
   ]
  },
  {
   "cell_type": "code",
   "execution_count": 63,
   "id": "ea59dfe2",
   "metadata": {},
   "outputs": [],
   "source": [
    "# Класс, наследующий у CargoCar\n",
    "class CargoCarWithTrailer(CargoCar):\n",
    "    def __init__(self, x, max_load, load, trailer_length):\n",
    "        super().__init__(x, max_load, load) # способ использовать реализацию конструктора базового класса\n",
    "        self.trailer_length = trailer_length\n",
    "    def is_near(self, x2): # перегруженный способ\n",
    "        return self.x-self.trailer_length-2.0 < x2 < self.x+2.0\n",
    "    def is_near_old(self, x2):\n",
    "        return super().is_near(x2) # способ обратиться к реализации в родительском классе    "
   ]
  },
  {
   "cell_type": "code",
   "execution_count": 65,
   "id": "94b9c35e",
   "metadata": {},
   "outputs": [],
   "source": [
    "ccwt_1 = CargoCarWithTrailer(6.0, 10, 2, 3)"
   ]
  },
  {
   "cell_type": "code",
   "execution_count": 66,
   "id": "5d3f0bda",
   "metadata": {},
   "outputs": [
    {
     "data": {
      "text/plain": [
       "(6.0, 6.0)"
      ]
     },
     "execution_count": 66,
     "metadata": {},
     "output_type": "execute_result"
    }
   ],
   "source": [
    "cc_1.x, ccwt_1.x"
   ]
  },
  {
   "cell_type": "code",
   "execution_count": 68,
   "id": "cc6b204d",
   "metadata": {},
   "outputs": [
    {
     "data": {
      "text/plain": [
       "(False, True)"
      ]
     },
     "execution_count": 68,
     "metadata": {},
     "output_type": "execute_result"
    }
   ],
   "source": [
    "# демонстрация полиморфизма\n",
    "cc_1.is_near(3.0), ccwt_1.is_near(3.0)"
   ]
  },
  {
   "cell_type": "markdown",
   "id": "73158ef9",
   "metadata": {},
   "source": [
    "Утиная типизация"
   ]
  },
  {
   "cell_type": "code",
   "execution_count": 69,
   "id": "d0d90001",
   "metadata": {},
   "outputs": [],
   "source": [
    "# класс, не входящий в иерархию классов Car\n",
    "class Man(object):\n",
    "    def __init__(self, name, position):\n",
    "        self.name = name\n",
    "        self.position = position\n",
    "    def is_near(self, pos2): # метод класса\n",
    "        return abs(self.position - pos2) < 1.0"
   ]
  },
  {
   "cell_type": "code",
   "execution_count": 70,
   "id": "1cc61839",
   "metadata": {},
   "outputs": [],
   "source": [
    "m_1 = Man('Ivan', 9.5)"
   ]
  },
  {
   "cell_type": "code",
   "execution_count": 71,
   "id": "95cf3a19",
   "metadata": {},
   "outputs": [],
   "source": [
    "different_objects = [c_1, cc_1, c_2, ccwt_1, m_1]"
   ]
  },
  {
   "cell_type": "code",
   "execution_count": 73,
   "id": "c73bffc3",
   "metadata": {},
   "outputs": [
    {
     "name": "stdout",
     "output_type": "stream",
     "text": [
      "False\n",
      "True\n",
      "False\n",
      "True\n",
      "False\n"
     ]
    }
   ],
   "source": [
    "# Благодаря поддержке утиной типизации в Python объекты, \n",
    "# представляющие неродственные классы, но реализующие необходимый\n",
    "# функционал, могу обрабатываться единообразно\n",
    "for ob in different_objects:\n",
    "    print(ob.is_near(6.2))"
   ]
  },
  {
   "cell_type": "markdown",
   "id": "575e8eab",
   "metadata": {},
   "source": [
    "Функция super()"
   ]
  },
  {
   "cell_type": "code",
   "execution_count": 74,
   "id": "ceb0b327",
   "metadata": {},
   "outputs": [],
   "source": [
    "class Point2D(object):\n",
    "    def __init__(self, x, y):\n",
    "        self.x = x\n",
    "        self.y = y\n",
    "\n",
    "class Point3D(Point2D):\n",
    "    def __init__(self, x, y, z):\n",
    "        super().__init__(x,y)\n",
    "        self.z = z"
   ]
  },
  {
   "cell_type": "code",
   "execution_count": 75,
   "id": "56fd433d",
   "metadata": {},
   "outputs": [
    {
     "data": {
      "text/plain": [
       "{'x': 0, 'y': -1, 'z': 1}"
      ]
     },
     "execution_count": 75,
     "metadata": {},
     "output_type": "execute_result"
    }
   ],
   "source": [
    "p2d_1 = Point3D(0, -1, 1)\n",
    "p2d_1.__dict__"
   ]
  },
  {
   "cell_type": "markdown",
   "id": "673455a6",
   "metadata": {},
   "source": [
    "Проверка принадлежности к классу "
   ]
  },
  {
   "cell_type": "code",
   "execution_count": 76,
   "id": "9b70e588",
   "metadata": {},
   "outputs": [
    {
     "name": "stdout",
     "output_type": "stream",
     "text": [
      "<class '__main__.Car'> False\n",
      "<class '__main__.CargoCar'> False\n",
      "<class '__main__.Car'> False\n",
      "<class '__main__.CargoCarWithTrailer'> False\n",
      "<class '__main__.Man'> False\n"
     ]
    }
   ],
   "source": [
    "for ob in different_objects:\n",
    "    print(type(ob), ob.is_near(8.2))"
   ]
  },
  {
   "cell_type": "code",
   "execution_count": 77,
   "id": "b805c3c7",
   "metadata": {},
   "outputs": [
    {
     "data": {
      "text/plain": [
       "True"
      ]
     },
     "execution_count": 77,
     "metadata": {},
     "output_type": "execute_result"
    }
   ],
   "source": [
    "type(c_1) == Car"
   ]
  },
  {
   "cell_type": "code",
   "execution_count": 78,
   "id": "70558c09",
   "metadata": {},
   "outputs": [
    {
     "data": {
      "text/plain": [
       "True"
      ]
     },
     "execution_count": 78,
     "metadata": {},
     "output_type": "execute_result"
    }
   ],
   "source": [
    "c_1.__class__ == Car"
   ]
  },
  {
   "cell_type": "code",
   "execution_count": 79,
   "id": "f73afa75",
   "metadata": {},
   "outputs": [
    {
     "data": {
      "text/plain": [
       "False"
      ]
     },
     "execution_count": 79,
     "metadata": {},
     "output_type": "execute_result"
    }
   ],
   "source": [
    "cc_1.__class__ == Car"
   ]
  },
  {
   "cell_type": "code",
   "execution_count": 81,
   "id": "64aab8d1",
   "metadata": {},
   "outputs": [
    {
     "name": "stdout",
     "output_type": "stream",
     "text": [
      "Класс: <class '__main__.Car'>, является подклассом Car:    True, проверка близости: False\n",
      "Класс: <class '__main__.CargoCar'>, является подклассом Car:    True, проверка близости: False\n",
      "Класс: <class '__main__.Car'>, является подклассом Car:    True, проверка близости: False\n",
      "Класс: <class '__main__.CargoCarWithTrailer'>, является подклассом Car:    True, проверка близости: False\n",
      "Класс: <class '__main__.Man'>, является подклассом Car:    False, проверка близости: False\n"
     ]
    }
   ],
   "source": [
    "# проверка на принадлежность к классу и его наследникам\n",
    "for ob in different_objects:\n",
    "    print('Класс: {}, является подклассом Car:\\\n",
    "    {}, проверка близости: {}'.format(type(ob),\n",
    "                                     isinstance(ob, Car), ob.is_near(8.2)))\n",
    "    "
   ]
  },
  {
   "cell_type": "code",
   "execution_count": 82,
   "id": "5be394a3",
   "metadata": {},
   "outputs": [
    {
     "data": {
      "text/plain": [
       "False"
      ]
     },
     "execution_count": 82,
     "metadata": {},
     "output_type": "execute_result"
    }
   ],
   "source": [
    "isinstance(m_1, Car)"
   ]
  },
  {
   "cell_type": "code",
   "execution_count": 83,
   "id": "1d638c53",
   "metadata": {},
   "outputs": [
    {
     "data": {
      "text/plain": [
       "(True, False)"
      ]
     },
     "execution_count": 83,
     "metadata": {},
     "output_type": "execute_result"
    }
   ],
   "source": [
    "issubclass(CargoCar, Car), issubclass(Car, CargoCar)"
   ]
  },
  {
   "cell_type": "code",
   "execution_count": 84,
   "id": "75f9fb34",
   "metadata": {},
   "outputs": [
    {
     "data": {
      "text/plain": [
       "(False, False)"
      ]
     },
     "execution_count": 84,
     "metadata": {},
     "output_type": "execute_result"
    }
   ],
   "source": [
    "issubclass(Car, Man), issubclass(Man, Car)"
   ]
  },
  {
   "cell_type": "markdown",
   "id": "acf96af7",
   "metadata": {},
   "source": [
    "Базовые типы данных"
   ]
  },
  {
   "cell_type": "code",
   "execution_count": 85,
   "id": "89cecca9",
   "metadata": {},
   "outputs": [
    {
     "data": {
      "text/plain": [
       "True"
      ]
     },
     "execution_count": 85,
     "metadata": {},
     "output_type": "execute_result"
    }
   ],
   "source": [
    "s1 = 'abc'\n",
    "isinstance(s1, str)"
   ]
  },
  {
   "cell_type": "code",
   "execution_count": 86,
   "id": "4d3c305a",
   "metadata": {},
   "outputs": [
    {
     "data": {
      "text/plain": [
       "True"
      ]
     },
     "execution_count": 86,
     "metadata": {},
     "output_type": "execute_result"
    }
   ],
   "source": [
    "issubclass(str, object)"
   ]
  },
  {
   "cell_type": "code",
   "execution_count": 87,
   "id": "2ee3c59d",
   "metadata": {},
   "outputs": [
    {
     "data": {
      "text/plain": [
       "1"
      ]
     },
     "execution_count": 87,
     "metadata": {},
     "output_type": "execute_result"
    }
   ],
   "source": [
    "s1.index('b') # вызов метода"
   ]
  },
  {
   "cell_type": "code",
   "execution_count": 89,
   "id": "5cfc3678",
   "metadata": {},
   "outputs": [
    {
     "data": {
      "text/plain": [
       "3"
      ]
     },
     "execution_count": 89,
     "metadata": {},
     "output_type": "execute_result"
    }
   ],
   "source": [
    "len(s1) # вызов функции"
   ]
  }
 ],
 "metadata": {
  "kernelspec": {
   "display_name": "Python 3 (ipykernel)",
   "language": "python",
   "name": "python3"
  },
  "language_info": {
   "codemirror_mode": {
    "name": "ipython",
    "version": 3
   },
   "file_extension": ".py",
   "mimetype": "text/x-python",
   "name": "python",
   "nbconvert_exporter": "python",
   "pygments_lexer": "ipython3",
   "version": "3.11.4"
  }
 },
 "nbformat": 4,
 "nbformat_minor": 5
}
