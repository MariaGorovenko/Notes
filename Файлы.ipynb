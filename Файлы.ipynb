{
 "cells": [
  {
   "cell_type": "markdown",
   "id": "30b95e0f",
   "metadata": {},
   "source": [
    "\n",
    "\n",
    "\n",
    "\n",
    "\n",
    "Файлы"
   ]
  },
  {
   "cell_type": "code",
   "execution_count": 1,
   "id": "3d74760d",
   "metadata": {},
   "outputs": [
    {
     "data": {
      "text/plain": [
       "'C:\\\\temp\\\\new\\\\file.txt'"
      ]
     },
     "execution_count": 1,
     "metadata": {},
     "output_type": "execute_result"
    }
   ],
   "source": [
    "fn = 'C:\\\\temp\\\\new\\\\file.txt'\n",
    "fn"
   ]
  },
  {
   "cell_type": "code",
   "execution_count": 2,
   "id": "41386869",
   "metadata": {},
   "outputs": [
    {
     "data": {
      "text/plain": [
       "'C:\\\\temp\\\\new\\\\file.txt'"
      ]
     },
     "execution_count": 2,
     "metadata": {},
     "output_type": "execute_result"
    }
   ],
   "source": [
    "fn = r'C:\\temp\\new\\file.txt'\n",
    "fn"
   ]
  },
  {
   "cell_type": "code",
   "execution_count": 3,
   "id": "203850d1",
   "metadata": {},
   "outputs": [
    {
     "name": "stdout",
     "output_type": "stream",
     "text": [
      "\u001b[34mApplications\u001b[m\u001b[m/     \u001b[34mMovies\u001b[m\u001b[m/           Untitled.ipynb    Untitled2.ipynb\r\n",
      "\u001b[34mDesktop\u001b[m\u001b[m/          \u001b[34mMusic\u001b[m\u001b[m/            Untitled1.ipynb   Untitled8.ipynb\r\n",
      "\u001b[34mDocuments\u001b[m\u001b[m/        \u001b[34mPictures\u001b[m\u001b[m/         Untitled11.ipynb  Untitled9.ipynb\r\n",
      "\u001b[34mDownloads\u001b[m\u001b[m/        \u001b[34mPublic\u001b[m\u001b[m/           Untitled12.ipynb  \u001b[34manaconda3\u001b[m\u001b[m/\r\n",
      "\u001b[34mLibrary\u001b[m\u001b[m/          \u001b[34mUntitled Folder\u001b[m\u001b[m/  Untitled14.ipynb\r\n"
     ]
    }
   ],
   "source": [
    "ls"
   ]
  },
  {
   "cell_type": "code",
   "execution_count": 4,
   "id": "004f09c0",
   "metadata": {},
   "outputs": [],
   "source": [
    "f1 = open('new_file.txt', mode = 'w')\n",
    "f1.close()"
   ]
  },
  {
   "cell_type": "code",
   "execution_count": 5,
   "id": "817a56bd",
   "metadata": {},
   "outputs": [
    {
     "name": "stdout",
     "output_type": "stream",
     "text": [
      "\u001b[34mApplications\u001b[m\u001b[m/     \u001b[34mMovies\u001b[m\u001b[m/           Untitled.ipynb    Untitled2.ipynb\r\n",
      "\u001b[34mDesktop\u001b[m\u001b[m/          \u001b[34mMusic\u001b[m\u001b[m/            Untitled1.ipynb   Untitled8.ipynb\r\n",
      "\u001b[34mDocuments\u001b[m\u001b[m/        \u001b[34mPictures\u001b[m\u001b[m/         Untitled11.ipynb  Untitled9.ipynb\r\n",
      "\u001b[34mDownloads\u001b[m\u001b[m/        \u001b[34mPublic\u001b[m\u001b[m/           Untitled12.ipynb  \u001b[34manaconda3\u001b[m\u001b[m/\r\n",
      "\u001b[34mLibrary\u001b[m\u001b[m/          \u001b[34mUntitled Folder\u001b[m\u001b[m/  Untitled14.ipynb  new_file.txt\r\n"
     ]
    }
   ],
   "source": [
    "ls"
   ]
  },
  {
   "cell_type": "code",
   "execution_count": 6,
   "id": "15914d17",
   "metadata": {},
   "outputs": [],
   "source": [
    "f2 = open('folder1\\\\new_file.txt', mode = 'w')\n",
    "f2.close()"
   ]
  },
  {
   "cell_type": "code",
   "execution_count": 7,
   "id": "bb3c5956",
   "metadata": {},
   "outputs": [
    {
     "name": "stdout",
     "output_type": "stream",
     "text": [
      "\u001b[34mApplications\u001b[m\u001b[m/         \u001b[34mPictures\u001b[m\u001b[m/             Untitled14.ipynb\r\n",
      "\u001b[34mDesktop\u001b[m\u001b[m/              \u001b[34mPublic\u001b[m\u001b[m/               Untitled2.ipynb\r\n",
      "\u001b[34mDocuments\u001b[m\u001b[m/            \u001b[34mUntitled Folder\u001b[m\u001b[m/      Untitled8.ipynb\r\n",
      "\u001b[34mDownloads\u001b[m\u001b[m/            Untitled.ipynb        Untitled9.ipynb\r\n",
      "\u001b[34mLibrary\u001b[m\u001b[m/              Untitled1.ipynb       \u001b[34manaconda3\u001b[m\u001b[m/\r\n",
      "\u001b[34mMovies\u001b[m\u001b[m/               Untitled11.ipynb      folder1\\new_file.txt\r\n",
      "\u001b[34mMusic\u001b[m\u001b[m/                Untitled12.ipynb      new_file.txt\r\n"
     ]
    }
   ],
   "source": [
    "ls"
   ]
  },
  {
   "cell_type": "code",
   "execution_count": 8,
   "id": "2984311a",
   "metadata": {},
   "outputs": [
    {
     "name": "stdout",
     "output_type": "stream",
     "text": [
      "[Errno 2] No such file or directory: 'folder1'\n",
      "/Users/test\n"
     ]
    }
   ],
   "source": [
    "cd folder1"
   ]
  },
  {
   "cell_type": "code",
   "execution_count": 9,
   "id": "540ea7c2",
   "metadata": {},
   "outputs": [
    {
     "name": "stdout",
     "output_type": "stream",
     "text": [
      "\u001b[34mApplications\u001b[m\u001b[m/         \u001b[34mPictures\u001b[m\u001b[m/             Untitled14.ipynb\r\n",
      "\u001b[34mDesktop\u001b[m\u001b[m/              \u001b[34mPublic\u001b[m\u001b[m/               Untitled2.ipynb\r\n",
      "\u001b[34mDocuments\u001b[m\u001b[m/            \u001b[34mUntitled Folder\u001b[m\u001b[m/      Untitled8.ipynb\r\n",
      "\u001b[34mDownloads\u001b[m\u001b[m/            Untitled.ipynb        Untitled9.ipynb\r\n",
      "\u001b[34mLibrary\u001b[m\u001b[m/              Untitled1.ipynb       \u001b[34manaconda3\u001b[m\u001b[m/\r\n",
      "\u001b[34mMovies\u001b[m\u001b[m/               Untitled11.ipynb      folder1\\new_file.txt\r\n",
      "\u001b[34mMusic\u001b[m\u001b[m/                Untitled12.ipynb      new_file.txt\r\n"
     ]
    }
   ],
   "source": [
    "ls"
   ]
  },
  {
   "cell_type": "code",
   "execution_count": 10,
   "id": "2cf76faa",
   "metadata": {},
   "outputs": [],
   "source": [
    "f3 = open('..\\\\new_file.txt', mode = 'w')\n",
    "f3.close()"
   ]
  },
  {
   "cell_type": "code",
   "execution_count": 11,
   "id": "2589e8fb",
   "metadata": {},
   "outputs": [
    {
     "name": "stdout",
     "output_type": "stream",
     "text": [
      "\u001b[34mApplications\u001b[m\u001b[m/         \u001b[34mPictures\u001b[m\u001b[m/             Untitled14.ipynb\r\n",
      "\u001b[34mDesktop\u001b[m\u001b[m/              \u001b[34mPublic\u001b[m\u001b[m/               Untitled2.ipynb\r\n",
      "\u001b[34mDocuments\u001b[m\u001b[m/            \u001b[34mUntitled Folder\u001b[m\u001b[m/      Untitled8.ipynb\r\n",
      "\u001b[34mDownloads\u001b[m\u001b[m/            Untitled.ipynb        Untitled9.ipynb\r\n",
      "\u001b[34mLibrary\u001b[m\u001b[m/              Untitled1.ipynb       \u001b[34manaconda3\u001b[m\u001b[m/\r\n",
      "\u001b[34mMovies\u001b[m\u001b[m/               Untitled11.ipynb      folder1\\new_file.txt\r\n",
      "\u001b[34mMusic\u001b[m\u001b[m/                Untitled12.ipynb      new_file.txt\r\n"
     ]
    }
   ],
   "source": [
    "ls"
   ]
  },
  {
   "cell_type": "code",
   "execution_count": 15,
   "id": "9f057235",
   "metadata": {},
   "outputs": [
    {
     "data": {
      "text/plain": [
       "['..\\\\new_file.txt',\n",
       " '.condarc',\n",
       " 'new_file.txt',\n",
       " 'Untitled12.ipynb',\n",
       " 'Untitled1.ipynb',\n",
       " '.DS_Store',\n",
       " '.CFUserTextEncoding',\n",
       " '.xonshrc',\n",
       " 'Untitled14.ipynb',\n",
       " 'Untitled.ipynb',\n",
       " '.zshrc',\n",
       " 'Untitled11.ipynb',\n",
       " '.zprofile',\n",
       " '.zsh_history',\n",
       " 'Untitled2.ipynb',\n",
       " 'folder1\\\\new_file.txt',\n",
       " '.tcshrc',\n",
       " 'Untitled8.ipynb',\n",
       " '.bash_profile',\n",
       " 'Untitled9.ipynb']"
      ]
     },
     "execution_count": 15,
     "metadata": {},
     "output_type": "execute_result"
    }
   ],
   "source": [
    "from os import listdir\n",
    "from os.path import isfile, join\n",
    "mypath = '.'\n",
    "onlyfiles = [f for f in listdir(mypath) if isfile(join(mypath,f))]\n",
    "onlyfiles"
   ]
  },
  {
   "cell_type": "code",
   "execution_count": 16,
   "id": "d374dbb7",
   "metadata": {},
   "outputs": [],
   "source": [
    "f4 = open('new_file4.txt', mode = 'w')"
   ]
  },
  {
   "cell_type": "code",
   "execution_count": 17,
   "id": "18ab3841",
   "metadata": {},
   "outputs": [
    {
     "data": {
      "text/plain": [
       "15"
      ]
     },
     "execution_count": 17,
     "metadata": {},
     "output_type": "execute_result"
    }
   ],
   "source": [
    "f4.write('String1\\String2')"
   ]
  },
  {
   "cell_type": "code",
   "execution_count": 18,
   "id": "f5a39012",
   "metadata": {},
   "outputs": [],
   "source": [
    "f4.close()"
   ]
  },
  {
   "cell_type": "code",
   "execution_count": 19,
   "id": "9e196cb2",
   "metadata": {},
   "outputs": [
    {
     "name": "stdout",
     "output_type": "stream",
     "text": [
      "\u001b[34mApplications\u001b[m\u001b[m/         \u001b[34mPublic\u001b[m\u001b[m/               Untitled8.ipynb\r\n",
      "\u001b[34mDesktop\u001b[m\u001b[m/              \u001b[34mUntitled Folder\u001b[m\u001b[m/      Untitled9.ipynb\r\n",
      "\u001b[34mDocuments\u001b[m\u001b[m/            Untitled.ipynb        \u001b[34manaconda3\u001b[m\u001b[m/\r\n",
      "\u001b[34mDownloads\u001b[m\u001b[m/            Untitled1.ipynb       folder1\\new_file.txt\r\n",
      "\u001b[34mLibrary\u001b[m\u001b[m/              Untitled11.ipynb      new_file.txt\r\n",
      "\u001b[34mMovies\u001b[m\u001b[m/               Untitled12.ipynb      new_file4.txt\r\n",
      "\u001b[34mMusic\u001b[m\u001b[m/                Untitled14.ipynb\r\n",
      "\u001b[34mPictures\u001b[m\u001b[m/             Untitled2.ipynb\r\n"
     ]
    }
   ],
   "source": [
    "ls"
   ]
  },
  {
   "cell_type": "code",
   "execution_count": 20,
   "id": "bfe38e89",
   "metadata": {},
   "outputs": [
    {
     "name": "stdout",
     "output_type": "stream",
     "text": [
      "<class 'bytes'>\n",
      "b'String1\\\\String2'\n"
     ]
    }
   ],
   "source": [
    "with open('new_file4.txt', 'rb') as f:\n",
    "    for line in f:\n",
    "        print(type(line))\n",
    "        print(repr(line))"
   ]
  },
  {
   "cell_type": "code",
   "execution_count": 21,
   "id": "068fc671",
   "metadata": {},
   "outputs": [],
   "source": [
    "with open('new_file5.txt', 'w', encoding = 'utf-8') as f:\n",
    "    f.write('Строка')"
   ]
  },
  {
   "cell_type": "code",
   "execution_count": 22,
   "id": "64346b41",
   "metadata": {},
   "outputs": [
    {
     "name": "stdout",
     "output_type": "stream",
     "text": [
      "Строка\n"
     ]
    }
   ],
   "source": [
    "with open('new_file5.txt', 'r', encoding = 'utf-8') as f:\n",
    "    for line in f:\n",
    "        print(line)"
   ]
  },
  {
   "cell_type": "code",
   "execution_count": 23,
   "id": "5e879c2f",
   "metadata": {},
   "outputs": [],
   "source": [
    "with open('new_file6.txt', 'wb') as f:\n",
    "    f.write(bytes('Строка1\\nСтрока2', 'cp1251'))\n",
    "    f.write(bytearray('\\nСтрока3', 'cp1251'))"
   ]
  },
  {
   "cell_type": "code",
   "execution_count": 24,
   "id": "840bf7d9",
   "metadata": {},
   "outputs": [
    {
     "data": {
      "text/plain": [
       "b'\\xd1\\xf2\\xf0\\xee\\xea\\xe01\\n\\xd1\\xf2\\xf0\\xee\\xea\\xe02'"
      ]
     },
     "execution_count": 24,
     "metadata": {},
     "output_type": "execute_result"
    }
   ],
   "source": [
    "bytes('Строка1\\nСтрока2', 'cp1251')"
   ]
  },
  {
   "cell_type": "code",
   "execution_count": 25,
   "id": "936746b2",
   "metadata": {},
   "outputs": [
    {
     "data": {
      "text/plain": [
       "b'\\x00\\x01\\x02\\x03\\x04\\x05\\x06\\x07\\x08\\t\\n\\x0b\\x0c\\r\\x0e\\x0f\\x10\\x11\\x12\\x13'"
      ]
     },
     "execution_count": 25,
     "metadata": {},
     "output_type": "execute_result"
    }
   ],
   "source": [
    "bs = bytes(range(20))\n",
    "bs"
   ]
  },
  {
   "cell_type": "code",
   "execution_count": 26,
   "id": "cd11e5f9",
   "metadata": {},
   "outputs": [
    {
     "name": "stdout",
     "output_type": "stream",
     "text": [
      "0\n",
      "1\n",
      "2\n",
      "3\n",
      "4\n",
      "5\n",
      "6\n",
      "7\n",
      "8\n",
      "9\n",
      "10\n",
      "11\n",
      "12\n",
      "13\n",
      "14\n",
      "15\n",
      "16\n",
      "17\n",
      "18\n",
      "19\n"
     ]
    }
   ],
   "source": [
    "for b in bs:\n",
    "    print(b)"
   ]
  },
  {
   "cell_type": "code",
   "execution_count": 33,
   "id": "110cb7d6",
   "metadata": {},
   "outputs": [],
   "source": [
    "with open('new_file8.txt', 'w', encoding = 'cp1251') as f:\n",
    "    print('Строка1\\nСтрока2', file = f)\n",
    "    print('Строка3', end = '', file = f)\n",
    "    print(' продолжение строки3', file = f)\n",
    "    v = 4\n",
    "    print(f'Простой способ записать в файл f-строку v={v} .', file=f)"
   ]
  },
  {
   "cell_type": "code",
   "execution_count": 30,
   "id": "06bbccb4",
   "metadata": {},
   "outputs": [
    {
     "name": "stdout",
     "output_type": "stream",
     "text": [
      "<built-in method read of _io.TextIOWrapper object at 0x109017e00>\n"
     ]
    }
   ],
   "source": [
    "with open('new_file8.txt', 'r', encoding = 'cp1251') as f:\n",
    "    print(f.read)"
   ]
  },
  {
   "cell_type": "code",
   "execution_count": 34,
   "id": "0b1c9492",
   "metadata": {},
   "outputs": [],
   "source": [
    "obj = ['string', (12,3)]"
   ]
  },
  {
   "cell_type": "code",
   "execution_count": 36,
   "id": "7af8205c",
   "metadata": {},
   "outputs": [],
   "source": [
    "import pickle"
   ]
  },
  {
   "cell_type": "code",
   "execution_count": 37,
   "id": "9aa98bd0",
   "metadata": {},
   "outputs": [],
   "source": [
    "with open('obj1.txt', 'wb') as f:\n",
    "    pickle.dump(obj, f)"
   ]
  },
  {
   "cell_type": "code",
   "execution_count": 38,
   "id": "978fe109",
   "metadata": {},
   "outputs": [
    {
     "data": {
      "text/plain": [
       "['string', (12, 3)]"
      ]
     },
     "execution_count": 38,
     "metadata": {},
     "output_type": "execute_result"
    }
   ],
   "source": [
    "with open('obj1.txt', 'rb') as f:\n",
    "    obj_1 = pickle.load(f)\n",
    "obj_1"
   ]
  },
  {
   "cell_type": "code",
   "execution_count": 39,
   "id": "6d086539",
   "metadata": {},
   "outputs": [
    {
     "data": {
      "text/plain": [
       "b'\\x80\\x04\\x95\\x14\\x00\\x00\\x00\\x00\\x00\\x00\\x00]\\x94(\\x8c\\x06string\\x94K\\x0cK\\x03\\x86\\x94e.'"
      ]
     },
     "execution_count": 39,
     "metadata": {},
     "output_type": "execute_result"
    }
   ],
   "source": [
    "bs = pickle.dumps(obj)\n",
    "bs"
   ]
  },
  {
   "cell_type": "code",
   "execution_count": 40,
   "id": "1fe33360",
   "metadata": {},
   "outputs": [
    {
     "data": {
      "text/plain": [
       "['string', (12, 3)]"
      ]
     },
     "execution_count": 40,
     "metadata": {},
     "output_type": "execute_result"
    }
   ],
   "source": [
    "pickle.loads(bs)"
   ]
  },
  {
   "cell_type": "code",
   "execution_count": 41,
   "id": "7e2ecb41",
   "metadata": {},
   "outputs": [],
   "source": [
    "import shelve"
   ]
  },
  {
   "cell_type": "code",
   "execution_count": 42,
   "id": "fcfbe300",
   "metadata": {},
   "outputs": [],
   "source": [
    "bd = shelve.open('shl_1')"
   ]
  },
  {
   "cell_type": "code",
   "execution_count": 44,
   "id": "e1b9de5c",
   "metadata": {},
   "outputs": [],
   "source": [
    "bd['obj1'] = [1,2,3,4,5]\n",
    "bd['obj2'] = (6,7,8,9,10)"
   ]
  },
  {
   "cell_type": "code",
   "execution_count": 45,
   "id": "751974b8",
   "metadata": {},
   "outputs": [
    {
     "data": {
      "text/plain": [
       "[1, 2, 3, 4, 5]"
      ]
     },
     "execution_count": 45,
     "metadata": {},
     "output_type": "execute_result"
    }
   ],
   "source": [
    "bd['obj1']"
   ]
  },
  {
   "cell_type": "code",
   "execution_count": 46,
   "id": "e1f7b97c",
   "metadata": {},
   "outputs": [
    {
     "data": {
      "text/plain": [
       "(6, 7, 8, 9, 10)"
      ]
     },
     "execution_count": 46,
     "metadata": {},
     "output_type": "execute_result"
    }
   ],
   "source": [
    "bd['obj2']"
   ]
  },
  {
   "cell_type": "code",
   "execution_count": 47,
   "id": "42293bc7",
   "metadata": {},
   "outputs": [],
   "source": [
    "bd.close()"
   ]
  },
  {
   "cell_type": "code",
   "execution_count": 50,
   "id": "43fe2d65",
   "metadata": {},
   "outputs": [],
   "source": [
    "bd = shelve.open('shl_1')"
   ]
  },
  {
   "cell_type": "code",
   "execution_count": 51,
   "id": "d81b91e2",
   "metadata": {},
   "outputs": [
    {
     "data": {
      "text/plain": [
       "KeysView(<shelve.DbfilenameShelf object at 0x109b39510>)"
      ]
     },
     "execution_count": 51,
     "metadata": {},
     "output_type": "execute_result"
    }
   ],
   "source": [
    "bd.keys()"
   ]
  },
  {
   "cell_type": "code",
   "execution_count": 52,
   "id": "d44f17a8",
   "metadata": {},
   "outputs": [
    {
     "data": {
      "text/plain": [
       "['obj1', 'obj2']"
      ]
     },
     "execution_count": 52,
     "metadata": {},
     "output_type": "execute_result"
    }
   ],
   "source": [
    "list(bd.keys())"
   ]
  },
  {
   "cell_type": "code",
   "execution_count": 53,
   "id": "c4ab9b7a",
   "metadata": {},
   "outputs": [
    {
     "data": {
      "text/plain": [
       "[[1, 2, 3, 4, 5], (6, 7, 8, 9, 10)]"
      ]
     },
     "execution_count": 53,
     "metadata": {},
     "output_type": "execute_result"
    }
   ],
   "source": [
    "list(bd.values())"
   ]
  },
  {
   "cell_type": "code",
   "execution_count": 54,
   "id": "7614c1c6",
   "metadata": {},
   "outputs": [
    {
     "name": "stdout",
     "output_type": "stream",
     "text": [
      "key: obj1, value [1, 2, 3, 4, 5]\n",
      "key: obj2, value (6, 7, 8, 9, 10)\n"
     ]
    }
   ],
   "source": [
    "for k,v in bd.items():\n",
    "    print('key: {}, value {}'.format(k,v))"
   ]
  },
  {
   "cell_type": "code",
   "execution_count": 57,
   "id": "f1dd5990",
   "metadata": {},
   "outputs": [],
   "source": [
    "import csv"
   ]
  },
  {
   "cell_type": "code",
   "execution_count": 61,
   "id": "eae98681",
   "metadata": {
    "scrolled": true
   },
   "outputs": [
    {
     "ename": "FileNotFoundError",
     "evalue": "[Errno 2] No such file or directory: 'participants.csv'",
     "output_type": "error",
     "traceback": [
      "\u001b[0;31m---------------------------------------------------------------------------\u001b[0m",
      "\u001b[0;31mFileNotFoundError\u001b[0m                         Traceback (most recent call last)",
      "Cell \u001b[0;32mIn[61], line 1\u001b[0m\n\u001b[0;32m----> 1\u001b[0m \u001b[38;5;28;01mwith\u001b[39;00m \u001b[38;5;28mopen\u001b[39m(\u001b[38;5;124m'\u001b[39m\u001b[38;5;124mparticipants.csv\u001b[39m\u001b[38;5;124m'\u001b[39m) \u001b[38;5;28;01mas\u001b[39;00m f:\n\u001b[1;32m      2\u001b[0m     f_csv \u001b[38;5;241m=\u001b[39m csv\u001b[38;5;241m.\u001b[39mreader(f, delimiter \u001b[38;5;241m=\u001b[39m \u001b[38;5;124m'\u001b[39m\u001b[38;5;124m;\u001b[39m\u001b[38;5;124m'\u001b[39m)\n\u001b[1;32m      3\u001b[0m     header \u001b[38;5;241m=\u001b[39m \u001b[38;5;28mnext\u001b[39m(f_csv)\n",
      "File \u001b[0;32m~/anaconda3/lib/python3.11/site-packages/IPython/core/interactiveshell.py:284\u001b[0m, in \u001b[0;36m_modified_open\u001b[0;34m(file, *args, **kwargs)\u001b[0m\n\u001b[1;32m    277\u001b[0m \u001b[38;5;28;01mif\u001b[39;00m file \u001b[38;5;129;01min\u001b[39;00m {\u001b[38;5;241m0\u001b[39m, \u001b[38;5;241m1\u001b[39m, \u001b[38;5;241m2\u001b[39m}:\n\u001b[1;32m    278\u001b[0m     \u001b[38;5;28;01mraise\u001b[39;00m \u001b[38;5;167;01mValueError\u001b[39;00m(\n\u001b[1;32m    279\u001b[0m         \u001b[38;5;124mf\u001b[39m\u001b[38;5;124m\"\u001b[39m\u001b[38;5;124mIPython won\u001b[39m\u001b[38;5;124m'\u001b[39m\u001b[38;5;124mt let you open fd=\u001b[39m\u001b[38;5;132;01m{\u001b[39;00mfile\u001b[38;5;132;01m}\u001b[39;00m\u001b[38;5;124m by default \u001b[39m\u001b[38;5;124m\"\u001b[39m\n\u001b[1;32m    280\u001b[0m         \u001b[38;5;124m\"\u001b[39m\u001b[38;5;124mas it is likely to crash IPython. If you know what you are doing, \u001b[39m\u001b[38;5;124m\"\u001b[39m\n\u001b[1;32m    281\u001b[0m         \u001b[38;5;124m\"\u001b[39m\u001b[38;5;124myou can use builtins\u001b[39m\u001b[38;5;124m'\u001b[39m\u001b[38;5;124m open.\u001b[39m\u001b[38;5;124m\"\u001b[39m\n\u001b[1;32m    282\u001b[0m     )\n\u001b[0;32m--> 284\u001b[0m \u001b[38;5;28;01mreturn\u001b[39;00m io_open(file, \u001b[38;5;241m*\u001b[39margs, \u001b[38;5;241m*\u001b[39m\u001b[38;5;241m*\u001b[39mkwargs)\n",
      "\u001b[0;31mFileNotFoundError\u001b[0m: [Errno 2] No such file or directory: 'participants.csv'"
     ]
    }
   ],
   "source": [
    "with open('participants.csv') as f:\n",
    "    f_csv = csv.reader(f, delimiter = ';')\n",
    "    header = next(f_csv)\n",
    "    rows = [r for r in f_csv]"
   ]
  },
  {
   "cell_type": "code",
   "execution_count": null,
   "id": "12891d7c",
   "metadata": {},
   "outputs": [],
   "source": []
  }
 ],
 "metadata": {
  "kernelspec": {
   "display_name": "Python 3 (ipykernel)",
   "language": "python",
   "name": "python3"
  },
  "language_info": {
   "codemirror_mode": {
    "name": "ipython",
    "version": 3
   },
   "file_extension": ".py",
   "mimetype": "text/x-python",
   "name": "python",
   "nbconvert_exporter": "python",
   "pygments_lexer": "ipython3",
   "version": "3.11.4"
  }
 },
 "nbformat": 4,
 "nbformat_minor": 5
}
