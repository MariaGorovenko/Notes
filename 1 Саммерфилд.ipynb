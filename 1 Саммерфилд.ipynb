{
 "cells": [
  {
   "cell_type": "code",
   "execution_count": 7,
   "id": "86c8789a",
   "metadata": {},
   "outputs": [
    {
     "name": "stdout",
     "output_type": "stream",
     "text": [
      "decimal hex chr                   name                  \n",
      "------- ----- --- ----------------------------------------\n"
     ]
    },
    {
     "ename": "TypeError",
     "evalue": "ord() expected a character, but string of length 0 found",
     "output_type": "error",
     "traceback": [
      "\u001b[0;31m---------------------------------------------------------------------------\u001b[0m",
      "\u001b[0;31mTypeError\u001b[0m                                 Traceback (most recent call last)",
      "Cell \u001b[0;32mIn[7], line 13\u001b[0m\n\u001b[1;32m     11\u001b[0m         word \u001b[38;5;241m=\u001b[39m sys\u001b[38;5;241m.\u001b[39margv[\u001b[38;5;241m1\u001b[39m]\u001b[38;5;241m.\u001b[39mlower()\n\u001b[1;32m     12\u001b[0m     \u001b[38;5;28;01mif\u001b[39;00m word \u001b[38;5;241m!=\u001b[39m \u001b[38;5;241m0\u001b[39m:\n\u001b[0;32m---> 13\u001b[0m         print_unicode_table(word)\n\u001b[1;32m     15\u001b[0m \u001b[38;5;28;01mdef\u001b[39;00m \u001b[38;5;21mprint_unicode_table\u001b[39m(word):\n\u001b[1;32m     16\u001b[0m     \u001b[38;5;28mprint\u001b[39m(\u001b[38;5;124m'\u001b[39m\u001b[38;5;124mdecimal hex chr \u001b[39m\u001b[38;5;132;01m{0:^40}\u001b[39;00m\u001b[38;5;124m'\u001b[39m\u001b[38;5;241m.\u001b[39mformat(\u001b[38;5;124m'\u001b[39m\u001b[38;5;124mname\u001b[39m\u001b[38;5;124m'\u001b[39m))\n",
      "Cell \u001b[0;32mIn[6], line 8\u001b[0m, in \u001b[0;36mprint_unicode_table\u001b[0;34m(word)\u001b[0m\n\u001b[1;32m      5\u001b[0m \u001b[38;5;28mprint\u001b[39m(\u001b[38;5;124m'\u001b[39m\u001b[38;5;124mdecimal hex chr \u001b[39m\u001b[38;5;132;01m{0:^40}\u001b[39;00m\u001b[38;5;124m'\u001b[39m\u001b[38;5;241m.\u001b[39mformat(\u001b[38;5;124m'\u001b[39m\u001b[38;5;124mname\u001b[39m\u001b[38;5;124m'\u001b[39m))\n\u001b[1;32m      6\u001b[0m \u001b[38;5;28mprint\u001b[39m(\u001b[38;5;124m'\u001b[39m\u001b[38;5;124m------- ----- --- \u001b[39m\u001b[38;5;132;01m{0:-<40}\u001b[39;00m\u001b[38;5;124m'\u001b[39m\u001b[38;5;241m.\u001b[39mformat(\u001b[38;5;124m'\u001b[39m\u001b[38;5;124m'\u001b[39m))\n\u001b[0;32m----> 8\u001b[0m code \u001b[38;5;241m=\u001b[39m \u001b[38;5;28mord\u001b[39m(\u001b[38;5;124m'\u001b[39m\u001b[38;5;124m'\u001b[39m)\n\u001b[1;32m      9\u001b[0m end \u001b[38;5;241m=\u001b[39m sys\u001b[38;5;241m.\u001b[39mmaxunicode\n\u001b[1;32m     11\u001b[0m \u001b[38;5;28;01mwhile\u001b[39;00m code \u001b[38;5;241m<\u001b[39m end:\n",
      "\u001b[0;31mTypeError\u001b[0m: ord() expected a character, but string of length 0 found"
     ]
    }
   ],
   "source": [
    "# print_unicode.py\n",
    "import sys\n",
    "import unicodedata\n",
    "\n",
    "word = None\n",
    "if len(sys.argv) > 1:\n",
    "    if sys.argv[1] in ('-h', '--help'):\n",
    "        print('usage: {0} [string]'.format(sys.argv[0]))\n",
    "        word = 0\n",
    "    else:\n",
    "        word = sys.argv[1].lower()\n",
    "    if word != 0:\n",
    "        print_unicode_table(word)\n",
    "        \n",
    "def print_unicode_table(word):\n",
    "    print('decimal hex chr {0:^40}'.format('name'))\n",
    "    print('------- ----- --- {0:-<40}'.format(''))\n",
    "    \n",
    "    code = ord('')\n",
    "    end = sys.maxunicode\n",
    "    \n",
    "    while code < end:\n",
    "        c = chr(code)\n",
    "        name = unicodedata.name(c, '*** unknow ***')\n",
    "        if word is None or word in name.lower():\n",
    "            print('{0:7} {0:5X} {0:^3c} {1}'.format(code, name.title()))\n",
    "            code += 1"
   ]
  },
  {
   "cell_type": "code",
   "execution_count": 10,
   "id": "cd850ad6",
   "metadata": {},
   "outputs": [
    {
     "name": "stdout",
     "output_type": "stream",
     "text": [
      "ax² + bx + c = 0\n",
      "enter a: 2.5\n",
      "enter b: 0\n",
      "enter c: -7.25\n",
      "2.5x² + 0.0x + -7.25 = 0 → x = 1.7029386365926402 or x = -1.7029386365926402\n"
     ]
    }
   ],
   "source": [
    "# quadratic.py\n",
    "import cmath\n",
    "import math\n",
    "import sys\n",
    "def get_float(msg, allow_zero):\n",
    "    x = None\n",
    "    while x is None:\n",
    "        try:\n",
    "            x = float(input(msg))\n",
    "            if not allow_zero and abs(x) < sys.float_info.epsilon:\n",
    "                print('zero is not allowed')\n",
    "                x = None\n",
    "        except ValueError as err:\n",
    "            print(err)\n",
    "    return x\n",
    "print('ax\\N{SUPERSCRIPT TWO} + bx + c = 0')\n",
    "a = get_float('enter a: ', False)\n",
    "b = get_float('enter b: ', True)\n",
    "c = get_float('enter c: ', True)\n",
    "x1 = None\n",
    "x2 = None\n",
    "discriminant = (b ** 2) - (4 * a * c)\n",
    "if discriminant == 0:\n",
    "    x1 = -(b / (2*a))\n",
    "else:\n",
    "    if discriminant > 0:\n",
    "        root = math.sqrt(discriminant)\n",
    "    else:\n",
    "        root = cmath.sqrt(discriminant)\n",
    "    x1 = (-b + root) / (2*a)\n",
    "    x2 = (-b - root) / (2*a)\n",
    "equation = ('{0}x\\N{SUPERSCRIPT TWO} + {1}x + {2} = 0'\n",
    "           ' \\N{RIGHTWARDS ARROW} x = {3}').format(a, b, c, x1)\n",
    "if x2 is not None:\n",
    "    equation += ' or x = {0}'.format(x2)\n",
    "print(equation)"
   ]
  }
 ],
 "metadata": {
  "kernelspec": {
   "display_name": "Python 3 (ipykernel)",
   "language": "python",
   "name": "python3"
  },
  "language_info": {
   "codemirror_mode": {
    "name": "ipython",
    "version": 3
   },
   "file_extension": ".py",
   "mimetype": "text/x-python",
   "name": "python",
   "nbconvert_exporter": "python",
   "pygments_lexer": "ipython3",
   "version": "3.11.4"
  }
 },
 "nbformat": 4,
 "nbformat_minor": 5
}
