{
 "cells": [
  {
   "cell_type": "markdown",
   "id": "78c1bbba",
   "metadata": {},
   "source": [
    "Модуль pickle"
   ]
  },
  {
   "cell_type": "code",
   "execution_count": 32,
   "id": "57df46b9",
   "metadata": {},
   "outputs": [],
   "source": [
    "import pickle"
   ]
  },
  {
   "cell_type": "code",
   "execution_count": 33,
   "id": "e2a2822b",
   "metadata": {},
   "outputs": [],
   "source": [
    "obj = ['string', (12, 3)]"
   ]
  },
  {
   "cell_type": "code",
   "execution_count": 34,
   "id": "2ca16ef5",
   "metadata": {},
   "outputs": [],
   "source": [
    "with open('obj1','wb') as f:\n",
    "    pickle.dump(obj,f)"
   ]
  },
  {
   "cell_type": "code",
   "execution_count": 35,
   "id": "24b0f7ae",
   "metadata": {},
   "outputs": [
    {
     "data": {
      "text/plain": [
       "['string', (12, 3)]"
      ]
     },
     "execution_count": 35,
     "metadata": {},
     "output_type": "execute_result"
    }
   ],
   "source": [
    "with open('obj1','rb') as f:\n",
    "    obj_1 = pickle.load(f)\n",
    "obj_1"
   ]
  },
  {
   "cell_type": "code",
   "execution_count": 36,
   "id": "6b92c23d",
   "metadata": {},
   "outputs": [],
   "source": [
    "obj2 = (6, 7, 8, 9, 10)"
   ]
  },
  {
   "cell_type": "code",
   "execution_count": 37,
   "id": "1c76a19f",
   "metadata": {},
   "outputs": [],
   "source": [
    "with open('obj2','wb') as f:\n",
    "    pickle.dump(obj,f)\n",
    "    pickle.dump(obj2,f)"
   ]
  },
  {
   "cell_type": "code",
   "execution_count": 38,
   "id": "f8a24f94",
   "metadata": {},
   "outputs": [
    {
     "data": {
      "text/plain": [
       "(['string', (12, 3)], (6, 7, 8, 9, 10))"
      ]
     },
     "execution_count": 38,
     "metadata": {},
     "output_type": "execute_result"
    }
   ],
   "source": [
    "with open('obj2','rb') as f:\n",
    "    obj_12 = pickle.load(f)\n",
    "    obj2_1 = pickle.load(f)\n",
    "obj_12, obj2_1"
   ]
  },
  {
   "cell_type": "code",
   "execution_count": 39,
   "id": "4eb75cbe",
   "metadata": {},
   "outputs": [
    {
     "data": {
      "text/plain": [
       "b'\\x80\\x04\\x95\\x14\\x00\\x00\\x00\\x00\\x00\\x00\\x00]\\x94(\\x8c\\x06string\\x94K\\x0cK\\x03\\x86\\x94e.'"
      ]
     },
     "execution_count": 39,
     "metadata": {},
     "output_type": "execute_result"
    }
   ],
   "source": [
    "bs = pickle.dumps(obj)\n",
    "bs"
   ]
  },
  {
   "cell_type": "code",
   "execution_count": 40,
   "id": "273ec64d",
   "metadata": {},
   "outputs": [
    {
     "data": {
      "text/plain": [
       "['string', (12, 3)]"
      ]
     },
     "execution_count": 40,
     "metadata": {},
     "output_type": "execute_result"
    }
   ],
   "source": [
    "pickle.loads(bs)"
   ]
  },
  {
   "cell_type": "markdown",
   "id": "0d15583c",
   "metadata": {},
   "source": [
    "Модуль shelve"
   ]
  },
  {
   "cell_type": "code",
   "execution_count": 41,
   "id": "f7eee087",
   "metadata": {},
   "outputs": [],
   "source": [
    "import shelve"
   ]
  },
  {
   "cell_type": "code",
   "execution_count": 42,
   "id": "29f3ccde",
   "metadata": {},
   "outputs": [],
   "source": [
    "db = shelve.open('sh1_1')"
   ]
  },
  {
   "cell_type": "code",
   "execution_count": 43,
   "id": "0fa3e48f",
   "metadata": {},
   "outputs": [],
   "source": [
    "db['obj1'] = [1,2,3,4,5]\n",
    "db['obj2'] = (6,7,8,9,10)"
   ]
  },
  {
   "cell_type": "code",
   "execution_count": 44,
   "id": "e46f4814",
   "metadata": {},
   "outputs": [
    {
     "data": {
      "text/plain": [
       "[1, 2, 3, 4, 5]"
      ]
     },
     "execution_count": 44,
     "metadata": {},
     "output_type": "execute_result"
    }
   ],
   "source": [
    "db['obj1']"
   ]
  },
  {
   "cell_type": "code",
   "execution_count": 45,
   "id": "091403bc",
   "metadata": {},
   "outputs": [
    {
     "data": {
      "text/plain": [
       "(6, 7, 8, 9, 10)"
      ]
     },
     "execution_count": 45,
     "metadata": {},
     "output_type": "execute_result"
    }
   ],
   "source": [
    "db['obj2']"
   ]
  },
  {
   "cell_type": "code",
   "execution_count": 46,
   "id": "81f474d9",
   "metadata": {},
   "outputs": [],
   "source": [
    "db.close()"
   ]
  },
  {
   "cell_type": "code",
   "execution_count": 47,
   "id": "f92aa5d6",
   "metadata": {},
   "outputs": [],
   "source": [
    "db = shelve.open('sh1_1')"
   ]
  },
  {
   "cell_type": "code",
   "execution_count": 48,
   "id": "2b575704",
   "metadata": {},
   "outputs": [
    {
     "data": {
      "text/plain": [
       "KeysView(<shelve.DbfilenameShelf object at 0x10a35bc50>)"
      ]
     },
     "execution_count": 48,
     "metadata": {},
     "output_type": "execute_result"
    }
   ],
   "source": [
    "db.keys()"
   ]
  },
  {
   "cell_type": "code",
   "execution_count": 49,
   "id": "effb10cb",
   "metadata": {},
   "outputs": [
    {
     "data": {
      "text/plain": [
       "['obj1', 'obj2']"
      ]
     },
     "execution_count": 49,
     "metadata": {},
     "output_type": "execute_result"
    }
   ],
   "source": [
    "list(db.keys())"
   ]
  },
  {
   "cell_type": "code",
   "execution_count": 50,
   "id": "84c392fa",
   "metadata": {},
   "outputs": [
    {
     "data": {
      "text/plain": [
       "[[1, 2, 3, 4, 5], (6, 7, 8, 9, 10)]"
      ]
     },
     "execution_count": 50,
     "metadata": {},
     "output_type": "execute_result"
    }
   ],
   "source": [
    "list(db.values())"
   ]
  },
  {
   "cell_type": "code",
   "execution_count": 21,
   "id": "5bf7983e",
   "metadata": {},
   "outputs": [
    {
     "name": "stdout",
     "output_type": "stream",
     "text": [
      "key: obj1, values: [1, 2, 3, 4, 5]\n",
      "key: obj2, values: (6, 7, 8, 9, 10)\n"
     ]
    }
   ],
   "source": [
    "for k,v in db.items():\n",
    "    print('key: {}, values: {}'.format(k,v))"
   ]
  },
  {
   "cell_type": "markdown",
   "id": "fc7c2e93",
   "metadata": {},
   "source": [
    "Модуль CSV"
   ]
  },
  {
   "cell_type": "code",
   "execution_count": 28,
   "id": "10ec9892",
   "metadata": {},
   "outputs": [],
   "source": [
    "import csv"
   ]
  },
  {
   "cell_type": "code",
   "execution_count": 29,
   "id": "533aa63d",
   "metadata": {},
   "outputs": [],
   "source": [
    "f = open('participants.csv', mode = 'w')\n",
    "f.close()"
   ]
  },
  {
   "cell_type": "code",
   "execution_count": null,
   "id": "7762d2bb",
   "metadata": {},
   "outputs": [],
   "source": [
    "with open('participants.csv') as f:\n",
    "    f_csv = csv.reader(f, delimiter=';')\n",
    "    header = next(f_csv)\n",
    "    rows = [r for r in f_csv]"
   ]
  },
  {
   "cell_type": "code",
   "execution_count": null,
   "id": "ad456eb0",
   "metadata": {},
   "outputs": [],
   "source": [
    "header"
   ]
  },
  {
   "cell_type": "code",
   "execution_count": null,
   "id": "31be5178",
   "metadata": {},
   "outputs": [],
   "source": [
    "rows"
   ]
  },
  {
   "cell_type": "code",
   "execution_count": null,
   "id": "40173acf",
   "metadata": {},
   "outputs": [],
   "source": []
  },
  {
   "cell_type": "code",
   "execution_count": null,
   "id": "36b2a593",
   "metadata": {},
   "outputs": [],
   "source": []
  },
  {
   "cell_type": "code",
   "execution_count": null,
   "id": "2c9d3fc6",
   "metadata": {},
   "outputs": [],
   "source": []
  },
  {
   "cell_type": "code",
   "execution_count": null,
   "id": "716e235f",
   "metadata": {},
   "outputs": [],
   "source": [
    "f = r'C:\\temp\\file.txt'\n",
    "f = 'C:\\\\temp\\\\file.txt'"
   ]
  },
  {
   "cell_type": "code",
   "execution_count": null,
   "id": "30a88fc4",
   "metadata": {},
   "outputs": [],
   "source": [
    "f = open('new_file.txt','w')\n",
    "f.close()"
   ]
  },
  {
   "cell_type": "code",
   "execution_count": null,
   "id": "7774cb29",
   "metadata": {},
   "outputs": [],
   "source": [
    "f = open('folder1\\\\new_file2.txt','w')\n",
    "f.close()"
   ]
  },
  {
   "cell_type": "code",
   "execution_count": null,
   "id": "655f63ff",
   "metadata": {},
   "outputs": [],
   "source": [
    "with open('new_file3.txt','w+',encoding='utf-8') as f:\n",
    "    f.write('string')\n",
    "    for line in f:\n",
    "        print(line)"
   ]
  },
  {
   "cell_type": "code",
   "execution_count": 51,
   "id": "3be865a2",
   "metadata": {},
   "outputs": [
    {
     "data": {
      "text/plain": [
       "b'\\xd0\\xa1\\xd1\\x82\\xd1\\x80\\xd0\\xbe\\xd0\\xba\\xd0\\xb01\\n\\xd0\\xa1\\xd1\\x82\\xd1\\x80\\xd0\\xbe\\xd0\\xba\\xd0\\xb02\\xd1\\x8d'"
      ]
     },
     "execution_count": 51,
     "metadata": {},
     "output_type": "execute_result"
    }
   ],
   "source": [
    "bytes('Строка1\\nСтрока2э', 'utf-8')"
   ]
  },
  {
   "cell_type": "markdown",
   "id": "15d71ef1",
   "metadata": {},
   "source": [
    "writelines(<Последовательность>) - записывает последовательность в файл."
   ]
  },
  {
   "cell_type": "code",
   "execution_count": null,
   "id": "2823489f",
   "metadata": {},
   "outputs": [],
   "source": [
    "with open('new_file4.txt','w') as f:\n",
    "    f.writelines(['String1\\n','String2'])"
   ]
  },
  {
   "cell_type": "code",
   "execution_count": null,
   "id": "03134bfd",
   "metadata": {},
   "outputs": [],
   "source": [
    "with open('new_file5.txt','w',encoding='utf-8') as f:\n",
    "    print('string\\nString', file = f)\n",
    "    v = 1\n",
    "    print(f'Простой способ записать в файл f-строку v = {v}', file = f)"
   ]
  },
  {
   "cell_type": "markdown",
   "id": "b4542f3d",
   "metadata": {},
   "source": [
    "read(<Количество>) - считывает данный из файла."
   ]
  },
  {
   "cell_type": "code",
   "execution_count": null,
   "id": "9b73047e",
   "metadata": {},
   "outputs": [],
   "source": [
    "with open('new_file5.txt','r') as f:\n",
    "    print(f.read())"
   ]
  },
  {
   "cell_type": "markdown",
   "id": "321c4612",
   "metadata": {},
   "source": [
    "readline(<Количество>) - считывает из файла одну строку при каждом вызове."
   ]
  },
  {
   "cell_type": "code",
   "execution_count": null,
   "id": "583e5963",
   "metadata": {},
   "outputs": [],
   "source": [
    "with open('new_file5.txt','r') as f:\n",
    "    print(f.readline())\n",
    "    print('---')\n",
    "    print(f.readline())\n",
    "    print('---')\n",
    "    print(f.readline())"
   ]
  },
  {
   "cell_type": "markdown",
   "id": "7a0f3f56",
   "metadata": {},
   "source": [
    "readlines() - считывает всё содержимое файла в список."
   ]
  },
  {
   "cell_type": "code",
   "execution_count": null,
   "id": "bc32a7ea",
   "metadata": {},
   "outputs": [],
   "source": [
    "with open('new_file5.txt','r') as f:\n",
    "    lines = f.readlines()\n",
    "lines"
   ]
  },
  {
   "cell_type": "markdown",
   "id": "7e23065b",
   "metadata": {},
   "source": [
    "_next()_ - считывает одну строку при каждом вызове. "
   ]
  },
  {
   "cell_type": "code",
   "execution_count": null,
   "id": "875ae7a6",
   "metadata": {},
   "outputs": [],
   "source": [
    "with open('new_file5.txt','r') as f:\n",
    "    for l in f:\n",
    "        print(l)"
   ]
  }
 ],
 "metadata": {
  "kernelspec": {
   "display_name": "Python 3 (ipykernel)",
   "language": "python",
   "name": "python3"
  },
  "language_info": {
   "codemirror_mode": {
    "name": "ipython",
    "version": 3
   },
   "file_extension": ".py",
   "mimetype": "text/x-python",
   "name": "python",
   "nbconvert_exporter": "python",
   "pygments_lexer": "ipython3",
   "version": "3.11.4"
  }
 },
 "nbformat": 4,
 "nbformat_minor": 5
}
