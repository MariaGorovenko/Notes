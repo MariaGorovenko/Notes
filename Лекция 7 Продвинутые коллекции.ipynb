{
 "cells": [
  {
   "cell_type": "markdown",
   "id": "50c0e6d8",
   "metadata": {},
   "source": [
    "Продвинутые коллекции"
   ]
  },
  {
   "cell_type": "markdown",
   "id": "8ea3d4f2",
   "metadata": {},
   "source": [
    "Frozen set"
   ]
  },
  {
   "cell_type": "code",
   "execution_count": 1,
   "id": "5c3922c1",
   "metadata": {},
   "outputs": [],
   "source": [
    "a = set('qwert')"
   ]
  },
  {
   "cell_type": "code",
   "execution_count": 2,
   "id": "b9508864",
   "metadata": {},
   "outputs": [
    {
     "data": {
      "text/plain": [
       "{'e', 'q', 'r', 't', 'w'}"
      ]
     },
     "execution_count": 2,
     "metadata": {},
     "output_type": "execute_result"
    }
   ],
   "source": [
    "a"
   ]
  },
  {
   "cell_type": "code",
   "execution_count": 3,
   "id": "44356062",
   "metadata": {},
   "outputs": [],
   "source": [
    "b = frozenset('qwert')"
   ]
  },
  {
   "cell_type": "code",
   "execution_count": 4,
   "id": "3535c714",
   "metadata": {},
   "outputs": [
    {
     "data": {
      "text/plain": [
       "frozenset({'e', 'q', 'r', 't', 'w'})"
      ]
     },
     "execution_count": 4,
     "metadata": {},
     "output_type": "execute_result"
    }
   ],
   "source": [
    "b"
   ]
  },
  {
   "cell_type": "code",
   "execution_count": 5,
   "id": "23d20d85",
   "metadata": {},
   "outputs": [
    {
     "data": {
      "text/plain": [
       "True"
      ]
     },
     "execution_count": 5,
     "metadata": {},
     "output_type": "execute_result"
    }
   ],
   "source": [
    "a == b"
   ]
  },
  {
   "cell_type": "code",
   "execution_count": 6,
   "id": "8392c577",
   "metadata": {},
   "outputs": [
    {
     "data": {
      "text/plain": [
       "set()"
      ]
     },
     "execution_count": 6,
     "metadata": {},
     "output_type": "execute_result"
    }
   ],
   "source": [
    "a-b"
   ]
  },
  {
   "cell_type": "code",
   "execution_count": 7,
   "id": "99cf4831",
   "metadata": {},
   "outputs": [
    {
     "data": {
      "text/plain": [
       "{'e', 'q', 'r', 't', 'w'}"
      ]
     },
     "execution_count": 7,
     "metadata": {},
     "output_type": "execute_result"
    }
   ],
   "source": [
    "a | b"
   ]
  },
  {
   "cell_type": "code",
   "execution_count": 8,
   "id": "928467a1",
   "metadata": {},
   "outputs": [
    {
     "data": {
      "text/plain": [
       "{1, 'e', 'q', 'r', 't', 'w'}"
      ]
     },
     "execution_count": 8,
     "metadata": {},
     "output_type": "execute_result"
    }
   ],
   "source": [
    "a.add(1)\n",
    "a"
   ]
  },
  {
   "cell_type": "code",
   "execution_count": 9,
   "id": "15281501",
   "metadata": {},
   "outputs": [
    {
     "ename": "AttributeError",
     "evalue": "'frozenset' object has no attribute 'add'",
     "output_type": "error",
     "traceback": [
      "\u001b[0;31m---------------------------------------------------------------------------\u001b[0m",
      "\u001b[0;31mAttributeError\u001b[0m                            Traceback (most recent call last)",
      "Cell \u001b[0;32mIn[9], line 1\u001b[0m\n\u001b[0;32m----> 1\u001b[0m b\u001b[38;5;241m.\u001b[39madd(\u001b[38;5;241m1\u001b[39m)\n",
      "\u001b[0;31mAttributeError\u001b[0m: 'frozenset' object has no attribute 'add'"
     ]
    }
   ],
   "source": [
    "b.add(1)"
   ]
  },
  {
   "cell_type": "markdown",
   "id": "6146f740",
   "metadata": {},
   "source": [
    "Модуль collections"
   ]
  },
  {
   "cell_type": "code",
   "execution_count": 10,
   "id": "4677f692",
   "metadata": {},
   "outputs": [],
   "source": [
    "import collections"
   ]
  },
  {
   "cell_type": "markdown",
   "id": "2ba9172d",
   "metadata": {},
   "source": [
    "Counter"
   ]
  },
  {
   "cell_type": "code",
   "execution_count": 11,
   "id": "eaf61b5c",
   "metadata": {
    "scrolled": true
   },
   "outputs": [
    {
     "data": {
      "text/plain": [
       "{'a', 'b', 'd', 'f', 'h', 'j', 'k', 's'}"
      ]
     },
     "execution_count": 11,
     "metadata": {},
     "output_type": "execute_result"
    }
   ],
   "source": [
    "set(list('ababshshdjfk'))"
   ]
  },
  {
   "cell_type": "code",
   "execution_count": 12,
   "id": "6e37631f",
   "metadata": {},
   "outputs": [
    {
     "data": {
      "text/plain": [
       "Counter()"
      ]
     },
     "execution_count": 12,
     "metadata": {},
     "output_type": "execute_result"
    }
   ],
   "source": [
    "c = collections.Counter()\n",
    "c"
   ]
  },
  {
   "cell_type": "code",
   "execution_count": 13,
   "id": "0e44b1db",
   "metadata": {},
   "outputs": [
    {
     "data": {
      "text/plain": [
       "Counter({'a': 3, 'b': 3, 'd': 2, 'h': 1, 'f': 1, 'l': 1, 's': 1})"
      ]
     },
     "execution_count": 13,
     "metadata": {},
     "output_type": "execute_result"
    }
   ],
   "source": [
    "c = collections.Counter('ababdhfldsab')\n",
    "c"
   ]
  },
  {
   "cell_type": "code",
   "execution_count": 14,
   "id": "bb7cadf6",
   "metadata": {},
   "outputs": [
    {
     "data": {
      "text/plain": [
       "0"
      ]
     },
     "execution_count": 14,
     "metadata": {},
     "output_type": "execute_result"
    }
   ],
   "source": [
    "c['x']"
   ]
  },
  {
   "cell_type": "code",
   "execution_count": 15,
   "id": "eed4d598",
   "metadata": {},
   "outputs": [
    {
     "data": {
      "text/plain": [
       "3"
      ]
     },
     "execution_count": 15,
     "metadata": {},
     "output_type": "execute_result"
    }
   ],
   "source": [
    "c['a']"
   ]
  },
  {
   "cell_type": "code",
   "execution_count": 16,
   "id": "78055381",
   "metadata": {},
   "outputs": [
    {
     "data": {
      "text/plain": [
       "{'a': 3, 'b': 3, 'd': 2, 'h': 1, 'f': 1, 'l': 1, 's': 1}"
      ]
     },
     "execution_count": 16,
     "metadata": {},
     "output_type": "execute_result"
    }
   ],
   "source": [
    "d1 = dict(c)\n",
    "d1"
   ]
  },
  {
   "cell_type": "code",
   "execution_count": 17,
   "id": "3f2ac179",
   "metadata": {},
   "outputs": [
    {
     "name": "stdout",
     "output_type": "stream",
     "text": [
      "None\n"
     ]
    }
   ],
   "source": [
    "print(d1.get('x'))"
   ]
  },
  {
   "cell_type": "code",
   "execution_count": 20,
   "id": "0ca4661f",
   "metadata": {},
   "outputs": [
    {
     "data": {
      "text/plain": [
       "Counter({'aaa': 1, 4: 2, 'bbb': 1, 2: 1})"
      ]
     },
     "execution_count": 20,
     "metadata": {},
     "output_type": "execute_result"
    }
   ],
   "source": [
    "c = collections.Counter(['aaa', 4, 'bbb', 2, 4])\n",
    "c"
   ]
  },
  {
   "cell_type": "code",
   "execution_count": 21,
   "id": "e84c3819",
   "metadata": {},
   "outputs": [
    {
     "data": {
      "text/plain": [
       "Counter({'aaa': 4, 'bbb': 5})"
      ]
     },
     "execution_count": 21,
     "metadata": {},
     "output_type": "execute_result"
    }
   ],
   "source": [
    "c = collections.Counter({'aaa':4, 'bbb':5})\n",
    "c"
   ]
  },
  {
   "cell_type": "code",
   "execution_count": 23,
   "id": "306853cc",
   "metadata": {},
   "outputs": [
    {
     "data": {
      "text/plain": [
       "Counter({'cats': 4, 'dog': 5})"
      ]
     },
     "execution_count": 23,
     "metadata": {},
     "output_type": "execute_result"
    }
   ],
   "source": [
    "c = collections.Counter(cats=4, dog=5)\n",
    "c"
   ]
  },
  {
   "cell_type": "code",
   "execution_count": 24,
   "id": "2f8f33c8",
   "metadata": {},
   "outputs": [],
   "source": [
    "c.update(['cats'])"
   ]
  },
  {
   "cell_type": "code",
   "execution_count": 25,
   "id": "7aeb2438",
   "metadata": {},
   "outputs": [
    {
     "data": {
      "text/plain": [
       "Counter({'cats': 5, 'dog': 5})"
      ]
     },
     "execution_count": 25,
     "metadata": {},
     "output_type": "execute_result"
    }
   ],
   "source": [
    "c"
   ]
  },
  {
   "cell_type": "code",
   "execution_count": 26,
   "id": "11122ffa",
   "metadata": {},
   "outputs": [],
   "source": [
    "c['cats'] += 3"
   ]
  },
  {
   "cell_type": "code",
   "execution_count": 27,
   "id": "cfc08fac",
   "metadata": {},
   "outputs": [
    {
     "data": {
      "text/plain": [
       "Counter({'cats': 8, 'dog': 5})"
      ]
     },
     "execution_count": 27,
     "metadata": {},
     "output_type": "execute_result"
    }
   ],
   "source": [
    "c"
   ]
  },
  {
   "cell_type": "code",
   "execution_count": 28,
   "id": "97e4af87",
   "metadata": {},
   "outputs": [],
   "source": [
    "from collections import Counter"
   ]
  },
  {
   "cell_type": "code",
   "execution_count": 29,
   "id": "9956f54a",
   "metadata": {},
   "outputs": [
    {
     "data": {
      "text/plain": [
       "Counter({'a': 2, 'b': 2, 'c': 2})"
      ]
     },
     "execution_count": 29,
     "metadata": {},
     "output_type": "execute_result"
    }
   ],
   "source": [
    "Counter('aabbcc')"
   ]
  },
  {
   "cell_type": "code",
   "execution_count": 30,
   "id": "9dc153f1",
   "metadata": {},
   "outputs": [
    {
     "data": {
      "text/plain": [
       "Counter({'a': 4, 'b': 2})"
      ]
     },
     "execution_count": 30,
     "metadata": {},
     "output_type": "execute_result"
    }
   ],
   "source": [
    "Counter('aaaabb')"
   ]
  },
  {
   "cell_type": "code",
   "execution_count": 31,
   "id": "baa59486",
   "metadata": {},
   "outputs": [
    {
     "data": {
      "text/plain": [
       "['a', 'a', 'a', 'a', 'b', 'b', 'b', 'g', 'g', 'g']"
      ]
     },
     "execution_count": 31,
     "metadata": {},
     "output_type": "execute_result"
    }
   ],
   "source": [
    "c = collections.Counter(a=4, b=3, c=0, d=-2, e=-15, g=3)\n",
    "list(c.elements())"
   ]
  },
  {
   "cell_type": "code",
   "execution_count": 32,
   "id": "808b8c72",
   "metadata": {},
   "outputs": [
    {
     "name": "stdout",
     "output_type": "stream",
     "text": [
      "a\n",
      "a\n",
      "a\n",
      "a\n",
      "b\n",
      "b\n",
      "b\n",
      "g\n",
      "g\n",
      "g\n"
     ]
    }
   ],
   "source": [
    "for e in c.elements():\n",
    "    print(e)"
   ]
  },
  {
   "cell_type": "code",
   "execution_count": 33,
   "id": "3f0aa212",
   "metadata": {},
   "outputs": [
    {
     "name": "stdout",
     "output_type": "stream",
     "text": [
      "a 4\n",
      "b 3\n",
      "g 3\n"
     ]
    }
   ],
   "source": [
    "for e,qty in c.most_common(3):\n",
    "    print(e,qty)"
   ]
  },
  {
   "cell_type": "code",
   "execution_count": 34,
   "id": "2710924b",
   "metadata": {},
   "outputs": [
    {
     "data": {
      "text/plain": [
       "Counter({'a': 3, 'b': 0, 'd': -6, 'x': 11, 'g': 5, 'h': 0})"
      ]
     },
     "execution_count": 34,
     "metadata": {},
     "output_type": "execute_result"
    }
   ],
   "source": [
    "c = collections.Counter(a=4, b=2, d=-2, x=11)\n",
    "d = collections.Counter(a=1, b=2, d=4, g=-5, h=0)\n",
    "c.subtract(d)\n",
    "c"
   ]
  },
  {
   "cell_type": "code",
   "execution_count": 35,
   "id": "93d35627",
   "metadata": {},
   "outputs": [
    {
     "data": {
      "text/plain": [
       "Counter({'a': -4, 'b': -2, 'c': 0, 'd': 2})"
      ]
     },
     "execution_count": 35,
     "metadata": {},
     "output_type": "execute_result"
    }
   ],
   "source": [
    "c = collections.Counter(a=4, b=2, c=0, d=-2)\n",
    "d = collections.Counter()\n",
    "d.subtract(c)\n",
    "d"
   ]
  },
  {
   "cell_type": "code",
   "execution_count": 36,
   "id": "93c0d9ab",
   "metadata": {},
   "outputs": [
    {
     "data": {
      "text/plain": [
       "Counter({'a': 2, 'b': 1, 'c': -1, 'd': -5})"
      ]
     },
     "execution_count": 36,
     "metadata": {},
     "output_type": "execute_result"
    }
   ],
   "source": [
    "c = collections.Counter(a=4, b=2, c=0, d=-2)\n",
    "c.subtract('aabdddc')\n",
    "c"
   ]
  },
  {
   "cell_type": "code",
   "execution_count": 37,
   "id": "3e98ad2e",
   "metadata": {},
   "outputs": [
    {
     "data": {
      "text/plain": [
       "Counter({'a': 5, 'b': 4, 'c': 0, 'd': 2, 'g': -5})"
      ]
     },
     "execution_count": 37,
     "metadata": {},
     "output_type": "execute_result"
    }
   ],
   "source": [
    "c = collections.Counter(a=4, b=2, c=0, d=-2)\n",
    "d = collections.Counter(a=1, b=2, c=0, d=4, g=-5)\n",
    "c.update(d)\n",
    "c"
   ]
  },
  {
   "cell_type": "code",
   "execution_count": 38,
   "id": "d30616f2",
   "metadata": {},
   "outputs": [
    {
     "data": {
      "text/plain": [
       "Counter({'a': 4, 'b': 2, 'c': 0, 'd': -2, 'x': 3})"
      ]
     },
     "execution_count": 38,
     "metadata": {},
     "output_type": "execute_result"
    }
   ],
   "source": [
    "c = collections.Counter(a=4, b=2, c=0, d=-2)\n",
    "c.update(['x','x','x'])\n",
    "c"
   ]
  },
  {
   "cell_type": "code",
   "execution_count": 39,
   "id": "f641cd23",
   "metadata": {},
   "outputs": [],
   "source": [
    "c = collections.Counter(a=4, b=2, c=0, d=-2)\n",
    "d = collections.Counter(a=1, b=2, c=0, d=4, g=-5)"
   ]
  },
  {
   "cell_type": "code",
   "execution_count": 40,
   "id": "afc43e2f",
   "metadata": {},
   "outputs": [
    {
     "data": {
      "text/plain": [
       "Counter({'a': 5, 'b': 4, 'd': 2})"
      ]
     },
     "execution_count": 40,
     "metadata": {},
     "output_type": "execute_result"
    }
   ],
   "source": [
    "c+d"
   ]
  },
  {
   "cell_type": "code",
   "execution_count": 41,
   "id": "e46c1c01",
   "metadata": {},
   "outputs": [
    {
     "data": {
      "text/plain": [
       "Counter({'a': 3, 'g': 5})"
      ]
     },
     "execution_count": 41,
     "metadata": {},
     "output_type": "execute_result"
    }
   ],
   "source": [
    "c-d"
   ]
  },
  {
   "cell_type": "code",
   "execution_count": 42,
   "id": "a3aa399e",
   "metadata": {},
   "outputs": [
    {
     "data": {
      "text/plain": [
       "Counter({'a': 1, 'b': 2})"
      ]
     },
     "execution_count": 42,
     "metadata": {},
     "output_type": "execute_result"
    }
   ],
   "source": [
    "c&d"
   ]
  },
  {
   "cell_type": "code",
   "execution_count": 43,
   "id": "3d7ab9aa",
   "metadata": {},
   "outputs": [
    {
     "data": {
      "text/plain": [
       "Counter({'a': 4, 'b': 2, 'd': 4})"
      ]
     },
     "execution_count": 43,
     "metadata": {},
     "output_type": "execute_result"
    }
   ],
   "source": [
    "c|d"
   ]
  },
  {
   "cell_type": "code",
   "execution_count": 44,
   "id": "26d56523",
   "metadata": {},
   "outputs": [
    {
     "data": {
      "text/plain": [
       "Counter({'a': 4, 'b': 2})"
      ]
     },
     "execution_count": 44,
     "metadata": {},
     "output_type": "execute_result"
    }
   ],
   "source": [
    "+c"
   ]
  },
  {
   "cell_type": "code",
   "execution_count": 45,
   "id": "30a16475",
   "metadata": {},
   "outputs": [
    {
     "data": {
      "text/plain": [
       "Counter({'d': 2})"
      ]
     },
     "execution_count": 45,
     "metadata": {},
     "output_type": "execute_result"
    }
   ],
   "source": [
    "-c"
   ]
  },
  {
   "cell_type": "markdown",
   "id": "6c5bca96",
   "metadata": {},
   "source": [
    "collections.defaultdict"
   ]
  },
  {
   "cell_type": "code",
   "execution_count": 51,
   "id": "9ef9b68b",
   "metadata": {},
   "outputs": [
    {
     "data": {
      "text/plain": [
       "{'The': [0],\n",
       " 'red': [1],\n",
       " 'for': [2, 12],\n",
       " 'jumped': [3],\n",
       " 'over': [4],\n",
       " 'the': [5, 10],\n",
       " 'fence': [6],\n",
       " '\\nand': [7],\n",
       " 'ran': [8],\n",
       " 'to': [9],\n",
       " 'zoo': [11],\n",
       " 'food.': [13]}"
      ]
     },
     "execution_count": 51,
     "metadata": {},
     "output_type": "execute_result"
    }
   ],
   "source": [
    "sentence = '''The red for jumped over the fence \n",
    "and ran to the zoo for food.'''\n",
    "words = sentence.split(' ')\n",
    "reg_dict = {}\n",
    "for ind,word in enumerate(words):\n",
    "    if word in reg_dict:\n",
    "        reg_dict[word] += [ind]\n",
    "    else:\n",
    "        reg_dict[word] = [ind]\n",
    "reg_dict"
   ]
  },
  {
   "cell_type": "code",
   "execution_count": 52,
   "id": "82b7047a",
   "metadata": {},
   "outputs": [
    {
     "data": {
      "text/plain": [
       "[]"
      ]
     },
     "execution_count": 52,
     "metadata": {},
     "output_type": "execute_result"
    }
   ],
   "source": [
    "list()"
   ]
  },
  {
   "cell_type": "code",
   "execution_count": 53,
   "id": "2dda229e",
   "metadata": {},
   "outputs": [
    {
     "data": {
      "text/plain": [
       "defaultdict(list,\n",
       "            {'The': [0],\n",
       "             'red': [1],\n",
       "             'for': [2, 12],\n",
       "             'jumped': [3],\n",
       "             'over': [4],\n",
       "             'the': [5, 10],\n",
       "             'fence': [6],\n",
       "             '\\nand': [7],\n",
       "             'ran': [8],\n",
       "             'to': [9],\n",
       "             'zoo': [11],\n",
       "             'food.': [13]})"
      ]
     },
     "execution_count": 53,
     "metadata": {},
     "output_type": "execute_result"
    }
   ],
   "source": [
    "from collections import defaultdict\n",
    "sentence = '''The red for jumped over the fence \n",
    "and ran to the zoo for food.'''\n",
    "words = sentence.split(' ')\n",
    "d = defaultdict(list)\n",
    "for ind,word in enumerate(words):\n",
    "    d[word] += [ind]\n",
    "d"
   ]
  },
  {
   "cell_type": "code",
   "execution_count": 54,
   "id": "d526f5e1",
   "metadata": {},
   "outputs": [
    {
     "data": {
      "text/plain": [
       "defaultdict(list,\n",
       "            {'The': [0],\n",
       "             'red': [1],\n",
       "             'for': [2, 12],\n",
       "             'jumped': [3],\n",
       "             'over': [4],\n",
       "             'the': [5, 10],\n",
       "             'fence': [6],\n",
       "             '\\nand': [7],\n",
       "             'ran': [8],\n",
       "             'to': [9],\n",
       "             'zoo': [11],\n",
       "             'food.': [13]})"
      ]
     },
     "execution_count": 54,
     "metadata": {},
     "output_type": "execute_result"
    }
   ],
   "source": [
    "from collections import defaultdict\n",
    "sentence = '''The red for jumped over the fence \n",
    "and ran to the zoo for food.'''\n",
    "words = sentence.split(' ')\n",
    "d = defaultdict(list)\n",
    "for ind,word in enumerate(words):\n",
    "    d[word].append(ind)\n",
    "d"
   ]
  },
  {
   "cell_type": "markdown",
   "id": "11157c44",
   "metadata": {},
   "source": [
    "OrderedDict"
   ]
  },
  {
   "cell_type": "code",
   "execution_count": 55,
   "id": "cf180243",
   "metadata": {},
   "outputs": [],
   "source": [
    "from collections import OrderedDict"
   ]
  },
  {
   "cell_type": "code",
   "execution_count": 56,
   "id": "ee597d7b",
   "metadata": {},
   "outputs": [
    {
     "data": {
      "text/plain": [
       "OrderedDict()"
      ]
     },
     "execution_count": 56,
     "metadata": {},
     "output_type": "execute_result"
    }
   ],
   "source": [
    "od = OrderedDict()\n",
    "od"
   ]
  },
  {
   "cell_type": "code",
   "execution_count": 57,
   "id": "9f762aae",
   "metadata": {},
   "outputs": [
    {
     "data": {
      "text/plain": [
       "OrderedDict([('x', 2), ('z', 3), ('v', 4)])"
      ]
     },
     "execution_count": 57,
     "metadata": {},
     "output_type": "execute_result"
    }
   ],
   "source": [
    "od_a = OrderedDict(x=2, z=3, v=4)\n",
    "od_a"
   ]
  },
  {
   "cell_type": "code",
   "execution_count": 58,
   "id": "4386c314",
   "metadata": {},
   "outputs": [
    {
     "data": {
      "text/plain": [
       "OrderedDict([('z', 3), ('v', 4), ('x', 2)])"
      ]
     },
     "execution_count": 58,
     "metadata": {},
     "output_type": "execute_result"
    }
   ],
   "source": [
    "od_b = OrderedDict(z=3, v=4, x=2)\n",
    "od_b"
   ]
  },
  {
   "cell_type": "code",
   "execution_count": 59,
   "id": "30e36d03",
   "metadata": {},
   "outputs": [
    {
     "data": {
      "text/plain": [
       "False"
      ]
     },
     "execution_count": 59,
     "metadata": {},
     "output_type": "execute_result"
    }
   ],
   "source": [
    "od_a == od_b"
   ]
  },
  {
   "cell_type": "code",
   "execution_count": 61,
   "id": "d25e34db",
   "metadata": {},
   "outputs": [
    {
     "data": {
      "text/plain": [
       "{'x': 2, 'z': 3, 'v': 4}"
      ]
     },
     "execution_count": 61,
     "metadata": {},
     "output_type": "execute_result"
    }
   ],
   "source": [
    "d_a = dict(od_a)\n",
    "d_a"
   ]
  },
  {
   "cell_type": "code",
   "execution_count": 63,
   "id": "c544423e",
   "metadata": {},
   "outputs": [
    {
     "data": {
      "text/plain": [
       "{'z': 3, 'v': 4, 'x': 2}"
      ]
     },
     "execution_count": 63,
     "metadata": {},
     "output_type": "execute_result"
    }
   ],
   "source": [
    "d_b = dict(od_b)\n",
    "d_b"
   ]
  },
  {
   "cell_type": "code",
   "execution_count": 65,
   "id": "75ba7db2",
   "metadata": {},
   "outputs": [
    {
     "data": {
      "text/plain": [
       "True"
      ]
     },
     "execution_count": 65,
     "metadata": {},
     "output_type": "execute_result"
    }
   ],
   "source": [
    "d_a == d_b"
   ]
  },
  {
   "cell_type": "markdown",
   "id": "7f0f943a",
   "metadata": {},
   "source": [
    "collections.namedtuple"
   ]
  },
  {
   "cell_type": "code",
   "execution_count": 66,
   "id": "60fb6cb5",
   "metadata": {},
   "outputs": [],
   "source": [
    "NAME = 0\n",
    "VALUE = 1"
   ]
  },
  {
   "cell_type": "code",
   "execution_count": 67,
   "id": "a78e0cbf",
   "metadata": {},
   "outputs": [],
   "source": [
    "c1 = ('Masha', 42)"
   ]
  },
  {
   "cell_type": "code",
   "execution_count": 68,
   "id": "2a70f881",
   "metadata": {},
   "outputs": [
    {
     "data": {
      "text/plain": [
       "'Masha'"
      ]
     },
     "execution_count": 68,
     "metadata": {},
     "output_type": "execute_result"
    }
   ],
   "source": [
    "c1[0]"
   ]
  },
  {
   "cell_type": "code",
   "execution_count": 69,
   "id": "ba3ada48",
   "metadata": {},
   "outputs": [
    {
     "data": {
      "text/plain": [
       "'Masha'"
      ]
     },
     "execution_count": 69,
     "metadata": {},
     "output_type": "execute_result"
    }
   ],
   "source": [
    "c1[NAME]"
   ]
  },
  {
   "cell_type": "code",
   "execution_count": 70,
   "id": "25792bfc",
   "metadata": {},
   "outputs": [],
   "source": [
    "from collections import namedtuple"
   ]
  },
  {
   "cell_type": "code",
   "execution_count": 73,
   "id": "19734d80",
   "metadata": {},
   "outputs": [
    {
     "data": {
      "text/plain": [
       "Point(x=11, y=12)"
      ]
     },
     "execution_count": 73,
     "metadata": {},
     "output_type": "execute_result"
    }
   ],
   "source": [
    "Point = namedtuple('Point', ['x','y'])\n",
    "p = Point(11,12)\n",
    "p"
   ]
  },
  {
   "cell_type": "code",
   "execution_count": 74,
   "id": "74e69efb",
   "metadata": {},
   "outputs": [
    {
     "data": {
      "text/plain": [
       "11"
      ]
     },
     "execution_count": 74,
     "metadata": {},
     "output_type": "execute_result"
    }
   ],
   "source": [
    "p.x"
   ]
  },
  {
   "cell_type": "code",
   "execution_count": 75,
   "id": "cb2a9962",
   "metadata": {},
   "outputs": [
    {
     "data": {
      "text/plain": [
       "12"
      ]
     },
     "execution_count": 75,
     "metadata": {},
     "output_type": "execute_result"
    }
   ],
   "source": [
    "p.y"
   ]
  },
  {
   "cell_type": "code",
   "execution_count": 76,
   "id": "96a5e62f",
   "metadata": {},
   "outputs": [
    {
     "data": {
      "text/plain": [
       "__main__.Point"
      ]
     },
     "execution_count": 76,
     "metadata": {},
     "output_type": "execute_result"
    }
   ],
   "source": [
    "type(p)"
   ]
  },
  {
   "cell_type": "code",
   "execution_count": 77,
   "id": "abc35d64",
   "metadata": {},
   "outputs": [
    {
     "data": {
      "text/plain": [
       "__main__.Point"
      ]
     },
     "execution_count": 77,
     "metadata": {},
     "output_type": "execute_result"
    }
   ],
   "source": [
    "Point"
   ]
  },
  {
   "cell_type": "code",
   "execution_count": 78,
   "id": "8575625b",
   "metadata": {},
   "outputs": [
    {
     "data": {
      "text/plain": [
       "type"
      ]
     },
     "execution_count": 78,
     "metadata": {},
     "output_type": "execute_result"
    }
   ],
   "source": [
    "type(Point)"
   ]
  },
  {
   "cell_type": "code",
   "execution_count": 79,
   "id": "d0f12b02",
   "metadata": {},
   "outputs": [
    {
     "data": {
      "text/plain": [
       "type"
      ]
     },
     "execution_count": 79,
     "metadata": {},
     "output_type": "execute_result"
    }
   ],
   "source": [
    "type(tuple)"
   ]
  },
  {
   "cell_type": "code",
   "execution_count": 80,
   "id": "72911ed1",
   "metadata": {},
   "outputs": [],
   "source": [
    "p2 = Point(y=7, x=11)"
   ]
  },
  {
   "cell_type": "code",
   "execution_count": 81,
   "id": "f8941a33",
   "metadata": {},
   "outputs": [
    {
     "data": {
      "text/plain": [
       "Point(x=11, y=7)"
      ]
     },
     "execution_count": 81,
     "metadata": {},
     "output_type": "execute_result"
    }
   ],
   "source": [
    "p2"
   ]
  },
  {
   "cell_type": "code",
   "execution_count": 82,
   "id": "ec493fd6",
   "metadata": {},
   "outputs": [
    {
     "ename": "AttributeError",
     "evalue": "can't set attribute",
     "output_type": "error",
     "traceback": [
      "\u001b[0;31m---------------------------------------------------------------------------\u001b[0m",
      "\u001b[0;31mAttributeError\u001b[0m                            Traceback (most recent call last)",
      "Cell \u001b[0;32mIn[82], line 1\u001b[0m\n\u001b[0;32m----> 1\u001b[0m p2\u001b[38;5;241m.\u001b[39mx \u001b[38;5;241m=\u001b[39m \u001b[38;5;241m8\u001b[39m\n",
      "\u001b[0;31mAttributeError\u001b[0m: can't set attribute"
     ]
    }
   ],
   "source": [
    "p2.x = 8"
   ]
  },
  {
   "cell_type": "code",
   "execution_count": 83,
   "id": "ab65a6df",
   "metadata": {},
   "outputs": [
    {
     "data": {
      "text/plain": [
       "23"
      ]
     },
     "execution_count": 83,
     "metadata": {},
     "output_type": "execute_result"
    }
   ],
   "source": [
    "p[0] + p[1]"
   ]
  },
  {
   "cell_type": "code",
   "execution_count": 85,
   "id": "39c0c7fe",
   "metadata": {},
   "outputs": [
    {
     "data": {
      "text/plain": [
       "23"
      ]
     },
     "execution_count": 85,
     "metadata": {},
     "output_type": "execute_result"
    }
   ],
   "source": [
    "p.x + p.y"
   ]
  },
  {
   "cell_type": "code",
   "execution_count": 84,
   "id": "299c11df",
   "metadata": {},
   "outputs": [
    {
     "data": {
      "text/plain": [
       "(11, 12)"
      ]
     },
     "execution_count": 84,
     "metadata": {},
     "output_type": "execute_result"
    }
   ],
   "source": [
    "a,b = p\n",
    "a, b"
   ]
  },
  {
   "cell_type": "code",
   "execution_count": 86,
   "id": "bec35ea5",
   "metadata": {},
   "outputs": [
    {
     "data": {
      "text/plain": [
       "Point2(x=11, y=22, z=0)"
      ]
     },
     "execution_count": 86,
     "metadata": {},
     "output_type": "execute_result"
    }
   ],
   "source": [
    "Point2 = namedtuple('Point2', 'x y z')\n",
    "d = {'x':11, 'y':22, 'z':0}\n",
    "Point2(**d)"
   ]
  },
  {
   "cell_type": "code",
   "execution_count": 87,
   "id": "0489deb3",
   "metadata": {},
   "outputs": [
    {
     "data": {
      "text/plain": [
       "MyPoint(x=11, y=22)"
      ]
     },
     "execution_count": 87,
     "metadata": {},
     "output_type": "execute_result"
    }
   ],
   "source": [
    "s = namedtuple('MyPoint', ['x','y'])\n",
    "s(x=11,y=22)"
   ]
  },
  {
   "cell_type": "code",
   "execution_count": 88,
   "id": "45f84708",
   "metadata": {},
   "outputs": [
    {
     "ename": "ValueError",
     "evalue": "Type names and field names must be valid identifiers: '2y'",
     "output_type": "error",
     "traceback": [
      "\u001b[0;31m---------------------------------------------------------------------------\u001b[0m",
      "\u001b[0;31mValueError\u001b[0m                                Traceback (most recent call last)",
      "Cell \u001b[0;32mIn[88], line 1\u001b[0m\n\u001b[0;32m----> 1\u001b[0m Point \u001b[38;5;241m=\u001b[39m namedtuple(\u001b[38;5;124m'\u001b[39m\u001b[38;5;124mPoint\u001b[39m\u001b[38;5;124m'\u001b[39m, [\u001b[38;5;124m'\u001b[39m\u001b[38;5;124mx\u001b[39m\u001b[38;5;124m'\u001b[39m,\u001b[38;5;124m'\u001b[39m\u001b[38;5;124m2y\u001b[39m\u001b[38;5;124m'\u001b[39m,\u001b[38;5;124m'\u001b[39m\u001b[38;5;124mz\u001b[39m\u001b[38;5;124m'\u001b[39m,\u001b[38;5;124m'\u001b[39m\u001b[38;5;124mdef\u001b[39m\u001b[38;5;124m'\u001b[39m])\n",
      "File \u001b[0;32m~/anaconda3/lib/python3.11/collections/__init__.py:393\u001b[0m, in \u001b[0;36mnamedtuple\u001b[0;34m(typename, field_names, rename, defaults, module)\u001b[0m\n\u001b[1;32m    391\u001b[0m     \u001b[38;5;28;01mraise\u001b[39;00m \u001b[38;5;167;01mTypeError\u001b[39;00m(\u001b[38;5;124m'\u001b[39m\u001b[38;5;124mType names and field names must be strings\u001b[39m\u001b[38;5;124m'\u001b[39m)\n\u001b[1;32m    392\u001b[0m \u001b[38;5;28;01mif\u001b[39;00m \u001b[38;5;129;01mnot\u001b[39;00m name\u001b[38;5;241m.\u001b[39misidentifier():\n\u001b[0;32m--> 393\u001b[0m     \u001b[38;5;28;01mraise\u001b[39;00m \u001b[38;5;167;01mValueError\u001b[39;00m(\u001b[38;5;124m'\u001b[39m\u001b[38;5;124mType names and field names must be valid \u001b[39m\u001b[38;5;124m'\u001b[39m\n\u001b[1;32m    394\u001b[0m                      \u001b[38;5;124mf\u001b[39m\u001b[38;5;124m'\u001b[39m\u001b[38;5;124midentifiers: \u001b[39m\u001b[38;5;132;01m{\u001b[39;00mname\u001b[38;5;132;01m!r}\u001b[39;00m\u001b[38;5;124m'\u001b[39m)\n\u001b[1;32m    395\u001b[0m \u001b[38;5;28;01mif\u001b[39;00m _iskeyword(name):\n\u001b[1;32m    396\u001b[0m     \u001b[38;5;28;01mraise\u001b[39;00m \u001b[38;5;167;01mValueError\u001b[39;00m(\u001b[38;5;124m'\u001b[39m\u001b[38;5;124mType names and field names cannot be a \u001b[39m\u001b[38;5;124m'\u001b[39m\n\u001b[1;32m    397\u001b[0m                      \u001b[38;5;124mf\u001b[39m\u001b[38;5;124m'\u001b[39m\u001b[38;5;124mkeyword: \u001b[39m\u001b[38;5;132;01m{\u001b[39;00mname\u001b[38;5;132;01m!r}\u001b[39;00m\u001b[38;5;124m'\u001b[39m)\n",
      "\u001b[0;31mValueError\u001b[0m: Type names and field names must be valid identifiers: '2y'"
     ]
    }
   ],
   "source": [
    "Point = namedtuple('Point', ['x','2y','z','def'])"
   ]
  },
  {
   "cell_type": "code",
   "execution_count": 89,
   "id": "6d6fbd3d",
   "metadata": {},
   "outputs": [
    {
     "data": {
      "text/plain": [
       "('x', '_1', 'z', '_3', '_4')"
      ]
     },
     "execution_count": 89,
     "metadata": {},
     "output_type": "execute_result"
    }
   ],
   "source": [
    "Point = namedtuple('Point',['x','2y','z','x','def'], rename = True)\n",
    "Point._fields"
   ]
  },
  {
   "cell_type": "code",
   "execution_count": 91,
   "id": "1d636e56",
   "metadata": {},
   "outputs": [
    {
     "data": {
      "text/plain": [
       "'www.python.org'"
      ]
     },
     "execution_count": 91,
     "metadata": {},
     "output_type": "execute_result"
    }
   ],
   "source": [
    "NetworkAddress = namedtuple('NetworkAddress', ['hostname','port'])\n",
    "a = NetworkAddress('www.python.org', 80)\n",
    "a.hostname"
   ]
  },
  {
   "cell_type": "code",
   "execution_count": 92,
   "id": "f317c159",
   "metadata": {},
   "outputs": [
    {
     "data": {
      "text/plain": [
       "80"
      ]
     },
     "execution_count": 92,
     "metadata": {},
     "output_type": "execute_result"
    }
   ],
   "source": [
    "a.port"
   ]
  },
  {
   "cell_type": "code",
   "execution_count": 93,
   "id": "3103bf4b",
   "metadata": {},
   "outputs": [
    {
     "data": {
      "text/plain": [
       "False"
      ]
     },
     "execution_count": 93,
     "metadata": {},
     "output_type": "execute_result"
    }
   ],
   "source": [
    "type(a) == tuple"
   ]
  },
  {
   "cell_type": "code",
   "execution_count": 94,
   "id": "10cc88f0",
   "metadata": {},
   "outputs": [
    {
     "data": {
      "text/plain": [
       "True"
      ]
     },
     "execution_count": 94,
     "metadata": {},
     "output_type": "execute_result"
    }
   ],
   "source": [
    "isinstance(a, tuple)"
   ]
  },
  {
   "cell_type": "code",
   "execution_count": null,
   "id": "f9c4f0b7",
   "metadata": {},
   "outputs": [],
   "source": [
    "import csv\n",
    "with open ('employees.csv', 'r') as f:\n",
    "    f_csv = csv.reader(f)\n",
    "    EmployeeRecord = namedtuple('EmployeeRecord', next(f_csv))\n",
    "    for line in f_csv:\n",
    "        emp1 = EmployeeRecord.make(line)\n",
    "        print(emp1.name, emp1.title)"
   ]
  },
  {
   "cell_type": "code",
   "execution_count": 97,
   "id": "4f9c407a",
   "metadata": {},
   "outputs": [],
   "source": [
    "Point = namedtuple('Point', ['x','y'])"
   ]
  },
  {
   "cell_type": "code",
   "execution_count": 98,
   "id": "f18fe275",
   "metadata": {},
   "outputs": [
    {
     "data": {
      "text/plain": [
       "Point(x=11, y=22)"
      ]
     },
     "execution_count": 98,
     "metadata": {},
     "output_type": "execute_result"
    }
   ],
   "source": [
    "t = [11, 22]\n",
    "Point._make(t)"
   ]
  },
  {
   "cell_type": "code",
   "execution_count": 99,
   "id": "e13795e8",
   "metadata": {},
   "outputs": [
    {
     "data": {
      "text/plain": [
       "{'x': 11, 'y': 22}"
      ]
     },
     "execution_count": 99,
     "metadata": {},
     "output_type": "execute_result"
    }
   ],
   "source": [
    "p = Point(x=11, y=22)\n",
    "d1 = p._asdict()\n",
    "d1"
   ]
  },
  {
   "cell_type": "code",
   "execution_count": 100,
   "id": "7c141d86",
   "metadata": {},
   "outputs": [
    {
     "name": "stdout",
     "output_type": "stream",
     "text": [
      "x 11\n",
      "y 22\n"
     ]
    }
   ],
   "source": [
    "for k,v in d1.items():\n",
    "    print(k,v)"
   ]
  },
  {
   "cell_type": "code",
   "execution_count": 101,
   "id": "8c6c7216",
   "metadata": {},
   "outputs": [
    {
     "data": {
      "text/plain": [
       "Point(x=33, y=22)"
      ]
     },
     "execution_count": 101,
     "metadata": {},
     "output_type": "execute_result"
    }
   ],
   "source": [
    "p = Point(x=11, y=22)\n",
    "p2 = p._replace(x=33)\n",
    "p2"
   ]
  },
  {
   "cell_type": "code",
   "execution_count": 102,
   "id": "7ace65d1",
   "metadata": {},
   "outputs": [
    {
     "data": {
      "text/plain": [
       "False"
      ]
     },
     "execution_count": 102,
     "metadata": {},
     "output_type": "execute_result"
    }
   ],
   "source": [
    "p is p2"
   ]
  },
  {
   "cell_type": "code",
   "execution_count": 103,
   "id": "a6e30369",
   "metadata": {},
   "outputs": [
    {
     "data": {
      "text/plain": [
       "Point(x=11, y=22)"
      ]
     },
     "execution_count": 103,
     "metadata": {},
     "output_type": "execute_result"
    }
   ],
   "source": [
    "p"
   ]
  },
  {
   "cell_type": "code",
   "execution_count": 106,
   "id": "79822130",
   "metadata": {},
   "outputs": [],
   "source": [
    "Account = namedtuple('Account', 'owner balance transaction_count')\n",
    "default_account = Account('<owner name>', 0.0, 0)\n",
    "johns_account = default_account._replace(owner='John')\n",
    "janes_account = default_account._replace(owner='Jane')"
   ]
  },
  {
   "cell_type": "code",
   "execution_count": 107,
   "id": "5141a794",
   "metadata": {},
   "outputs": [
    {
     "data": {
      "text/plain": [
       "Account(owner='<owner name>', balance=0.0, transaction_count=0)"
      ]
     },
     "execution_count": 107,
     "metadata": {},
     "output_type": "execute_result"
    }
   ],
   "source": [
    "default_account"
   ]
  },
  {
   "cell_type": "code",
   "execution_count": 108,
   "id": "e574824d",
   "metadata": {},
   "outputs": [
    {
     "data": {
      "text/plain": [
       "Account(owner='John', balance=0.0, transaction_count=0)"
      ]
     },
     "execution_count": 108,
     "metadata": {},
     "output_type": "execute_result"
    }
   ],
   "source": [
    "johns_account"
   ]
  },
  {
   "cell_type": "code",
   "execution_count": 109,
   "id": "7f6c95a6",
   "metadata": {},
   "outputs": [
    {
     "data": {
      "text/plain": [
       "Account(owner='Jane', balance=0.0, transaction_count=0)"
      ]
     },
     "execution_count": 109,
     "metadata": {},
     "output_type": "execute_result"
    }
   ],
   "source": [
    "janes_account"
   ]
  },
  {
   "cell_type": "code",
   "execution_count": 110,
   "id": "606d6bbc",
   "metadata": {},
   "outputs": [
    {
     "data": {
      "text/plain": [
       "('x', 'y')"
      ]
     },
     "execution_count": 110,
     "metadata": {},
     "output_type": "execute_result"
    }
   ],
   "source": [
    "p._fields"
   ]
  },
  {
   "cell_type": "code",
   "execution_count": 112,
   "id": "bb70044e",
   "metadata": {},
   "outputs": [
    {
     "data": {
      "text/plain": [
       "Pixel(x=11, y=22, red=128, green=255, blue=0)"
      ]
     },
     "execution_count": 112,
     "metadata": {},
     "output_type": "execute_result"
    }
   ],
   "source": [
    "Color = namedtuple('Color', 'red green blue')\n",
    "Pixel = namedtuple('Pixel', Point._fields + Color._fields)\n",
    "px1 = Pixel(11, 22, 128, 255, 0)\n",
    "px1"
   ]
  },
  {
   "cell_type": "code",
   "execution_count": 113,
   "id": "3dd88af8",
   "metadata": {},
   "outputs": [
    {
     "data": {
      "text/plain": [
       "Pixel(x=11, y=22, red=128, green=255, blue=0)"
      ]
     },
     "execution_count": 113,
     "metadata": {},
     "output_type": "execute_result"
    }
   ],
   "source": [
    "px2 = Pixel(x=11, y=22, red=128, green=255, blue=0)\n",
    "px2"
   ]
  },
  {
   "cell_type": "code",
   "execution_count": 114,
   "id": "2266547a",
   "metadata": {},
   "outputs": [
    {
     "data": {
      "text/plain": [
       "11"
      ]
     },
     "execution_count": 114,
     "metadata": {},
     "output_type": "execute_result"
    }
   ],
   "source": [
    "getattr(p, 'x')"
   ]
  },
  {
   "cell_type": "code",
   "execution_count": 115,
   "id": "5edeea33",
   "metadata": {},
   "outputs": [
    {
     "data": {
      "text/plain": [
       "128"
      ]
     },
     "execution_count": 115,
     "metadata": {},
     "output_type": "execute_result"
    }
   ],
   "source": [
    "getattr(px1,'red')"
   ]
  },
  {
   "cell_type": "code",
   "execution_count": 116,
   "id": "53164573",
   "metadata": {},
   "outputs": [
    {
     "name": "stdout",
     "output_type": "stream",
     "text": [
      "128\n",
      "22\n",
      "11\n"
     ]
    }
   ],
   "source": [
    "fields = ['red','y','x']\n",
    "for field in fields:\n",
    "    print(getattr(px2, field))"
   ]
  },
  {
   "cell_type": "markdown",
   "id": "06a540d6",
   "metadata": {},
   "source": [
    "Модуль enum"
   ]
  },
  {
   "cell_type": "code",
   "execution_count": 119,
   "id": "3fbdf1d7",
   "metadata": {},
   "outputs": [],
   "source": [
    "from enum import Enum,auto\n",
    "class Color(Enum):\n",
    "    RED = 1\n",
    "    GREEN = 2\n",
    "    BLUE = 3"
   ]
  },
  {
   "cell_type": "code",
   "execution_count": 121,
   "id": "da293b87",
   "metadata": {},
   "outputs": [
    {
     "name": "stdout",
     "output_type": "stream",
     "text": [
      "Color.RED\n"
     ]
    }
   ],
   "source": [
    "print(Color.RED)"
   ]
  },
  {
   "cell_type": "code",
   "execution_count": 122,
   "id": "14256063",
   "metadata": {},
   "outputs": [
    {
     "name": "stdout",
     "output_type": "stream",
     "text": [
      "<Color.RED: 1>\n"
     ]
    }
   ],
   "source": [
    "print(repr(Color.RED))"
   ]
  },
  {
   "cell_type": "code",
   "execution_count": 123,
   "id": "918c82a8",
   "metadata": {},
   "outputs": [
    {
     "data": {
      "text/plain": [
       "<enum 'Color'>"
      ]
     },
     "execution_count": 123,
     "metadata": {},
     "output_type": "execute_result"
    }
   ],
   "source": [
    "type(Color.RED)"
   ]
  },
  {
   "cell_type": "code",
   "execution_count": 124,
   "id": "8ef00cee",
   "metadata": {},
   "outputs": [
    {
     "data": {
      "text/plain": [
       "True"
      ]
     },
     "execution_count": 124,
     "metadata": {},
     "output_type": "execute_result"
    }
   ],
   "source": [
    "isinstance(Color.GREEN, Color)"
   ]
  },
  {
   "cell_type": "code",
   "execution_count": 126,
   "id": "21a6edd8",
   "metadata": {},
   "outputs": [],
   "source": [
    "class Color2(Enum):\n",
    "    RED = 1\n",
    "    GREEN = 2\n",
    "    BLUE = 3\n",
    "    GRAY = auto()\n",
    "    NOT_SET = None"
   ]
  },
  {
   "cell_type": "code",
   "execution_count": 127,
   "id": "fbcb11fd",
   "metadata": {},
   "outputs": [
    {
     "data": {
      "text/plain": [
       "<Color2.GRAY: 4>"
      ]
     },
     "execution_count": 127,
     "metadata": {},
     "output_type": "execute_result"
    }
   ],
   "source": [
    "Color2.GRAY"
   ]
  },
  {
   "cell_type": "code",
   "execution_count": 129,
   "id": "64557822",
   "metadata": {},
   "outputs": [
    {
     "data": {
      "text/plain": [
       "<Color2.NOT_SET: None>"
      ]
     },
     "execution_count": 129,
     "metadata": {},
     "output_type": "execute_result"
    }
   ],
   "source": [
    "Color2.NOT_SET"
   ]
  },
  {
   "cell_type": "code",
   "execution_count": 130,
   "id": "97c02bbb",
   "metadata": {},
   "outputs": [
    {
     "name": "stdout",
     "output_type": "stream",
     "text": [
      "Shake.VANILLA\n",
      "Shake.CHOCOLATE\n",
      "Shake.COOKIES\n",
      "Shake.MINT\n"
     ]
    }
   ],
   "source": [
    "class Shake(Enum):\n",
    "    VANILLA = 7\n",
    "    CHOCOLATE = 4\n",
    "    COOKIES = 9\n",
    "    MINT = 3\n",
    "for shake in Shake:\n",
    "    print(shake)"
   ]
  },
  {
   "cell_type": "code",
   "execution_count": 131,
   "id": "648eee37",
   "metadata": {},
   "outputs": [
    {
     "data": {
      "text/plain": [
       "True"
      ]
     },
     "execution_count": 131,
     "metadata": {},
     "output_type": "execute_result"
    }
   ],
   "source": [
    "apples = {}\n",
    "apples[Color.RED] = 'red delicious'\n",
    "apples[Color.GREEN] = 'granny smith'\n",
    "apples == {Color.RED:'red delicious', Color.GREEN:'granny smith'}"
   ]
  },
  {
   "cell_type": "code",
   "execution_count": 132,
   "id": "b13a215e",
   "metadata": {},
   "outputs": [
    {
     "data": {
      "text/plain": [
       "<Color.RED: 1>"
      ]
     },
     "execution_count": 132,
     "metadata": {},
     "output_type": "execute_result"
    }
   ],
   "source": [
    "Color(1)"
   ]
  },
  {
   "cell_type": "code",
   "execution_count": 133,
   "id": "c75c76fe",
   "metadata": {},
   "outputs": [
    {
     "data": {
      "text/plain": [
       "<Color.RED: 1>"
      ]
     },
     "execution_count": 133,
     "metadata": {},
     "output_type": "execute_result"
    }
   ],
   "source": [
    "Color['RED']"
   ]
  },
  {
   "cell_type": "code",
   "execution_count": 134,
   "id": "b9c201e0",
   "metadata": {},
   "outputs": [
    {
     "data": {
      "text/plain": [
       "('RED', 1)"
      ]
     },
     "execution_count": 134,
     "metadata": {},
     "output_type": "execute_result"
    }
   ],
   "source": [
    "member = Color.RED\n",
    "member.name, member.value"
   ]
  },
  {
   "cell_type": "code",
   "execution_count": 135,
   "id": "a84ccb03",
   "metadata": {},
   "outputs": [
    {
     "data": {
      "text/plain": [
       "1"
      ]
     },
     "execution_count": 135,
     "metadata": {},
     "output_type": "execute_result"
    }
   ],
   "source": [
    "Color.RED.value"
   ]
  },
  {
   "cell_type": "code",
   "execution_count": 136,
   "id": "a00ec191",
   "metadata": {},
   "outputs": [
    {
     "ename": "TypeError",
     "evalue": "'QWE' already defined as 2",
     "output_type": "error",
     "traceback": [
      "\u001b[0;31m---------------------------------------------------------------------------\u001b[0m",
      "\u001b[0;31mTypeError\u001b[0m                                 Traceback (most recent call last)",
      "Cell \u001b[0;32mIn[136], line 1\u001b[0m\n\u001b[0;32m----> 1\u001b[0m \u001b[38;5;28;01mclass\u001b[39;00m \u001b[38;5;21;01mShape\u001b[39;00m (Enum):\n\u001b[1;32m      2\u001b[0m     QWE \u001b[38;5;241m=\u001b[39m \u001b[38;5;241m2\u001b[39m\n\u001b[1;32m      3\u001b[0m     QWE \u001b[38;5;241m=\u001b[39m \u001b[38;5;241m3\u001b[39m\n",
      "Cell \u001b[0;32mIn[136], line 3\u001b[0m, in \u001b[0;36mShape\u001b[0;34m()\u001b[0m\n\u001b[1;32m      1\u001b[0m \u001b[38;5;28;01mclass\u001b[39;00m \u001b[38;5;21;01mShape\u001b[39;00m (Enum):\n\u001b[1;32m      2\u001b[0m     QWE \u001b[38;5;241m=\u001b[39m \u001b[38;5;241m2\u001b[39m\n\u001b[0;32m----> 3\u001b[0m     QWE \u001b[38;5;241m=\u001b[39m \u001b[38;5;241m3\u001b[39m\n",
      "File \u001b[0;32m~/anaconda3/lib/python3.11/enum.py:417\u001b[0m, in \u001b[0;36m_EnumDict.__setitem__\u001b[0;34m(self, key, value)\u001b[0m\n\u001b[1;32m    414\u001b[0m         key \u001b[38;5;241m=\u001b[39m \u001b[38;5;124m'\u001b[39m\u001b[38;5;124m_order_\u001b[39m\u001b[38;5;124m'\u001b[39m\n\u001b[1;32m    415\u001b[0m \u001b[38;5;28;01melif\u001b[39;00m key \u001b[38;5;129;01min\u001b[39;00m \u001b[38;5;28mself\u001b[39m\u001b[38;5;241m.\u001b[39m_member_names:\n\u001b[1;32m    416\u001b[0m     \u001b[38;5;66;03m# descriptor overwriting an enum?\u001b[39;00m\n\u001b[0;32m--> 417\u001b[0m     \u001b[38;5;28;01mraise\u001b[39;00m \u001b[38;5;167;01mTypeError\u001b[39;00m(\u001b[38;5;124m'\u001b[39m\u001b[38;5;132;01m%r\u001b[39;00m\u001b[38;5;124m already defined as \u001b[39m\u001b[38;5;132;01m%r\u001b[39;00m\u001b[38;5;124m'\u001b[39m \u001b[38;5;241m%\u001b[39m (key, \u001b[38;5;28mself\u001b[39m[key]))\n\u001b[1;32m    418\u001b[0m \u001b[38;5;28;01melif\u001b[39;00m key \u001b[38;5;129;01min\u001b[39;00m \u001b[38;5;28mself\u001b[39m\u001b[38;5;241m.\u001b[39m_ignore:\n\u001b[1;32m    419\u001b[0m     \u001b[38;5;28;01mpass\u001b[39;00m\n",
      "\u001b[0;31mTypeError\u001b[0m: 'QWE' already defined as 2"
     ]
    }
   ],
   "source": [
    "class Shape (Enum):\n",
    "    QWE = 2\n",
    "    QWE = 3"
   ]
  },
  {
   "cell_type": "code",
   "execution_count": 137,
   "id": "d8b65009",
   "metadata": {},
   "outputs": [],
   "source": [
    "class Shape(Enum):\n",
    "    QWE = 2\n",
    "    RTY = 1\n",
    "    UIO = 3\n",
    "    QWE_ZXC = 2"
   ]
  },
  {
   "cell_type": "code",
   "execution_count": 138,
   "id": "b0d2ea24",
   "metadata": {},
   "outputs": [
    {
     "data": {
      "text/plain": [
       "<Shape.QWE: 2>"
      ]
     },
     "execution_count": 138,
     "metadata": {},
     "output_type": "execute_result"
    }
   ],
   "source": [
    "Shape.QWE"
   ]
  },
  {
   "cell_type": "code",
   "execution_count": 139,
   "id": "ab0e6ea8",
   "metadata": {},
   "outputs": [
    {
     "data": {
      "text/plain": [
       "<Shape.QWE: 2>"
      ]
     },
     "execution_count": 139,
     "metadata": {},
     "output_type": "execute_result"
    }
   ],
   "source": [
    "Shape.QWE_ZXC"
   ]
  },
  {
   "cell_type": "code",
   "execution_count": 140,
   "id": "cb7eca35",
   "metadata": {},
   "outputs": [
    {
     "data": {
      "text/plain": [
       "<Shape.QWE: 2>"
      ]
     },
     "execution_count": 140,
     "metadata": {},
     "output_type": "execute_result"
    }
   ],
   "source": [
    "Shape(2)"
   ]
  },
  {
   "cell_type": "code",
   "execution_count": null,
   "id": "cf183ed2",
   "metadata": {},
   "outputs": [],
   "source": []
  }
 ],
 "metadata": {
  "kernelspec": {
   "display_name": "Python 3 (ipykernel)",
   "language": "python",
   "name": "python3"
  },
  "language_info": {
   "codemirror_mode": {
    "name": "ipython",
    "version": 3
   },
   "file_extension": ".py",
   "mimetype": "text/x-python",
   "name": "python",
   "nbconvert_exporter": "python",
   "pygments_lexer": "ipython3",
   "version": "3.11.4"
  }
 },
 "nbformat": 4,
 "nbformat_minor": 5
}
