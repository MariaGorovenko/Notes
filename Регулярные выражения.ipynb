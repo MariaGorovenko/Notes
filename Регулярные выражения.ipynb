{
 "cells": [
  {
   "cell_type": "code",
   "execution_count": 3,
   "id": "8d987d3d",
   "metadata": {},
   "outputs": [],
   "source": [
    "import re"
   ]
  },
  {
   "cell_type": "code",
   "execution_count": 4,
   "id": "c51683da",
   "metadata": {},
   "outputs": [
    {
     "name": "stdout",
     "output_type": "stream",
     "text": [
      "['aaa', 'bbb', 'ccc', 'ddd']\n"
     ]
    }
   ],
   "source": [
    "s = 'aaa--bbb==ccc__ddd'\n",
    "print(re.split('--|==|__', s))\n",
    "\n",
    "# re.split выполняет разбиение строки по шаблону"
   ]
  },
  {
   "cell_type": "code",
   "execution_count": 39,
   "id": "212579cc",
   "metadata": {},
   "outputs": [
    {
     "name": "stdout",
     "output_type": "stream",
     "text": [
      "['Y', 'e', 's', 't', 'e', 'r', 'd', 'a', 'y', ',', ' ', 'A', 'l', 'l', ' ', 'm', 'y', ' ', 't', 'r', 'o', 'u', 'b', 'l', 'e', 's', ' ', 's', 'e', 'e', 'm', 'e', 'd', ' ', 's', 'o', ' ', 'f', 'a', 'r', ' ', 'a', 'w', 'a', 'y']\n"
     ]
    }
   ],
   "source": [
    "s = 'Yesterday, All my troubles seemed so far away'\n",
    "print(re.findall(r'.', s))\n",
    "\n",
    "# re.findall возвращает список всех найденных совпадений\n",
    "# '.' извлекаем каждый символ строки"
   ]
  },
  {
   "cell_type": "code",
   "execution_count": 40,
   "id": "08854401",
   "metadata": {},
   "outputs": [
    {
     "name": "stdout",
     "output_type": "stream",
     "text": [
      "['Y', 'e', 's', 't', 'e', 'r', 'd', 'a', 'y', ',', 'A', 'l', 'l', 'm', 'y', 't', 'r', 'o', 'u', 'b', 'l', 'e', 's', 's', 'e', 'e', 'm', 'e', 'd', 's', 'o', 'f', 'a', 'r', 'a', 'w', 'a', 'y']\n"
     ]
    }
   ],
   "source": [
    "print(re.findall(r'\\S', s))\n",
    "\n",
    "# \\S Любой непробельный символ"
   ]
  },
  {
   "cell_type": "code",
   "execution_count": 41,
   "id": "35c308c8",
   "metadata": {},
   "outputs": [
    {
     "name": "stdout",
     "output_type": "stream",
     "text": [
      "['Y', 'e', 's', 't', 'e', 'r', 'd', 'a', 'y', 'A', 'l', 'l', 'm', 'y', 't', 'r', 'o', 'u', 'b', 'l', 'e', 's', 's', 'e', 'e', 'm', 'e', 'd', 's', 'o', 'f', 'a', 'r', 'a', 'w', 'a', 'y']\n"
     ]
    }
   ],
   "source": [
    "print(re.findall(r'\\w', s))\n",
    "\n",
    "# Любая буква (то, что может быть частью слова), а также цифры и _"
   ]
  },
  {
   "cell_type": "code",
   "execution_count": 42,
   "id": "de1d6760",
   "metadata": {},
   "outputs": [
    {
     "name": "stdout",
     "output_type": "stream",
     "text": [
      "['Yesterday', '', '', 'All', '', 'my', '', 'troubles', '', 'seemed', '', 'so', '', 'far', '', 'away', '']\n"
     ]
    }
   ],
   "source": [
    "print(re.findall(r'\\w*', s))\n",
    "\n",
    "# * означает любую последовательность любых символов"
   ]
  },
  {
   "cell_type": "code",
   "execution_count": 43,
   "id": "4dc57a7a",
   "metadata": {},
   "outputs": [
    {
     "name": "stdout",
     "output_type": "stream",
     "text": [
      "['Yesterday', 'All', 'my', 'troubles', 'seemed', 'so', 'far', 'away']\n"
     ]
    }
   ],
   "source": [
    "print(re.findall(r'\\w+', s))"
   ]
  },
  {
   "cell_type": "code",
   "execution_count": 44,
   "id": "04e2a930",
   "metadata": {},
   "outputs": [
    {
     "name": "stdout",
     "output_type": "stream",
     "text": [
      "['Yesterday']\n"
     ]
    }
   ],
   "source": [
    "print(re.findall(r'^\\w+', s))"
   ]
  },
  {
   "cell_type": "code",
   "execution_count": 45,
   "id": "f65a500d",
   "metadata": {},
   "outputs": [
    {
     "name": "stdout",
     "output_type": "stream",
     "text": [
      "['away']\n"
     ]
    }
   ],
   "source": [
    "print(re.findall(r'\\w+$', s))"
   ]
  },
  {
   "cell_type": "code",
   "execution_count": 46,
   "id": "3c03c19b",
   "metadata": {},
   "outputs": [
    {
     "name": "stdout",
     "output_type": "stream",
     "text": [
      "['Yesterday']\n",
      "['But']\n",
      "['If']\n"
     ]
    }
   ],
   "source": [
    "s = '''Yesterday All my troubles seemed so far away\n",
    "But tomorrow will be better than yerterday\n",
    "If we all believe in it'''\n",
    "s1 = re.split('\\n', s)\n",
    "for i in range(0, len(s1)):\n",
    "    print(re.findall(r'^\\w+', s1[i]))"
   ]
  },
  {
   "cell_type": "code",
   "execution_count": 56,
   "id": "3c3ffc15",
   "metadata": {},
   "outputs": [
    {
     "name": "stdout",
     "output_type": "stream",
     "text": [
      "None\n"
     ]
    }
   ],
   "source": [
    "s = 'ljhb;iuh@;ihns1'\n",
    "s1 = re.search('6', s)\n",
    "print(s1)"
   ]
  },
  {
   "cell_type": "code",
   "execution_count": 54,
   "id": "fb82af97",
   "metadata": {},
   "outputs": [
    {
     "name": "stdout",
     "output_type": "stream",
     "text": [
      "['@']\n"
     ]
    }
   ],
   "source": [
    "s = 'ljhb;iuh@;ihns1'\n",
    "s1 = re.findall('@', s)\n",
    "print(s1)"
   ]
  }
 ],
 "metadata": {
  "kernelspec": {
   "display_name": "Python 3 (ipykernel)",
   "language": "python",
   "name": "python3"
  },
  "language_info": {
   "codemirror_mode": {
    "name": "ipython",
    "version": 3
   },
   "file_extension": ".py",
   "mimetype": "text/x-python",
   "name": "python",
   "nbconvert_exporter": "python",
   "pygments_lexer": "ipython3",
   "version": "3.11.4"
  }
 },
 "nbformat": 4,
 "nbformat_minor": 5
}
