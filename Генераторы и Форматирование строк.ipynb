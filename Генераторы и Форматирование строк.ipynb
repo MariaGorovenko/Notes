{
 "cells": [
  {
   "cell_type": "code",
   "execution_count": 1,
   "id": "13f7775c",
   "metadata": {},
   "outputs": [
    {
     "data": {
      "text/plain": [
       "['In',\n",
       " 'Out',\n",
       " '_',\n",
       " '__',\n",
       " '___',\n",
       " '__builtin__',\n",
       " '__builtins__',\n",
       " '__doc__',\n",
       " '__loader__',\n",
       " '__name__',\n",
       " '__package__',\n",
       " '__spec__',\n",
       " '_dh',\n",
       " '_i',\n",
       " '_i1',\n",
       " '_ih',\n",
       " '_ii',\n",
       " '_iii',\n",
       " '_oh',\n",
       " 'exit',\n",
       " 'get_ipython',\n",
       " 'open',\n",
       " 'quit']"
      ]
     },
     "execution_count": 1,
     "metadata": {},
     "output_type": "execute_result"
    }
   ],
   "source": [
    "dir()"
   ]
  },
  {
   "cell_type": "code",
   "execution_count": 2,
   "id": "457927a7",
   "metadata": {},
   "outputs": [
    {
     "data": {
      "text/plain": [
       "['ArithmeticError',\n",
       " 'AssertionError',\n",
       " 'AttributeError',\n",
       " 'BaseException',\n",
       " 'BaseExceptionGroup',\n",
       " 'BlockingIOError',\n",
       " 'BrokenPipeError',\n",
       " 'BufferError',\n",
       " 'BytesWarning',\n",
       " 'ChildProcessError',\n",
       " 'ConnectionAbortedError',\n",
       " 'ConnectionError',\n",
       " 'ConnectionRefusedError',\n",
       " 'ConnectionResetError',\n",
       " 'DeprecationWarning',\n",
       " 'EOFError',\n",
       " 'Ellipsis',\n",
       " 'EncodingWarning',\n",
       " 'EnvironmentError',\n",
       " 'Exception',\n",
       " 'ExceptionGroup',\n",
       " 'False',\n",
       " 'FileExistsError',\n",
       " 'FileNotFoundError',\n",
       " 'FloatingPointError',\n",
       " 'FutureWarning',\n",
       " 'GeneratorExit',\n",
       " 'IOError',\n",
       " 'ImportError',\n",
       " 'ImportWarning',\n",
       " 'IndentationError',\n",
       " 'IndexError',\n",
       " 'InterruptedError',\n",
       " 'IsADirectoryError',\n",
       " 'KeyError',\n",
       " 'KeyboardInterrupt',\n",
       " 'LookupError',\n",
       " 'MemoryError',\n",
       " 'ModuleNotFoundError',\n",
       " 'NameError',\n",
       " 'None',\n",
       " 'NotADirectoryError',\n",
       " 'NotImplemented',\n",
       " 'NotImplementedError',\n",
       " 'OSError',\n",
       " 'OverflowError',\n",
       " 'PendingDeprecationWarning',\n",
       " 'PermissionError',\n",
       " 'ProcessLookupError',\n",
       " 'RecursionError',\n",
       " 'ReferenceError',\n",
       " 'ResourceWarning',\n",
       " 'RuntimeError',\n",
       " 'RuntimeWarning',\n",
       " 'StopAsyncIteration',\n",
       " 'StopIteration',\n",
       " 'SyntaxError',\n",
       " 'SyntaxWarning',\n",
       " 'SystemError',\n",
       " 'SystemExit',\n",
       " 'TabError',\n",
       " 'TimeoutError',\n",
       " 'True',\n",
       " 'TypeError',\n",
       " 'UnboundLocalError',\n",
       " 'UnicodeDecodeError',\n",
       " 'UnicodeEncodeError',\n",
       " 'UnicodeError',\n",
       " 'UnicodeTranslateError',\n",
       " 'UnicodeWarning',\n",
       " 'UserWarning',\n",
       " 'ValueError',\n",
       " 'Warning',\n",
       " 'ZeroDivisionError',\n",
       " '__IPYTHON__',\n",
       " '__build_class__',\n",
       " '__debug__',\n",
       " '__doc__',\n",
       " '__import__',\n",
       " '__loader__',\n",
       " '__name__',\n",
       " '__package__',\n",
       " '__spec__',\n",
       " 'abs',\n",
       " 'aiter',\n",
       " 'all',\n",
       " 'anext',\n",
       " 'any',\n",
       " 'ascii',\n",
       " 'bin',\n",
       " 'bool',\n",
       " 'breakpoint',\n",
       " 'bytearray',\n",
       " 'bytes',\n",
       " 'callable',\n",
       " 'chr',\n",
       " 'classmethod',\n",
       " 'compile',\n",
       " 'complex',\n",
       " 'copyright',\n",
       " 'credits',\n",
       " 'delattr',\n",
       " 'dict',\n",
       " 'dir',\n",
       " 'display',\n",
       " 'divmod',\n",
       " 'enumerate',\n",
       " 'eval',\n",
       " 'exec',\n",
       " 'execfile',\n",
       " 'filter',\n",
       " 'float',\n",
       " 'format',\n",
       " 'frozenset',\n",
       " 'get_ipython',\n",
       " 'getattr',\n",
       " 'globals',\n",
       " 'hasattr',\n",
       " 'hash',\n",
       " 'help',\n",
       " 'hex',\n",
       " 'id',\n",
       " 'input',\n",
       " 'int',\n",
       " 'isinstance',\n",
       " 'issubclass',\n",
       " 'iter',\n",
       " 'len',\n",
       " 'license',\n",
       " 'list',\n",
       " 'locals',\n",
       " 'map',\n",
       " 'max',\n",
       " 'memoryview',\n",
       " 'min',\n",
       " 'next',\n",
       " 'object',\n",
       " 'oct',\n",
       " 'open',\n",
       " 'ord',\n",
       " 'pow',\n",
       " 'print',\n",
       " 'property',\n",
       " 'range',\n",
       " 'repr',\n",
       " 'reversed',\n",
       " 'round',\n",
       " 'runfile',\n",
       " 'set',\n",
       " 'setattr',\n",
       " 'slice',\n",
       " 'sorted',\n",
       " 'staticmethod',\n",
       " 'str',\n",
       " 'sum',\n",
       " 'super',\n",
       " 'tuple',\n",
       " 'type',\n",
       " 'vars',\n",
       " 'zip']"
      ]
     },
     "execution_count": 2,
     "metadata": {},
     "output_type": "execute_result"
    }
   ],
   "source": [
    "dir(__builtin__)"
   ]
  },
  {
   "cell_type": "code",
   "execution_count": 5,
   "id": "7552ad1e",
   "metadata": {},
   "outputs": [
    {
     "name": "stdout",
     "output_type": "stream",
     "text": [
      "hello\n",
      "hello\n",
      "hello\n",
      "hello\n"
     ]
    }
   ],
   "source": [
    "for _ in range(0,4):\n",
    "    print('hello')"
   ]
  },
  {
   "cell_type": "code",
   "execution_count": 7,
   "id": "67b6f97c",
   "metadata": {
    "scrolled": true
   },
   "outputs": [
    {
     "data": {
      "text/plain": [
       "85"
      ]
     },
     "execution_count": 7,
     "metadata": {},
     "output_type": "execute_result"
    }
   ],
   "source": [
    "0b01010101"
   ]
  },
  {
   "cell_type": "code",
   "execution_count": 8,
   "id": "d318ef12",
   "metadata": {},
   "outputs": [
    {
     "data": {
      "text/plain": [
       "34.95"
      ]
     },
     "execution_count": 8,
     "metadata": {},
     "output_type": "execute_result"
    }
   ],
   "source": [
    "x = 34.948635478\n",
    "round(x,2)"
   ]
  },
  {
   "cell_type": "code",
   "execution_count": 10,
   "id": "f886c724",
   "metadata": {},
   "outputs": [],
   "source": [
    "def equal_float(a,b):\n",
    "    return abs(a - b) <= sys.float_info.epsilon"
   ]
  },
  {
   "cell_type": "code",
   "execution_count": 11,
   "id": "90220ee2",
   "metadata": {},
   "outputs": [
    {
     "data": {
      "text/plain": [
       "78.53981633974483"
      ]
     },
     "execution_count": 11,
     "metadata": {},
     "output_type": "execute_result"
    }
   ],
   "source": [
    "import math\n",
    "math.pi * (5 ** 2)"
   ]
  },
  {
   "cell_type": "code",
   "execution_count": 12,
   "id": "150c966a",
   "metadata": {},
   "outputs": [
    {
     "data": {
      "text/plain": [
       "13.0"
      ]
     },
     "execution_count": 12,
     "metadata": {},
     "output_type": "execute_result"
    }
   ],
   "source": [
    "math.hypot(5,12)"
   ]
  },
  {
   "cell_type": "code",
   "execution_count": 14,
   "id": "d152b0d5",
   "metadata": {},
   "outputs": [
    {
     "data": {
      "text/plain": [
       "(0.7319999999999993, 13.0)"
      ]
     },
     "execution_count": 14,
     "metadata": {},
     "output_type": "execute_result"
    }
   ],
   "source": [
    "math.modf(13.732)"
   ]
  },
  {
   "cell_type": "code",
   "execution_count": 15,
   "id": "5ebe575a",
   "metadata": {},
   "outputs": [
    {
     "data": {
      "text/plain": [
       "(-89.5, 2.125)"
      ]
     },
     "execution_count": 15,
     "metadata": {},
     "output_type": "execute_result"
    }
   ],
   "source": [
    "c = -89.5 + 2.125j\n",
    "c.real , c.imag"
   ]
  },
  {
   "cell_type": "code",
   "execution_count": 16,
   "id": "74847c46",
   "metadata": {},
   "outputs": [
    {
     "data": {
      "text/plain": [
       "(-89.5-2.125j)"
      ]
     },
     "execution_count": 16,
     "metadata": {},
     "output_type": "execute_result"
    }
   ],
   "source": [
    "c.conjugate()"
   ]
  },
  {
   "cell_type": "code",
   "execution_count": 18,
   "id": "a544ea37",
   "metadata": {},
   "outputs": [
    {
     "data": {
      "text/plain": [
       "Decimal('64197.012934657483654')"
      ]
     },
     "execution_count": 18,
     "metadata": {},
     "output_type": "execute_result"
    }
   ],
   "source": [
    "import decimal\n",
    "a = decimal.Decimal(9876)\n",
    "b = decimal.Decimal('54321.012934657483654')\n",
    "a + b"
   ]
  },
  {
   "cell_type": "code",
   "execution_count": 19,
   "id": "d897c22e",
   "metadata": {},
   "outputs": [
    {
     "data": {
      "text/plain": [
       "21.904761904761905"
      ]
     },
     "execution_count": 19,
     "metadata": {},
     "output_type": "execute_result"
    }
   ],
   "source": [
    "23 / 1.05"
   ]
  },
  {
   "cell_type": "code",
   "execution_count": 20,
   "id": "5d7860cd",
   "metadata": {},
   "outputs": [
    {
     "name": "stdout",
     "output_type": "stream",
     "text": [
      "21.904761904761905\n"
     ]
    }
   ],
   "source": [
    "print(23 / 1.05)"
   ]
  },
  {
   "cell_type": "code",
   "execution_count": 22,
   "id": "b4ef74a0",
   "metadata": {},
   "outputs": [
    {
     "name": "stdout",
     "output_type": "stream",
     "text": [
      "21.90476190476190476190476190\n"
     ]
    }
   ],
   "source": [
    "print(decimal.Decimal(23) / decimal.Decimal('1.05'))"
   ]
  },
  {
   "cell_type": "code",
   "execution_count": 25,
   "id": "3c60a214",
   "metadata": {},
   "outputs": [
    {
     "data": {
      "text/plain": [
       "'anarchists are ∞⎷'"
      ]
     },
     "execution_count": 25,
     "metadata": {},
     "output_type": "execute_result"
    }
   ],
   "source": [
    "s = 'anarchists are ' + chr(8734) + chr(0x23B7)\n",
    "s"
   ]
  },
  {
   "cell_type": "code",
   "execution_count": 30,
   "id": "b6f4ae77",
   "metadata": {},
   "outputs": [
    {
     "data": {
      "text/plain": [
       "'ray'"
      ]
     },
     "execution_count": 30,
     "metadata": {},
     "output_type": "execute_result"
    }
   ],
   "source": [
    "s = 'light ray'\n",
    "s[-3:]"
   ]
  },
  {
   "cell_type": "code",
   "execution_count": 35,
   "id": "785e2f9c",
   "metadata": {},
   "outputs": [
    {
     "data": {
      "text/plain": [
       "''"
      ]
     },
     "execution_count": 35,
     "metadata": {},
     "output_type": "execute_result"
    }
   ],
   "source": [
    "s[0:6:-2]"
   ]
  },
  {
   "cell_type": "code",
   "execution_count": 36,
   "id": "7026b3db",
   "metadata": {},
   "outputs": [
    {
     "data": {
      "text/plain": [
       "{'a': 1, 'b': 2}"
      ]
     },
     "execution_count": 36,
     "metadata": {},
     "output_type": "execute_result"
    }
   ],
   "source": [
    "dict(a=1, b=2)"
   ]
  },
  {
   "cell_type": "code",
   "execution_count": null,
   "id": "ba4606f8",
   "metadata": {},
   "outputs": [],
   "source": [
    "d0 = {'a':1, 'b':2}"
   ]
  },
  {
   "cell_type": "code",
   "execution_count": 37,
   "id": "6c3f528a",
   "metadata": {},
   "outputs": [
    {
     "data": {
      "text/plain": [
       "{'a': 1, 'b': 2}"
      ]
     },
     "execution_count": 37,
     "metadata": {},
     "output_type": "execute_result"
    }
   ],
   "source": [
    "dict([['a',1],['b',2]])"
   ]
  },
  {
   "cell_type": "code",
   "execution_count": 39,
   "id": "d77bc118",
   "metadata": {},
   "outputs": [
    {
     "data": {
      "text/plain": [
       "<zip at 0x110e8bf40>"
      ]
     },
     "execution_count": 39,
     "metadata": {},
     "output_type": "execute_result"
    }
   ],
   "source": [
    "k = ['a','b','c']\n",
    "v = [1,2,3]\n",
    "kv = zip(k,v)\n",
    "kv"
   ]
  },
  {
   "cell_type": "code",
   "execution_count": 40,
   "id": "765c700d",
   "metadata": {},
   "outputs": [
    {
     "data": {
      "text/plain": [
       "[('a', 1), ('b', 2), ('c', 3)]"
      ]
     },
     "execution_count": 40,
     "metadata": {},
     "output_type": "execute_result"
    }
   ],
   "source": [
    "kv = list(zip(k,v))\n",
    "kv"
   ]
  },
  {
   "cell_type": "code",
   "execution_count": 41,
   "id": "2d7ed0f5",
   "metadata": {},
   "outputs": [
    {
     "data": {
      "text/plain": [
       "{'a': 1, 'b': 2, 'c': 3}"
      ]
     },
     "execution_count": 41,
     "metadata": {},
     "output_type": "execute_result"
    }
   ],
   "source": [
    "dict(zip(k,v))"
   ]
  },
  {
   "cell_type": "code",
   "execution_count": 42,
   "id": "24e50a59",
   "metadata": {},
   "outputs": [
    {
     "data": {
      "text/plain": [
       "{'h': 1, 'e': 2, 'l': 3}"
      ]
     },
     "execution_count": 42,
     "metadata": {},
     "output_type": "execute_result"
    }
   ],
   "source": [
    "dict(zip('hello',[1,2,3]))"
   ]
  },
  {
   "cell_type": "code",
   "execution_count": 43,
   "id": "baa998bf",
   "metadata": {},
   "outputs": [
    {
     "data": {
      "text/plain": [
       "{'a': 1, 'b': 1}"
      ]
     },
     "execution_count": 43,
     "metadata": {},
     "output_type": "execute_result"
    }
   ],
   "source": [
    "d = dict.fromkeys(['a','b'],1)\n",
    "d"
   ]
  },
  {
   "cell_type": "code",
   "execution_count": 46,
   "id": "8dea8a1c",
   "metadata": {},
   "outputs": [
    {
     "data": {
      "text/plain": [
       "{'a': 1, 'b': 1}"
      ]
     },
     "execution_count": 46,
     "metadata": {},
     "output_type": "execute_result"
    }
   ],
   "source": [
    "di = dict(d)\n",
    "di"
   ]
  },
  {
   "cell_type": "code",
   "execution_count": 47,
   "id": "25ead398",
   "metadata": {},
   "outputs": [
    {
     "data": {
      "text/plain": [
       "False"
      ]
     },
     "execution_count": 47,
     "metadata": {},
     "output_type": "execute_result"
    }
   ],
   "source": [
    "di is d"
   ]
  },
  {
   "cell_type": "code",
   "execution_count": 48,
   "id": "db3ebd36",
   "metadata": {},
   "outputs": [
    {
     "data": {
      "text/plain": [
       "{'a': 1, 'b': 1}"
      ]
     },
     "execution_count": 48,
     "metadata": {},
     "output_type": "execute_result"
    }
   ],
   "source": [
    "import copy\n",
    "dic = copy.deepcopy(d)\n",
    "dic"
   ]
  },
  {
   "cell_type": "code",
   "execution_count": 49,
   "id": "2f9cc443",
   "metadata": {},
   "outputs": [
    {
     "data": {
      "text/plain": [
       "False"
      ]
     },
     "execution_count": 49,
     "metadata": {},
     "output_type": "execute_result"
    }
   ],
   "source": [
    "dic is d"
   ]
  },
  {
   "cell_type": "code",
   "execution_count": 50,
   "id": "29d3d5b3",
   "metadata": {},
   "outputs": [
    {
     "data": {
      "text/plain": [
       "{1: 'int', 'a': 'strint', (1, 2): 'tuple'}"
      ]
     },
     "execution_count": 50,
     "metadata": {},
     "output_type": "execute_result"
    }
   ],
   "source": [
    "d = {1:'int', 'a':'strint', (1,2):'tuple'}\n",
    "d"
   ]
  },
  {
   "cell_type": "code",
   "execution_count": 51,
   "id": "f07a8c44",
   "metadata": {},
   "outputs": [
    {
     "data": {
      "text/plain": [
       "3"
      ]
     },
     "execution_count": 51,
     "metadata": {},
     "output_type": "execute_result"
    }
   ],
   "source": [
    "len(d)"
   ]
  },
  {
   "cell_type": "code",
   "execution_count": 52,
   "id": "413aed2f",
   "metadata": {},
   "outputs": [
    {
     "data": {
      "text/plain": [
       "'int'"
      ]
     },
     "execution_count": 52,
     "metadata": {},
     "output_type": "execute_result"
    }
   ],
   "source": [
    "d[1]"
   ]
  },
  {
   "cell_type": "code",
   "execution_count": 53,
   "id": "0bf065d5",
   "metadata": {},
   "outputs": [
    {
     "data": {
      "text/plain": [
       "'strint'"
      ]
     },
     "execution_count": 53,
     "metadata": {},
     "output_type": "execute_result"
    }
   ],
   "source": [
    "d['a']"
   ]
  },
  {
   "cell_type": "code",
   "execution_count": 54,
   "id": "ff63b042",
   "metadata": {},
   "outputs": [
    {
     "data": {
      "text/plain": [
       "'tuple'"
      ]
     },
     "execution_count": 54,
     "metadata": {},
     "output_type": "execute_result"
    }
   ],
   "source": [
    "d[(1,2)]"
   ]
  },
  {
   "cell_type": "code",
   "execution_count": 55,
   "id": "b7616a3f",
   "metadata": {},
   "outputs": [
    {
     "data": {
      "text/plain": [
       "True"
      ]
     },
     "execution_count": 55,
     "metadata": {},
     "output_type": "execute_result"
    }
   ],
   "source": [
    "'a' in d"
   ]
  },
  {
   "cell_type": "code",
   "execution_count": 56,
   "id": "19f6f623",
   "metadata": {},
   "outputs": [
    {
     "data": {
      "text/plain": [
       "False"
      ]
     },
     "execution_count": 56,
     "metadata": {},
     "output_type": "execute_result"
    }
   ],
   "source": [
    "'c' in d"
   ]
  },
  {
   "cell_type": "code",
   "execution_count": 57,
   "id": "af96c103",
   "metadata": {},
   "outputs": [
    {
     "name": "stdout",
     "output_type": "stream",
     "text": [
      "strint\n"
     ]
    }
   ],
   "source": [
    "print(d.get('a'))"
   ]
  },
  {
   "cell_type": "code",
   "execution_count": 58,
   "id": "adbb09e6",
   "metadata": {},
   "outputs": [
    {
     "name": "stdout",
     "output_type": "stream",
     "text": [
      "None\n"
     ]
    }
   ],
   "source": [
    "print(d.get('c'))"
   ]
  },
  {
   "cell_type": "code",
   "execution_count": 59,
   "id": "942f4360",
   "metadata": {},
   "outputs": [
    {
     "name": "stdout",
     "output_type": "stream",
     "text": [
      "aaa\n"
     ]
    }
   ],
   "source": [
    "print(d.get('c','aaa'))"
   ]
  },
  {
   "cell_type": "code",
   "execution_count": 60,
   "id": "f33235a9",
   "metadata": {},
   "outputs": [
    {
     "data": {
      "text/plain": [
       "{'a': 0, 'b': 1, 'c': 2, 'd': 3}"
      ]
     },
     "execution_count": 60,
     "metadata": {},
     "output_type": "execute_result"
    }
   ],
   "source": [
    "d = dict(zip('abcd', range(4)))\n",
    "d"
   ]
  },
  {
   "cell_type": "code",
   "execution_count": 61,
   "id": "eee2de5b",
   "metadata": {},
   "outputs": [
    {
     "data": {
      "text/plain": [
       "{'a': 1, 'b': 1, 'c': 2, 'd': 3}"
      ]
     },
     "execution_count": 61,
     "metadata": {},
     "output_type": "execute_result"
    }
   ],
   "source": [
    "d['a'] += 1\n",
    "d"
   ]
  },
  {
   "cell_type": "code",
   "execution_count": 62,
   "id": "a15ea402",
   "metadata": {},
   "outputs": [
    {
     "data": {
      "text/plain": [
       "{'a': 2, 'b': 1, 'c': 2, 'd': 3}"
      ]
     },
     "execution_count": 62,
     "metadata": {},
     "output_type": "execute_result"
    }
   ],
   "source": [
    "d['a'] = d.get('a',0) + 1\n",
    "d"
   ]
  },
  {
   "cell_type": "code",
   "execution_count": 63,
   "id": "245c3542",
   "metadata": {},
   "outputs": [
    {
     "data": {
      "text/plain": [
       "{'a': 2, 'b': 1, 'c': 2, 'd': 3, 'e': 1}"
      ]
     },
     "execution_count": 63,
     "metadata": {},
     "output_type": "execute_result"
    }
   ],
   "source": [
    "d['e'] = d.get('e',0) + 1\n",
    "d"
   ]
  },
  {
   "cell_type": "code",
   "execution_count": 64,
   "id": "82fd1e42",
   "metadata": {},
   "outputs": [
    {
     "data": {
      "text/plain": [
       "{'a': 1, 'b': 2}"
      ]
     },
     "execution_count": 64,
     "metadata": {},
     "output_type": "execute_result"
    }
   ],
   "source": [
    "d = dict(a=1, b=2)\n",
    "d"
   ]
  },
  {
   "cell_type": "code",
   "execution_count": 65,
   "id": "c593b9e3",
   "metadata": {},
   "outputs": [
    {
     "name": "stdout",
     "output_type": "stream",
     "text": [
      "1\n",
      "1\n"
     ]
    }
   ],
   "source": [
    "print(d.setdefault('a'))\n",
    "print(d.get('a'))"
   ]
  },
  {
   "cell_type": "code",
   "execution_count": 73,
   "id": "8a8aaf8b",
   "metadata": {},
   "outputs": [
    {
     "name": "stdout",
     "output_type": "stream",
     "text": [
      "None\n",
      "{'a': 1, 'b': 2, 'c': None}\n"
     ]
    }
   ],
   "source": [
    "print(d.setdefault('c'))\n",
    "print(d)"
   ]
  },
  {
   "cell_type": "code",
   "execution_count": 74,
   "id": "a398889c",
   "metadata": {},
   "outputs": [
    {
     "name": "stdout",
     "output_type": "stream",
     "text": [
      "key: a\n",
      "key: b\n",
      "key: c\n",
      "key: d\n"
     ]
    }
   ],
   "source": [
    "d = dict(a=1, b=23, c=2, d=9)\n",
    "for k in d:\n",
    "    print(f'key: {k}')"
   ]
  },
  {
   "cell_type": "code",
   "execution_count": 75,
   "id": "f6a99aea",
   "metadata": {},
   "outputs": [
    {
     "name": "stdout",
     "output_type": "stream",
     "text": [
      "key: a, value: 1\n",
      "key: b, value: 23\n",
      "key: c, value: 2\n",
      "key: d, value: 9\n"
     ]
    }
   ],
   "source": [
    "for k in d:\n",
    "    print(f'key: {k}, value: {d[k]}')"
   ]
  },
  {
   "cell_type": "code",
   "execution_count": 76,
   "id": "acc4437f",
   "metadata": {},
   "outputs": [
    {
     "name": "stdout",
     "output_type": "stream",
     "text": [
      "key: a, value: 1\n",
      "key: b, value: 23\n",
      "key: c, value: 2\n",
      "key: d, value: 9\n"
     ]
    }
   ],
   "source": [
    "for k in sorted(d.keys()):\n",
    "    print(f'key: {k}, value: {d[k]}')"
   ]
  },
  {
   "cell_type": "code",
   "execution_count": 77,
   "id": "74047469",
   "metadata": {},
   "outputs": [
    {
     "data": {
      "text/plain": [
       "['a', 'b', 'c', 'd']"
      ]
     },
     "execution_count": 77,
     "metadata": {},
     "output_type": "execute_result"
    }
   ],
   "source": [
    "list(d)"
   ]
  },
  {
   "cell_type": "code",
   "execution_count": 79,
   "id": "9493e9dd",
   "metadata": {},
   "outputs": [
    {
     "name": "stdout",
     "output_type": "stream",
     "text": [
      "value: 1\n",
      "value: 23\n",
      "value: 2\n",
      "value: 9\n"
     ]
    }
   ],
   "source": [
    "for v in d.values():\n",
    "    print(f'value: {v}')"
   ]
  },
  {
   "cell_type": "code",
   "execution_count": 81,
   "id": "47786fbd",
   "metadata": {},
   "outputs": [
    {
     "name": "stdout",
     "output_type": "stream",
     "text": [
      "key: a, value: 1\n",
      "key: b, value: 23\n",
      "key: c, value: 2\n",
      "key: d, value: 9\n"
     ]
    }
   ],
   "source": [
    "for k,v in d.items():\n",
    "    print(f'key: {k}, value: {v}')"
   ]
  },
  {
   "cell_type": "code",
   "execution_count": 83,
   "id": "72bf6c5a",
   "metadata": {},
   "outputs": [
    {
     "data": {
      "text/plain": [
       "{'a': 1, 'b': 23, 'c': 2, 'd': 9}"
      ]
     },
     "execution_count": 83,
     "metadata": {},
     "output_type": "execute_result"
    }
   ],
   "source": [
    "d0 = dict(d)\n",
    "d0"
   ]
  },
  {
   "cell_type": "code",
   "execution_count": 84,
   "id": "10dd568f",
   "metadata": {},
   "outputs": [
    {
     "ename": "RuntimeError",
     "evalue": "dictionary changed size during iteration",
     "output_type": "error",
     "traceback": [
      "\u001b[0;31m---------------------------------------------------------------------------\u001b[0m",
      "\u001b[0;31mRuntimeError\u001b[0m                              Traceback (most recent call last)",
      "Cell \u001b[0;32mIn[84], line 1\u001b[0m\n\u001b[0;32m----> 1\u001b[0m \u001b[38;5;28;01mfor\u001b[39;00m k,v \u001b[38;5;129;01min\u001b[39;00m d0\u001b[38;5;241m.\u001b[39mitems():\n\u001b[1;32m      2\u001b[0m     \u001b[38;5;28;01mif\u001b[39;00m k \u001b[38;5;241m>\u001b[39m \u001b[38;5;124m'\u001b[39m\u001b[38;5;124mb\u001b[39m\u001b[38;5;124m'\u001b[39m:\n\u001b[1;32m      3\u001b[0m         \u001b[38;5;28;01mdel\u001b[39;00m d0[k]\n",
      "\u001b[0;31mRuntimeError\u001b[0m: dictionary changed size during iteration"
     ]
    }
   ],
   "source": [
    "for k,v in d0.items():\n",
    "    if k > 'b':\n",
    "        del d0[k]"
   ]
  },
  {
   "cell_type": "code",
   "execution_count": 85,
   "id": "7b535342",
   "metadata": {},
   "outputs": [
    {
     "data": {
      "text/plain": [
       "{'a': 1, 'b': 23}"
      ]
     },
     "execution_count": 85,
     "metadata": {},
     "output_type": "execute_result"
    }
   ],
   "source": [
    "for k,v in list(d0.items()):\n",
    "    if k > 'b':\n",
    "        del d0[k]\n",
    "d0"
   ]
  },
  {
   "cell_type": "code",
   "execution_count": 86,
   "id": "979ccf31",
   "metadata": {},
   "outputs": [
    {
     "data": {
      "text/plain": [
       "3"
      ]
     },
     "execution_count": 86,
     "metadata": {},
     "output_type": "execute_result"
    }
   ],
   "source": [
    "d = dict(a=5, b=3, c=6)\n",
    "d.pop('b')"
   ]
  },
  {
   "cell_type": "code",
   "execution_count": 87,
   "id": "63a12c94",
   "metadata": {},
   "outputs": [
    {
     "data": {
      "text/plain": [
       "{'a': 5, 'c': 6}"
      ]
     },
     "execution_count": 87,
     "metadata": {},
     "output_type": "execute_result"
    }
   ],
   "source": [
    "d"
   ]
  },
  {
   "cell_type": "code",
   "execution_count": 88,
   "id": "1867b221",
   "metadata": {},
   "outputs": [
    {
     "data": {
      "text/plain": [
       "('c', 6)"
      ]
     },
     "execution_count": 88,
     "metadata": {},
     "output_type": "execute_result"
    }
   ],
   "source": [
    "d.popitem()"
   ]
  },
  {
   "cell_type": "code",
   "execution_count": 89,
   "id": "a9d404f4",
   "metadata": {},
   "outputs": [
    {
     "data": {
      "text/plain": [
       "{'a': 5}"
      ]
     },
     "execution_count": 89,
     "metadata": {},
     "output_type": "execute_result"
    }
   ],
   "source": [
    "d"
   ]
  },
  {
   "cell_type": "code",
   "execution_count": 90,
   "id": "08c024af",
   "metadata": {},
   "outputs": [
    {
     "data": {
      "text/plain": [
       "{}"
      ]
     },
     "execution_count": 90,
     "metadata": {},
     "output_type": "execute_result"
    }
   ],
   "source": [
    "d.clear()\n",
    "d"
   ]
  },
  {
   "cell_type": "code",
   "execution_count": 91,
   "id": "17f9b89d",
   "metadata": {},
   "outputs": [
    {
     "data": {
      "text/plain": [
       "{'c': 3, 'b': 6}"
      ]
     },
     "execution_count": 91,
     "metadata": {},
     "output_type": "execute_result"
    }
   ],
   "source": [
    "d.update(c=3, b=6)\n",
    "d"
   ]
  },
  {
   "cell_type": "code",
   "execution_count": 93,
   "id": "bf3232cd",
   "metadata": {},
   "outputs": [
    {
     "data": {
      "text/plain": [
       "{1, 2, 3, 4, 5}"
      ]
     },
     "execution_count": 93,
     "metadata": {},
     "output_type": "execute_result"
    }
   ],
   "source": [
    "s = set([1,2,3,4,5])\n",
    "s"
   ]
  },
  {
   "cell_type": "code",
   "execution_count": 96,
   "id": "6886110a",
   "metadata": {},
   "outputs": [
    {
     "name": "stdout",
     "output_type": "stream",
     "text": [
      "1 2 3 4 5 "
     ]
    }
   ],
   "source": [
    "for v in s:\n",
    "    print(v, end = ' ')"
   ]
  },
  {
   "cell_type": "code",
   "execution_count": 98,
   "id": "3b6bb86a",
   "metadata": {},
   "outputs": [
    {
     "name": "stdout",
     "output_type": "stream",
     "text": [
      "[1, 14, 12, 7, 2, 2, 4, 2, 15, 10, 10, 6, 11, 2, 4]\n",
      "1\n",
      "2\n",
      "4\n",
      "6\n",
      "7\n",
      "10\n",
      "11\n",
      "12\n",
      "14\n",
      "15\n"
     ]
    }
   ],
   "source": [
    "import random\n",
    "r = []\n",
    "for _ in range(15):\n",
    "    r.append(random.randint(1,15))\n",
    "print(r)\n",
    "for e in set(r):\n",
    "    print(e)"
   ]
  },
  {
   "cell_type": "code",
   "execution_count": 100,
   "id": "952f1311",
   "metadata": {},
   "outputs": [
    {
     "data": {
      "text/plain": [
       "{1, 2, 3, 4, 5, 6}"
      ]
     },
     "execution_count": 100,
     "metadata": {},
     "output_type": "execute_result"
    }
   ],
   "source": [
    "s1 = {1,2,3,4}\n",
    "s2 = {3,4,5,6}\n",
    "s1 | s2"
   ]
  },
  {
   "cell_type": "code",
   "execution_count": 101,
   "id": "43a78fc0",
   "metadata": {},
   "outputs": [
    {
     "data": {
      "text/plain": [
       "{1, 2, 3, 4, 5, 6}"
      ]
     },
     "execution_count": 101,
     "metadata": {},
     "output_type": "execute_result"
    }
   ],
   "source": [
    "s2.union(s1)"
   ]
  },
  {
   "cell_type": "code",
   "execution_count": 102,
   "id": "147f4944",
   "metadata": {},
   "outputs": [
    {
     "data": {
      "text/plain": [
       "{3, 4}"
      ]
     },
     "execution_count": 102,
     "metadata": {},
     "output_type": "execute_result"
    }
   ],
   "source": [
    "s1 & s2"
   ]
  },
  {
   "cell_type": "code",
   "execution_count": 103,
   "id": "bb064a71",
   "metadata": {},
   "outputs": [
    {
     "data": {
      "text/plain": [
       "{3, 4}"
      ]
     },
     "execution_count": 103,
     "metadata": {},
     "output_type": "execute_result"
    }
   ],
   "source": [
    "s1.intersection(s2)"
   ]
  },
  {
   "cell_type": "code",
   "execution_count": 109,
   "id": "4daee5ea",
   "metadata": {},
   "outputs": [
    {
     "data": {
      "text/plain": [
       "{1, 2, 5, 6}"
      ]
     },
     "execution_count": 109,
     "metadata": {},
     "output_type": "execute_result"
    }
   ],
   "source": [
    "s1.symmetric_difference(s2)\n",
    "s1"
   ]
  },
  {
   "cell_type": "code",
   "execution_count": 110,
   "id": "ab5dc5e6",
   "metadata": {},
   "outputs": [
    {
     "data": {
      "text/plain": [
       "[2, 4, 14, 16, 8]"
      ]
     },
     "execution_count": 110,
     "metadata": {},
     "output_type": "execute_result"
    }
   ],
   "source": [
    "lst = [1,2,7,8,4]\n",
    "nlst = []\n",
    "for el in lst:\n",
    "    nlst.append(el*2)\n",
    "nlst"
   ]
  },
  {
   "cell_type": "code",
   "execution_count": 112,
   "id": "b750643b",
   "metadata": {},
   "outputs": [
    {
     "data": {
      "text/plain": [
       "[2, 4, 14, 16, 8]"
      ]
     },
     "execution_count": 112,
     "metadata": {},
     "output_type": "execute_result"
    }
   ],
   "source": [
    "lst_gen = [el * 2 for el in lst] # генератор\n",
    "lst_gen"
   ]
  },
  {
   "cell_type": "code",
   "execution_count": 113,
   "id": "db1e2dac",
   "metadata": {},
   "outputs": [
    {
     "data": {
      "text/plain": [
       "[4, 16, 8]"
      ]
     },
     "execution_count": 113,
     "metadata": {},
     "output_type": "execute_result"
    }
   ],
   "source": [
    "nlst2 = []\n",
    "for el in lst:\n",
    "    if el % 2 == 0:\n",
    "        nlst2.append(el * 2)\n",
    "nlst2"
   ]
  },
  {
   "cell_type": "code",
   "execution_count": 114,
   "id": "5cf705a5",
   "metadata": {},
   "outputs": [
    {
     "data": {
      "text/plain": [
       "[4, 16, 8]"
      ]
     },
     "execution_count": 114,
     "metadata": {},
     "output_type": "execute_result"
    }
   ],
   "source": [
    "lst_gen2 = [el * 2 for el in lst if el % 2 == 0]\n",
    "lst_gen2"
   ]
  },
  {
   "cell_type": "code",
   "execution_count": 118,
   "id": "83101c56",
   "metadata": {},
   "outputs": [
    {
     "data": {
      "text/plain": [
       "[1, 3, 2, 8, 4, 11, 8, 9]"
      ]
     },
     "execution_count": 118,
     "metadata": {},
     "output_type": "execute_result"
    }
   ],
   "source": [
    "lst = [1,3,2,8,4,11,8,9]\n",
    "for el in lst:\n",
    "    if el % 2 == 0:\n",
    "        del el\n",
    "lst"
   ]
  },
  {
   "cell_type": "code",
   "execution_count": 119,
   "id": "c72fa9ac",
   "metadata": {},
   "outputs": [
    {
     "name": "stdout",
     "output_type": "stream",
     "text": [
      "длина списка: 8\n"
     ]
    }
   ],
   "source": [
    "lst = [1,3,2,8,4,11,8,9]\n",
    "print(f'длина списка: {len(lst)}')"
   ]
  },
  {
   "cell_type": "code",
   "execution_count": 125,
   "id": "f324ac5b",
   "metadata": {},
   "outputs": [
    {
     "name": "stdout",
     "output_type": "stream",
     "text": [
      "ind: 7, el: 9\n",
      "ind: 6, el: 8\n",
      "removing\n",
      "ind: 5, el: 11\n",
      "ind: 4, el: 4\n",
      "removing\n",
      "ind: 3, el: 8\n",
      "removing\n",
      "ind: 2, el: 2\n",
      "removing\n",
      "ind: 1, el: 3\n",
      "ind: 0, el: 1\n"
     ]
    }
   ],
   "source": [
    "lst = [1,3,2,8,4,11,8,9]\n",
    "for ind in range(len(lst)-1, -1, -1):\n",
    "    el = lst[ind]\n",
    "    print(f'ind: {ind}, el: {el}')\n",
    "    if el % 2 == 0:\n",
    "        print('removing')\n",
    "        del lst[ind]\n"
   ]
  },
  {
   "cell_type": "code",
   "execution_count": 127,
   "id": "2789b01d",
   "metadata": {},
   "outputs": [
    {
     "data": {
      "text/plain": [
       "[1, 3, 11, 9]"
      ]
     },
     "execution_count": 127,
     "metadata": {},
     "output_type": "execute_result"
    }
   ],
   "source": [
    "lst = [1,3,2,8,4,11,8,9]\n",
    "lst2 = lst\n",
    "lst = [el for el in lst if el % 2 == 1]\n",
    "lst"
   ]
  },
  {
   "cell_type": "code",
   "execution_count": 128,
   "id": "ee4d223a",
   "metadata": {},
   "outputs": [
    {
     "data": {
      "text/plain": [
       "[1, 3, 2, 8, 4, 11, 8, 9]"
      ]
     },
     "execution_count": 128,
     "metadata": {},
     "output_type": "execute_result"
    }
   ],
   "source": [
    "lst2"
   ]
  },
  {
   "cell_type": "code",
   "execution_count": 129,
   "id": "a3696af3",
   "metadata": {},
   "outputs": [
    {
     "data": {
      "text/plain": [
       "[1, 3, 11, 9]"
      ]
     },
     "execution_count": 129,
     "metadata": {},
     "output_type": "execute_result"
    }
   ],
   "source": [
    "lst = [1,3,2,8,4,11,8,9]\n",
    "lst2 = lst\n",
    "lst[:] = [el for el in lst if el % 2 == 1]\n",
    "lst"
   ]
  },
  {
   "cell_type": "code",
   "execution_count": 130,
   "id": "0cca61c5",
   "metadata": {},
   "outputs": [
    {
     "data": {
      "text/plain": [
       "[1, 3, 11, 9]"
      ]
     },
     "execution_count": 130,
     "metadata": {},
     "output_type": "execute_result"
    }
   ],
   "source": [
    "lst2"
   ]
  },
  {
   "cell_type": "code",
   "execution_count": 131,
   "id": "27f8b4e3",
   "metadata": {},
   "outputs": [
    {
     "data": {
      "text/plain": [
       "[1, 2, 3, 3, 4, 7]"
      ]
     },
     "execution_count": 131,
     "metadata": {},
     "output_type": "execute_result"
    }
   ],
   "source": [
    "l = [[1,2,3], [3,4], [7]] # создание \"плоского\" списка\n",
    "fl = []\n",
    "for sublist in l:\n",
    "    for item in sublist:\n",
    "        fl.append(item)\n",
    "fl"
   ]
  },
  {
   "cell_type": "code",
   "execution_count": 135,
   "id": "f2eb91ef",
   "metadata": {},
   "outputs": [
    {
     "data": {
      "text/plain": [
       "[1, 2, 3, 3, 4, 7]"
      ]
     },
     "execution_count": 135,
     "metadata": {},
     "output_type": "execute_result"
    }
   ],
   "source": [
    "fl = [item for sublist in l for item in sublist]\n",
    "fl"
   ]
  },
  {
   "cell_type": "code",
   "execution_count": 141,
   "id": "59b1354e",
   "metadata": {},
   "outputs": [
    {
     "name": "stdout",
     "output_type": "stream",
     "text": [
      "451 ns ± 12.2 ns per loop (mean ± std. dev. of 7 runs, 1,000,000 loops each)\n"
     ]
    }
   ],
   "source": [
    "%%timeit\n",
    "l = [[1,2,3], [3,4], [7]] # создание \"плоского\" списка\n",
    "fl = []\n",
    "for sublist in l:\n",
    "    for item in sublist:\n",
    "        fl.append(item)"
   ]
  },
  {
   "cell_type": "code",
   "execution_count": 142,
   "id": "3e2ef8e6",
   "metadata": {},
   "outputs": [
    {
     "name": "stdout",
     "output_type": "stream",
     "text": [
      "427 ns ± 19.1 ns per loop (mean ± std. dev. of 7 runs, 1,000,000 loops each)\n"
     ]
    }
   ],
   "source": [
    "%%timeit\n",
    "fl = [item for sublist in l for item in sublist]"
   ]
  },
  {
   "cell_type": "code",
   "execution_count": 143,
   "id": "96bdcd5c",
   "metadata": {},
   "outputs": [
    {
     "data": {
      "text/plain": [
       "[1, 2, 3, 3, 4, 7]"
      ]
     },
     "execution_count": 143,
     "metadata": {},
     "output_type": "execute_result"
    }
   ],
   "source": [
    "sum(l,[])"
   ]
  },
  {
   "cell_type": "code",
   "execution_count": 147,
   "id": "88ffa41f",
   "metadata": {},
   "outputs": [
    {
     "data": {
      "text/plain": [
       "<generator object <genexpr> at 0x112216f60>"
      ]
     },
     "execution_count": 147,
     "metadata": {},
     "output_type": "execute_result"
    }
   ],
   "source": [
    "lstv = [1,2,7,11,8,2]\n",
    "cor_gen = (el * 2 for el in lstv) # генератор выражения\n",
    "cor_gen"
   ]
  },
  {
   "cell_type": "code",
   "execution_count": 148,
   "id": "e216b4dd",
   "metadata": {},
   "outputs": [
    {
     "data": {
      "text/plain": [
       "62"
      ]
     },
     "execution_count": 148,
     "metadata": {},
     "output_type": "execute_result"
    }
   ],
   "source": [
    "sum(cor_gen)"
   ]
  },
  {
   "cell_type": "code",
   "execution_count": 149,
   "id": "a01b1e65",
   "metadata": {},
   "outputs": [
    {
     "data": {
      "text/plain": [
       "{1, 4, 9}"
      ]
     },
     "execution_count": 149,
     "metadata": {},
     "output_type": "execute_result"
    }
   ],
   "source": [
    "sg1 = {x**2 for x in [1,2,1,2,1,2,3]} # генератор множества\n",
    "sg1"
   ]
  },
  {
   "cell_type": "code",
   "execution_count": 150,
   "id": "1ed7758e",
   "metadata": {},
   "outputs": [
    {
     "data": {
      "text/plain": [
       "dict"
      ]
     },
     "execution_count": 150,
     "metadata": {},
     "output_type": "execute_result"
    }
   ],
   "source": [
    "v = {}\n",
    "type(v)"
   ]
  },
  {
   "cell_type": "code",
   "execution_count": 152,
   "id": "7c5e3ec6",
   "metadata": {},
   "outputs": [
    {
     "data": {
      "text/plain": [
       "{'a': 2, 'b': 4}"
      ]
     },
     "execution_count": 152,
     "metadata": {},
     "output_type": "execute_result"
    }
   ],
   "source": [
    "keys = ['a','b']\n",
    "values = [1,2]\n",
    "dic = {k: v*2 for (k,v) in zip(keys,values)} # генератор словарей\n",
    "dic"
   ]
  },
  {
   "cell_type": "code",
   "execution_count": 159,
   "id": "f095aff5",
   "metadata": {},
   "outputs": [
    {
     "data": {
      "text/plain": [
       "\"The novel 'Hard Times' was published in 1894\""
      ]
     },
     "execution_count": 159,
     "metadata": {},
     "output_type": "execute_result"
    }
   ],
   "source": [
    "\"The novel '{0}' was published in {1}\".format(\"Hard Times\", 1894)\n"
   ]
  },
  {
   "cell_type": "code",
   "execution_count": 160,
   "id": "83837ca1",
   "metadata": {},
   "outputs": [
    {
     "data": {
      "text/plain": [
       "'The amount is $200'"
      ]
     },
     "execution_count": 160,
     "metadata": {},
     "output_type": "execute_result"
    }
   ],
   "source": [
    "\"{0}{1}\".format(\"The amount is $\", 200)"
   ]
  },
  {
   "cell_type": "code",
   "execution_count": 162,
   "id": "376075b8",
   "metadata": {},
   "outputs": [
    {
     "data": {
      "text/plain": [
       "'She turned 88 this year'"
      ]
     },
     "execution_count": 162,
     "metadata": {},
     "output_type": "execute_result"
    }
   ],
   "source": [
    "'{who} turned {age} this year'.format(who='She', age=88)"
   ]
  },
  {
   "cell_type": "code",
   "execution_count": 163,
   "id": "5ba4f97b",
   "metadata": {},
   "outputs": [
    {
     "data": {
      "text/plain": [
       "'The boy was 12 last week'"
      ]
     },
     "execution_count": 163,
     "metadata": {},
     "output_type": "execute_result"
    }
   ],
   "source": [
    "'The {who} was {0} last week'.format(12, who='boy')"
   ]
  },
  {
   "cell_type": "code",
   "execution_count": 164,
   "id": "60b6f8dc",
   "metadata": {},
   "outputs": [
    {
     "data": {
      "text/plain": [
       "'We have envelopes and notepads in stock'"
      ]
     },
     "execution_count": 164,
     "metadata": {},
     "output_type": "execute_result"
    }
   ],
   "source": [
    "s = ['paper', 'envelopes', 'notepads', 'pens']\n",
    "'We have {0[1]} and {0[2]} in stock'.format(s)"
   ]
  },
  {
   "cell_type": "code",
   "execution_count": 165,
   "id": "af39d48d",
   "metadata": {},
   "outputs": [
    {
     "data": {
      "text/plain": [
       "'The elephant weight 1200kg'"
      ]
     },
     "execution_count": 165,
     "metadata": {},
     "output_type": "execute_result"
    }
   ],
   "source": [
    "d = dict(animal='elephant', weight=1200)\n",
    "'The {0[animal]} weight {0[weight]}kg'.format(d)"
   ]
  },
  {
   "cell_type": "code",
   "execution_count": 166,
   "id": "4e9e0f89",
   "metadata": {},
   "outputs": [
    {
     "data": {
      "text/plain": [
       "'math.pi == 3.141592653589793 sys.maxunicode == 1114111'"
      ]
     },
     "execution_count": 166,
     "metadata": {},
     "output_type": "execute_result"
    }
   ],
   "source": [
    "import sys\n",
    "import math\n",
    "'math.pi == {0.pi} sys.maxunicode == {1.maxunicode}'.format(math, sys)"
   ]
  },
  {
   "cell_type": "code",
   "execution_count": 167,
   "id": "a55299fb",
   "metadata": {},
   "outputs": [
    {
     "data": {
      "text/plain": [
       "Decimal('3.4084')"
      ]
     },
     "execution_count": 167,
     "metadata": {},
     "output_type": "execute_result"
    }
   ],
   "source": [
    "decimal.Decimal('3.4084')"
   ]
  },
  {
   "cell_type": "code",
   "execution_count": 168,
   "id": "7863e27f",
   "metadata": {},
   "outputs": [
    {
     "name": "stdout",
     "output_type": "stream",
     "text": [
      "3.4048\n"
     ]
    }
   ],
   "source": [
    "print(decimal.Decimal('3.4048'))"
   ]
  },
  {
   "cell_type": "code",
   "execution_count": 169,
   "id": "6c9a24ca",
   "metadata": {},
   "outputs": [
    {
     "data": {
      "text/plain": [
       "\"93.4 93.4 Decimal('93.4') Decimal('93.4')\""
      ]
     },
     "execution_count": 169,
     "metadata": {},
     "output_type": "execute_result"
    }
   ],
   "source": [
    "'{0} {0!s} {0!r} {0!a}'.format(decimal.Decimal('93.4'))"
   ]
  },
  {
   "cell_type": "code",
   "execution_count": 175,
   "id": "ac73ba96",
   "metadata": {},
   "outputs": [
    {
     "data": {
      "text/plain": [
       "'000000076857'"
      ]
     },
     "execution_count": 175,
     "metadata": {},
     "output_type": "execute_result"
    }
   ],
   "source": [
    "'{0:0=12}'.format(76857)"
   ]
  },
  {
   "cell_type": "code",
   "execution_count": 176,
   "id": "3335687a",
   "metadata": {},
   "outputs": [
    {
     "data": {
      "text/plain": [
       "'76857*******'"
      ]
     },
     "execution_count": 176,
     "metadata": {},
     "output_type": "execute_result"
    }
   ],
   "source": [
    "'{0:*<12}'.format(76857)"
   ]
  },
  {
   "cell_type": "code",
   "execution_count": 178,
   "id": "4ac9b5d6",
   "metadata": {},
   "outputs": [
    {
     "data": {
      "text/plain": [
       "'[+1234] [-1234]'"
      ]
     },
     "execution_count": 178,
     "metadata": {},
     "output_type": "execute_result"
    }
   ],
   "source": [
    "'[{0:+}] [{1:+}]'.format(1234, -1234)"
   ]
  },
  {
   "cell_type": "code",
   "execution_count": 179,
   "id": "42ff2dd7",
   "metadata": {},
   "outputs": [
    {
     "data": {
      "text/plain": [
       "'[1234] [-1234]'"
      ]
     },
     "execution_count": 179,
     "metadata": {},
     "output_type": "execute_result"
    }
   ],
   "source": [
    "'[{0:-}] [{1:-}]'.format(1234, -1234)"
   ]
  },
  {
   "cell_type": "code",
   "execution_count": 180,
   "id": "b1ef66ea",
   "metadata": {},
   "outputs": [
    {
     "data": {
      "text/plain": [
       "'[ 1234] [-1234]'"
      ]
     },
     "execution_count": 180,
     "metadata": {},
     "output_type": "execute_result"
    }
   ],
   "source": [
    "'[{0: }] [{1: }]'.format(1234, -1234)"
   ]
  }
 ],
 "metadata": {
  "kernelspec": {
   "display_name": "Python 3 (ipykernel)",
   "language": "python",
   "name": "python3"
  },
  "language_info": {
   "codemirror_mode": {
    "name": "ipython",
    "version": 3
   },
   "file_extension": ".py",
   "mimetype": "text/x-python",
   "name": "python",
   "nbconvert_exporter": "python",
   "pygments_lexer": "ipython3",
   "version": "3.11.4"
  }
 },
 "nbformat": 4,
 "nbformat_minor": 5
}
