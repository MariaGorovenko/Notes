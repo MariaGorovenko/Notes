{
 "cells": [
  {
   "cell_type": "raw",
   "id": "ea1bd814",
   "metadata": {},
   "source": [
    "Функции"
   ]
  },
  {
   "cell_type": "code",
   "execution_count": 2,
   "id": "ce68b7dd",
   "metadata": {},
   "outputs": [
    {
     "data": {
      "text/plain": [
       "3"
      ]
     },
     "execution_count": 2,
     "metadata": {},
     "output_type": "execute_result"
    }
   ],
   "source": [
    "def summa(x, y):\n",
    "    return x + y\n",
    "summa(1, 2)"
   ]
  },
  {
   "cell_type": "code",
   "execution_count": 3,
   "id": "e24b8b19",
   "metadata": {},
   "outputs": [
    {
     "data": {
      "text/plain": [
       "9"
      ]
     },
     "execution_count": 3,
     "metadata": {},
     "output_type": "execute_result"
    }
   ],
   "source": [
    "y = 3\n",
    "x = 6\n",
    "z = summa(y, x)\n",
    "z"
   ]
  },
  {
   "cell_type": "code",
   "execution_count": 5,
   "id": "7a7bca0a",
   "metadata": {},
   "outputs": [
    {
     "data": {
      "text/plain": [
       "'string'"
      ]
     },
     "execution_count": 5,
     "metadata": {},
     "output_type": "execute_result"
    }
   ],
   "source": [
    "summa('str', 'ing')"
   ]
  },
  {
   "cell_type": "code",
   "execution_count": 6,
   "id": "a784e982",
   "metadata": {},
   "outputs": [
    {
     "data": {
      "text/plain": [
       "[1, 3, 2]"
      ]
     },
     "execution_count": 6,
     "metadata": {},
     "output_type": "execute_result"
    }
   ],
   "source": [
    "summa([1,3], [2])"
   ]
  },
  {
   "cell_type": "code",
   "execution_count": 7,
   "id": "087cd3eb",
   "metadata": {},
   "outputs": [
    {
     "data": {
      "text/plain": [
       "30"
      ]
     },
     "execution_count": 7,
     "metadata": {},
     "output_type": "execute_result"
    }
   ],
   "source": [
    "f = summa\n",
    "v = f(10,20)\n",
    "v"
   ]
  },
  {
   "cell_type": "code",
   "execution_count": 8,
   "id": "56ea7e8f",
   "metadata": {},
   "outputs": [
    {
     "data": {
      "text/plain": [
       "function"
      ]
     },
     "execution_count": 8,
     "metadata": {},
     "output_type": "execute_result"
    }
   ],
   "source": [
    "type(summa)"
   ]
  },
  {
   "cell_type": "code",
   "execution_count": 9,
   "id": "28926368",
   "metadata": {},
   "outputs": [
    {
     "data": {
      "text/plain": [
       "function"
      ]
     },
     "execution_count": 9,
     "metadata": {},
     "output_type": "execute_result"
    }
   ],
   "source": [
    "type(f)"
   ]
  },
  {
   "cell_type": "code",
   "execution_count": 11,
   "id": "ac08a319",
   "metadata": {},
   "outputs": [],
   "source": [
    "def func(fp, a, b):\n",
    "    return fp(a,b)"
   ]
  },
  {
   "cell_type": "code",
   "execution_count": 12,
   "id": "e110613d",
   "metadata": {},
   "outputs": [
    {
     "data": {
      "text/plain": [
       "30"
      ]
     },
     "execution_count": 12,
     "metadata": {},
     "output_type": "execute_result"
    }
   ],
   "source": [
    "func(summa, 10, 20)"
   ]
  },
  {
   "cell_type": "code",
   "execution_count": 13,
   "id": "840067f5",
   "metadata": {},
   "outputs": [],
   "source": [
    "def razn(a, b):\n",
    "    return a - b"
   ]
  },
  {
   "cell_type": "code",
   "execution_count": 14,
   "id": "a9a3d962",
   "metadata": {},
   "outputs": [
    {
     "data": {
      "text/plain": [
       "-10"
      ]
     },
     "execution_count": 14,
     "metadata": {},
     "output_type": "execute_result"
    }
   ],
   "source": [
    "razn(10,20)"
   ]
  },
  {
   "cell_type": "code",
   "execution_count": 18,
   "id": "adda121e",
   "metadata": {},
   "outputs": [
    {
     "name": "stdout",
     "output_type": "stream",
     "text": [
      "Введите 1 для вызова первой функции: 1\n",
      "Вызов первой функции\n"
     ]
    }
   ],
   "source": [
    "n = input('Введите 1 для вызова первой функции: ')\n",
    "n = n.rstrip('\\r')\n",
    "if n == '1':\n",
    "    def echo():\n",
    "        print('Вызов первой функции')\n",
    "else:\n",
    "    def echo():\n",
    "        print('Альтернативная функция')\n",
    "echo()"
   ]
  },
  {
   "cell_type": "code",
   "execution_count": 19,
   "id": "a0b3ae20",
   "metadata": {},
   "outputs": [
    {
     "name": "stdout",
     "output_type": "stream",
     "text": [
      "30\n",
      "15\n",
      "45\n"
     ]
    }
   ],
   "source": [
    "f1 = lambda: 10 + 20\n",
    "f2 = lambda x, y: x + y\n",
    "f3 = lambda x, y, z: x + y + z\n",
    "print(f1())\n",
    "print(f2(5,10))\n",
    "print(f3(5,10,30))"
   ]
  },
  {
   "cell_type": "code",
   "execution_count": 20,
   "id": "eba8fd2e",
   "metadata": {},
   "outputs": [
    {
     "name": "stdout",
     "output_type": "stream",
     "text": [
      "['Единица2', 'Единый', 'единица1']\n",
      "['единица1', 'Единица2', 'Единый']\n"
     ]
    }
   ],
   "source": [
    "arr = ['единица1', 'Единый', 'Единица2']\n",
    "arr.sort()\n",
    "print(arr)\n",
    "arr.sort(key=lambda s: s.lower())\n",
    "print(arr)"
   ]
  },
  {
   "cell_type": "code",
   "execution_count": 108,
   "id": "8a27588f",
   "metadata": {},
   "outputs": [],
   "source": [
    "#ls = ['дыня','вишня','арбуз','яблоко','абрикос']\n",
    "#sorted(ls)"
   ]
  },
  {
   "cell_type": "code",
   "execution_count": 22,
   "id": "712a1731",
   "metadata": {},
   "outputs": [
    {
     "data": {
      "text/plain": [
       "['дыня', 'вишня', 'арбуз', 'яблоко', 'абрикос']"
      ]
     },
     "execution_count": 22,
     "metadata": {},
     "output_type": "execute_result"
    }
   ],
   "source": [
    "sorted(ls, key=lambda s: len(s))"
   ]
  },
  {
   "cell_type": "code",
   "execution_count": 23,
   "id": "18a5989e",
   "metadata": {},
   "outputs": [],
   "source": [
    "def summa(x, y=2):\n",
    "    return x + y"
   ]
  },
  {
   "cell_type": "code",
   "execution_count": 24,
   "id": "67d15539",
   "metadata": {},
   "outputs": [
    {
     "data": {
      "text/plain": [
       "7"
      ]
     },
     "execution_count": 24,
     "metadata": {},
     "output_type": "execute_result"
    }
   ],
   "source": [
    "summa(5)"
   ]
  },
  {
   "cell_type": "code",
   "execution_count": 25,
   "id": "30655671",
   "metadata": {},
   "outputs": [
    {
     "data": {
      "text/plain": [
       "9"
      ]
     },
     "execution_count": 25,
     "metadata": {},
     "output_type": "execute_result"
    }
   ],
   "source": [
    "summa(5, 4)"
   ]
  },
  {
   "cell_type": "code",
   "execution_count": 26,
   "id": "ed0f8c44",
   "metadata": {},
   "outputs": [],
   "source": [
    "def razn(x, y):\n",
    "    return x - y"
   ]
  },
  {
   "cell_type": "code",
   "execution_count": 28,
   "id": "823afe62",
   "metadata": {},
   "outputs": [
    {
     "data": {
      "text/plain": [
       "10"
      ]
     },
     "execution_count": 28,
     "metadata": {},
     "output_type": "execute_result"
    }
   ],
   "source": [
    "razn(y=10, x=20)"
   ]
  },
  {
   "cell_type": "code",
   "execution_count": 29,
   "id": "a344b502",
   "metadata": {},
   "outputs": [],
   "source": [
    "def append_if_even(x, lst=None):\n",
    "    if lst is None:\n",
    "        lst = []\n",
    "    if x % 2 == 0:\n",
    "        lst.append(x)\n",
    "    return lst"
   ]
  },
  {
   "cell_type": "code",
   "execution_count": 30,
   "id": "e224bb02",
   "metadata": {},
   "outputs": [
    {
     "data": {
      "text/plain": [
       "[2]"
      ]
     },
     "execution_count": 30,
     "metadata": {},
     "output_type": "execute_result"
    }
   ],
   "source": [
    "append_if_even(2)"
   ]
  },
  {
   "cell_type": "code",
   "execution_count": 31,
   "id": "6fa9cd26",
   "metadata": {},
   "outputs": [
    {
     "data": {
      "text/plain": [
       "[4]"
      ]
     },
     "execution_count": 31,
     "metadata": {},
     "output_type": "execute_result"
    }
   ],
   "source": [
    "append_if_even(4)"
   ]
  },
  {
   "cell_type": "code",
   "execution_count": 32,
   "id": "0746a75d",
   "metadata": {},
   "outputs": [],
   "source": [
    "def _append_if_even(x, lst=[]):\n",
    "    if x % 2 == 0:\n",
    "        lst.append(x)\n",
    "    return lst"
   ]
  },
  {
   "cell_type": "code",
   "execution_count": 33,
   "id": "361cb894",
   "metadata": {},
   "outputs": [
    {
     "data": {
      "text/plain": [
       "[2]"
      ]
     },
     "execution_count": 33,
     "metadata": {},
     "output_type": "execute_result"
    }
   ],
   "source": [
    "_append_if_even(2)"
   ]
  },
  {
   "cell_type": "code",
   "execution_count": 34,
   "id": "0c96a7dc",
   "metadata": {},
   "outputs": [
    {
     "data": {
      "text/plain": [
       "[2, 4]"
      ]
     },
     "execution_count": 34,
     "metadata": {},
     "output_type": "execute_result"
    }
   ],
   "source": [
    "_append_if_even(4)"
   ]
  },
  {
   "cell_type": "code",
   "execution_count": 40,
   "id": "ff432c90",
   "metadata": {},
   "outputs": [],
   "source": [
    "def mi_med_ma(l):\n",
    "    ls = sorted(l)\n",
    "    mi = ls[0]\n",
    "    ma = ls[-1]\n",
    "    med = ls[len(ls)//2]\n",
    "    return mi, med, ma"
   ]
  },
  {
   "cell_type": "code",
   "execution_count": 41,
   "id": "b7c43977",
   "metadata": {},
   "outputs": [
    {
     "data": {
      "text/plain": [
       "(1, 7, 100)"
      ]
     },
     "execution_count": 41,
     "metadata": {},
     "output_type": "execute_result"
    }
   ],
   "source": [
    "mi_med_ma([3, 1, 100, 11, 7])"
   ]
  },
  {
   "cell_type": "code",
   "execution_count": 42,
   "id": "f35fe6e6",
   "metadata": {},
   "outputs": [],
   "source": [
    "min1, med1, max1 = mi_med_ma([3, 1, 100, 11, 7])"
   ]
  },
  {
   "cell_type": "code",
   "execution_count": 44,
   "id": "4149558d",
   "metadata": {},
   "outputs": [
    {
     "name": "stdout",
     "output_type": "stream",
     "text": [
      "min1 = 1, med1 = 7, max1 = 100\n"
     ]
    }
   ],
   "source": [
    "print(f'min1 = {min1}, med1 = {med1}, max1 = {max1}')"
   ]
  },
  {
   "cell_type": "code",
   "execution_count": 48,
   "id": "3f7c9479",
   "metadata": {},
   "outputs": [],
   "source": [
    "t1 = [2,3]\n",
    "t2 = [1,2,3,4]"
   ]
  },
  {
   "cell_type": "code",
   "execution_count": 49,
   "id": "d46c4985",
   "metadata": {},
   "outputs": [
    {
     "data": {
      "text/plain": [
       "5"
      ]
     },
     "execution_count": 49,
     "metadata": {},
     "output_type": "execute_result"
    }
   ],
   "source": [
    "summa(*t1)"
   ]
  },
  {
   "cell_type": "code",
   "execution_count": 51,
   "id": "edf1a4ea",
   "metadata": {},
   "outputs": [
    {
     "data": {
      "text/plain": [
       "3"
      ]
     },
     "execution_count": 51,
     "metadata": {},
     "output_type": "execute_result"
    }
   ],
   "source": [
    "summa(*t2[:2])"
   ]
  },
  {
   "cell_type": "code",
   "execution_count": 52,
   "id": "ec7c9da0",
   "metadata": {},
   "outputs": [],
   "source": [
    "d1 = {'x':11, 'y':12}"
   ]
  },
  {
   "cell_type": "code",
   "execution_count": 53,
   "id": "b5214a82",
   "metadata": {},
   "outputs": [
    {
     "data": {
      "text/plain": [
       "'xy'"
      ]
     },
     "execution_count": 53,
     "metadata": {},
     "output_type": "execute_result"
    }
   ],
   "source": [
    "summa(*d1)"
   ]
  },
  {
   "cell_type": "code",
   "execution_count": 54,
   "id": "a3378216",
   "metadata": {},
   "outputs": [
    {
     "data": {
      "text/plain": [
       "23"
      ]
     },
     "execution_count": 54,
     "metadata": {},
     "output_type": "execute_result"
    }
   ],
   "source": [
    "summa(**d1)"
   ]
  },
  {
   "cell_type": "code",
   "execution_count": 57,
   "id": "035b2842",
   "metadata": {},
   "outputs": [],
   "source": [
    "def all_summa(*t):\n",
    "    res = 0\n",
    "    for i in t:\n",
    "        res += i\n",
    "    return res"
   ]
  },
  {
   "cell_type": "code",
   "execution_count": 58,
   "id": "d4814b40",
   "metadata": {},
   "outputs": [
    {
     "data": {
      "text/plain": [
       "150"
      ]
     },
     "execution_count": 58,
     "metadata": {},
     "output_type": "execute_result"
    }
   ],
   "source": [
    "all_summa(10, 20, 30, 40, 50)"
   ]
  },
  {
   "cell_type": "code",
   "execution_count": 59,
   "id": "25693b87",
   "metadata": {},
   "outputs": [
    {
     "data": {
      "text/plain": [
       "10"
      ]
     },
     "execution_count": 59,
     "metadata": {},
     "output_type": "execute_result"
    }
   ],
   "source": [
    "t4 = [1, 2, 3, 4]\n",
    "all_summa(*t4)"
   ]
  },
  {
   "cell_type": "code",
   "execution_count": 60,
   "id": "50f5e1c5",
   "metadata": {},
   "outputs": [],
   "source": [
    "def d_summa(**d):\n",
    "    for k,v in d.items():\n",
    "        print(f'{k} => {v}', end = '; ')"
   ]
  },
  {
   "cell_type": "code",
   "execution_count": 61,
   "id": "6a1e1067",
   "metadata": {},
   "outputs": [
    {
     "name": "stdout",
     "output_type": "stream",
     "text": [
      "a => 1; b => 10; c => -1; "
     ]
    }
   ],
   "source": [
    "d_summa(a=1, b=10, c=-1)"
   ]
  },
  {
   "cell_type": "code",
   "execution_count": 63,
   "id": "f2d697fd",
   "metadata": {},
   "outputs": [
    {
     "name": "stdout",
     "output_type": "stream",
     "text": [
      "f => 3; g => 4; e => 5; "
     ]
    }
   ],
   "source": [
    "d3 = {'f':3, 'g':4, 'e':5}\n",
    "d_summa(**d3)"
   ]
  },
  {
   "cell_type": "code",
   "execution_count": 64,
   "id": "896ae541",
   "metadata": {},
   "outputs": [],
   "source": [
    "def c_summa(*t, **d):\n",
    "    for v in t:\n",
    "        print(v, end='; ')\n",
    "    for k,v in d.items():\n",
    "        print(f'{k} => {v}', end='; ')"
   ]
  },
  {
   "cell_type": "code",
   "execution_count": 65,
   "id": "61ac28d7",
   "metadata": {},
   "outputs": [
    {
     "name": "stdout",
     "output_type": "stream",
     "text": [
      "10; 20; 30; a => 1; b => 2; "
     ]
    }
   ],
   "source": [
    "c_summa(10,20,30,a=1,b=2)"
   ]
  },
  {
   "cell_type": "code",
   "execution_count": 66,
   "id": "293411ff",
   "metadata": {},
   "outputs": [
    {
     "name": "stdout",
     "output_type": "stream",
     "text": [
      "1; 2; 3; 4; f => 3; g => 4; e => 5; "
     ]
    }
   ],
   "source": [
    "c_summa(*t4, **d3)"
   ]
  },
  {
   "cell_type": "code",
   "execution_count": 67,
   "id": "1f851d0d",
   "metadata": {},
   "outputs": [],
   "source": [
    "?print"
   ]
  },
  {
   "cell_type": "code",
   "execution_count": 71,
   "id": "99bb3c00",
   "metadata": {},
   "outputs": [],
   "source": [
    "import typing"
   ]
  },
  {
   "cell_type": "code",
   "execution_count": 72,
   "id": "56777991",
   "metadata": {},
   "outputs": [],
   "source": [
    "def stringify(num: int) -> str:\n",
    "    return str(num)\n",
    "def plus(num1: int, num2: int) -> int:\n",
    "    return num1 + num2\n",
    "def f(num1: int, my_float: float = 3.5) -> float:\n",
    "    return num1 + my_float"
   ]
  },
  {
   "cell_type": "code",
   "execution_count": 74,
   "id": "e8958c7e",
   "metadata": {},
   "outputs": [],
   "source": [
    "def change(a, b):\n",
    "    a = 20\n",
    "    b = 'str'"
   ]
  },
  {
   "cell_type": "code",
   "execution_count": 75,
   "id": "aee2e074",
   "metadata": {},
   "outputs": [
    {
     "name": "stdout",
     "output_type": "stream",
     "text": [
      "v1: 30\n",
      "v2: val\n"
     ]
    }
   ],
   "source": [
    "v1 = 30\n",
    "v2 = 'val'\n",
    "change(v1,v2)\n",
    "print(f'v1: {v1}')\n",
    "print(f'v2: {v2}')"
   ]
  },
  {
   "cell_type": "code",
   "execution_count": 76,
   "id": "8990dec7",
   "metadata": {},
   "outputs": [],
   "source": [
    "def change2(a):\n",
    "    a.append(10)"
   ]
  },
  {
   "cell_type": "code",
   "execution_count": 77,
   "id": "e748af88",
   "metadata": {},
   "outputs": [
    {
     "data": {
      "text/plain": [
       "[1, 10]"
      ]
     },
     "execution_count": 77,
     "metadata": {},
     "output_type": "execute_result"
    }
   ],
   "source": [
    "s1 = [1]\n",
    "change2(s1)\n",
    "s1"
   ]
  },
  {
   "cell_type": "code",
   "execution_count": 82,
   "id": "dd3a01e4",
   "metadata": {},
   "outputs": [
    {
     "name": "stdout",
     "output_type": "stream",
     "text": [
      "5\n",
      "87\n"
     ]
    }
   ],
   "source": [
    "def Glob(glob2):\n",
    "    glob2 += 10\n",
    "    print(glob2)\n",
    "glob, glob2 = 10, 5\n",
    "print(glob2)\n",
    "Glob(77)"
   ]
  },
  {
   "cell_type": "code",
   "execution_count": 83,
   "id": "b88a4fca",
   "metadata": {},
   "outputs": [
    {
     "name": "stdout",
     "output_type": "stream",
     "text": [
      "25\n",
      "10\n",
      "loc only in func\n"
     ]
    }
   ],
   "source": [
    "def func():\n",
    "    loc = 77\n",
    "    glob = 25\n",
    "    print(glob)\n",
    "glob = 10\n",
    "func()\n",
    "print(glob)\n",
    "try:\n",
    "    print(loc)\n",
    "except NameError:\n",
    "    print('loc only in func')"
   ]
  },
  {
   "cell_type": "code",
   "execution_count": 84,
   "id": "a45ecf8b",
   "metadata": {},
   "outputs": [
    {
     "name": "stdout",
     "output_type": "stream",
     "text": [
      "25\n",
      "25\n"
     ]
    }
   ],
   "source": [
    "def func():\n",
    "    global glob\n",
    "    loc = 77\n",
    "    glob = 25\n",
    "    print(glob)\n",
    "glob = 10\n",
    "func()\n",
    "print(glob)"
   ]
  },
  {
   "cell_type": "code",
   "execution_count": 85,
   "id": "a24b7010",
   "metadata": {},
   "outputs": [
    {
     "data": {
      "text/plain": [
       "{'__name__': '__main__',\n",
       " '__doc__': 'Automatically created module for IPython interactive environment',\n",
       " '__package__': None,\n",
       " '__loader__': None,\n",
       " '__spec__': None,\n",
       " '__builtin__': <module 'builtins' (built-in)>,\n",
       " '__builtins__': <module 'builtins' (built-in)>,\n",
       " '_ih': ['',\n",
       "  'summa(1,2)',\n",
       "  'def summa(x, y):\\n    return x + y\\nsumma(1, 2)',\n",
       "  'y = 3\\nx = 6\\nz = summa(y, x)\\nz',\n",
       "  \"summa('str', 'int')\",\n",
       "  \"summa('str', 'ing')\",\n",
       "  'summa([1,3], [2])',\n",
       "  'f = summa\\nv = f(10,20)\\nv',\n",
       "  'type(summa)',\n",
       "  'type(f)',\n",
       "  'func(summa, 10, 20)',\n",
       "  'def func(fp, a, b):\\n    return fp(a,b)',\n",
       "  'func(summa, 10, 20)',\n",
       "  'def razn(a, b):\\n    return a - b',\n",
       "  'razn(10,20)',\n",
       "  'summa._name_',\n",
       "  \"n = input('Введите 1 для вызова первой функции: ')\\nn = n.rstrip('\\\\r')\\nif n == '1':\\n    def echo():\\n        print('Вызов первой функции')\\nelse:\\n    def echo():\\n        print('Альтернативная функция')\",\n",
       "  \"n = input('Введите 1 для вызова первой функции: ')\\nn = n.rstrip('\\\\r')\\nif n == '1':\\n    def echo():\\n        print('Вызов первой функции')\\nelse:\\n    def echo():\\n        print('Альтернативная функция')\",\n",
       "  \"n = input('Введите 1 для вызова первой функции: ')\\nn = n.rstrip('\\\\r')\\nif n == '1':\\n    def echo():\\n        print('Вызов первой функции')\\nelse:\\n    def echo():\\n        print('Альтернативная функция')\\necho()\",\n",
       "  'f1 = lambda: 10 + 20\\nf2 = lambda x, y: x + y\\nf3 = lambda x, y, z: x + y + z\\nprint(f1())\\nprint(f2(5,10))\\nprint(f3(5,10,30))',\n",
       "  \"arr = ['единица1', 'Единый', 'Единица2']\\narr.sort()\\nprint(arr)\\narr.sort(key=lambda s: s.lower())\\nprint(arr)\",\n",
       "  \"ls = ['дыня','вишня','арбуз','яблоко','абрикос']\\nsorted(ls)\",\n",
       "  'sorted(ls, key=lambda s: len(s))',\n",
       "  'def summa(x, y=2):\\n    return x + y',\n",
       "  'summa(5)',\n",
       "  'summa(5, 4)',\n",
       "  'def razn(x, y):\\n    return x - y',\n",
       "  'razn(y=10, x=10)',\n",
       "  'razn(y=10, x=20)',\n",
       "  'def append_if_even(x, lst=None):\\n    if lst is None:\\n        lst = []\\n    if x % 2 == 0:\\n        lst.append(x)\\n    return lst',\n",
       "  'append_if_even(2)',\n",
       "  'append_if_even(4)',\n",
       "  'def _append_if_even(x, lst=[]):\\n    if x % 2 == 0:\\n        lst.append(x)\\n    return lst',\n",
       "  '_append_if_even(2)',\n",
       "  '_append_if_even(4)',\n",
       "  'def min_med_max(1):\\n    ls = sorted(1)\\n    1_min = ls[0]\\n    1_max = ls[-1]\\n    1_med = ls[len(ls)//2]\\n    return 1_min, 1_med, 1_max',\n",
       "  'def mi_med_ma(1):\\n    ls = sorted(1)\\n    1_mi = ls[0]\\n    1_ma = ls[-1]\\n    1_med = ls[len(ls)//2]\\n    return 1_mi, 1_med, 1_ma',\n",
       "  'def mi_med_ma(1):\\n    ls = sorted(1)\\n    mi = ls[0]\\n    ma = ls[-1]\\n    med = ls[len(ls)//2]\\n    return mi, med, ma',\n",
       "  'def mi_med_ma(l):\\n    ls = sorted(1)\\n    mi = ls[0]\\n    ma = ls[-1]\\n    med = ls[len(ls)//2]\\n    return mi, med, ma',\n",
       "  'mi_med_ma([3, 1, 100, 11, 7])',\n",
       "  'def mi_med_ma(l):\\n    ls = sorted(l)\\n    mi = ls[0]\\n    ma = ls[-1]\\n    med = ls[len(ls)//2]\\n    return mi, med, ma',\n",
       "  'mi_med_ma([3, 1, 100, 11, 7])',\n",
       "  'min1, med1, max1 = mi_med_ma([3, 1, 100, 11, 7])',\n",
       "  \"print(f'min1 = {min1}, med1 = {med1}, max1 = {max1})\",\n",
       "  \"print(f'min1 = {min1}, med1 = {med1}, max1 = {max1}')\",\n",
       "  't1 = [2,3]',\n",
       "  'summa(*t1)',\n",
       "  'summa(*t2[:3])',\n",
       "  't1 = [2,3]\\nt2 = [1,2,3,4]',\n",
       "  'summa(*t1)',\n",
       "  'summa(*t2[:3])',\n",
       "  'summa(*t2[:2])',\n",
       "  \"d1 = {'x':11, 'y':12}\",\n",
       "  'summa(*d1)',\n",
       "  'summa(**d1)',\n",
       "  'def all_summa(*t):\\n    res = 0\\n    for i in t:\\n        res += 1\\n    return res',\n",
       "  'all_summa(10, 20, 30, 40, 50)',\n",
       "  'def all_summa(*t):\\n    res = 0\\n    for i in t:\\n        res += i\\n    return res',\n",
       "  'all_summa(10, 20, 30, 40, 50)',\n",
       "  't4 = [1, 2, 3, 4]\\nall_summa(*t4)',\n",
       "  \"def d_summa(**d):\\n    for k,v in d.items():\\n        print(f'{k} => {v}', end = '; ')\",\n",
       "  'd_summa(a=1, b=10, c=-1)',\n",
       "  \"d3 = {'f':3, 'g':4, 'e':5}\\nd_summa(**d)\",\n",
       "  \"d3 = {'f':3, 'g':4, 'e':5}\\nd_summa(**d3)\",\n",
       "  \"def c_summa(*t, **d):\\n    for v in t:\\n        print(v, end='; ')\\n    for k,v in d.items():\\n        print(f'{k} => {v}', end='; ')\",\n",
       "  'c_summa(10,20,30,a=1,b=2)',\n",
       "  'c_summa(*t4, **d3)',\n",
       "  \"get_ipython().run_line_magic('pinfo', 'print')\",\n",
       "  'import typing',\n",
       "  'def stringify(num: int) -> str:\\n    return str(num)\\ndef plus(num1: int, num2: int) -> int:\\n    return num1 + num2\\ndef f(num1: int, my_float: float = 3.5) -> float:\\n    return num1 + my_float',\n",
       "  'import typing\\nimport _main_',\n",
       "  'import typing',\n",
       "  'def stringify(num: int) -> str:\\n    return str(num)\\ndef plus(num1: int, num2: int) -> int:\\n    return num1 + num2\\ndef f(num1: int, my_float: float = 3.5) -> float:\\n    return num1 + my_float',\n",
       "  'stringify._annotations_',\n",
       "  \"def change(a, b):\\n    a = 20\\n    b = 'str'\",\n",
       "  \"v1 = 30\\nv2 = 'val'\\nchange(v1,v2)\\nprint(f'v1: {v1}')\\nprint(f'v2: {v2}')\",\n",
       "  'def change2(a):\\n    a.append(10)',\n",
       "  's1 = [1]\\nchange2(s1)\\ns1',\n",
       "  'def Glob(glob2):\\n    glob += 10\\nglob, glob2 = 10, 5\\nGlob(77)',\n",
       "  'def Glob(glob2):\\n    glob2 += 10\\nglob, glob2 = 10, 5\\nGlob(77)',\n",
       "  'def Glob(glob2):\\n    glob2 += 10\\nglob, glob2 = 10, 5\\nGlob(77)',\n",
       "  'def Glob(glob2):\\n    glob2 += 10\\nglob, glob2 = 10, 5\\nprint(glob2)\\nGlob(77)\\nprint(glob2)',\n",
       "  'def Glob(glob2):\\n    glob2 += 10\\n    print(glob2)\\nglob, glob2 = 10, 5\\nprint(glob2)\\nGlob(77)',\n",
       "  \"def func():\\n    loc = 77\\n    glob = 25\\n    print(glob)\\nglob = 10\\nfunc()\\nprint(glob)\\ntry:\\n    print(loc)\\nexcept NameError:\\n    print('loc only in func')\",\n",
       "  'def func():\\n    global glob\\n    loc = 77\\n    glob = 25\\n    print(glob)\\nglob = 10\\nfunc()\\nprint(glob)',\n",
       "  'globals()'],\n",
       " '_oh': {2: 3,\n",
       "  3: 9,\n",
       "  4: 'strint',\n",
       "  5: 'string',\n",
       "  6: [1, 3, 2],\n",
       "  7: 30,\n",
       "  8: function,\n",
       "  9: function,\n",
       "  12: 30,\n",
       "  14: -10,\n",
       "  21: ['абрикос', 'арбуз', 'вишня', 'дыня', 'яблоко'],\n",
       "  22: ['дыня', 'вишня', 'арбуз', 'яблоко', 'абрикос'],\n",
       "  24: 7,\n",
       "  25: 9,\n",
       "  27: 0,\n",
       "  28: 10,\n",
       "  30: [2],\n",
       "  31: [4],\n",
       "  33: [2, 4],\n",
       "  34: [2, 4],\n",
       "  41: (1, 7, 100),\n",
       "  46: 5,\n",
       "  49: 5,\n",
       "  51: 3,\n",
       "  53: 'xy',\n",
       "  54: 23,\n",
       "  56: 5,\n",
       "  58: 150,\n",
       "  59: 10,\n",
       "  77: [1, 10]},\n",
       " '_dh': [PosixPath('/Users/test')],\n",
       " 'In': ['',\n",
       "  'summa(1,2)',\n",
       "  'def summa(x, y):\\n    return x + y\\nsumma(1, 2)',\n",
       "  'y = 3\\nx = 6\\nz = summa(y, x)\\nz',\n",
       "  \"summa('str', 'int')\",\n",
       "  \"summa('str', 'ing')\",\n",
       "  'summa([1,3], [2])',\n",
       "  'f = summa\\nv = f(10,20)\\nv',\n",
       "  'type(summa)',\n",
       "  'type(f)',\n",
       "  'func(summa, 10, 20)',\n",
       "  'def func(fp, a, b):\\n    return fp(a,b)',\n",
       "  'func(summa, 10, 20)',\n",
       "  'def razn(a, b):\\n    return a - b',\n",
       "  'razn(10,20)',\n",
       "  'summa._name_',\n",
       "  \"n = input('Введите 1 для вызова первой функции: ')\\nn = n.rstrip('\\\\r')\\nif n == '1':\\n    def echo():\\n        print('Вызов первой функции')\\nelse:\\n    def echo():\\n        print('Альтернативная функция')\",\n",
       "  \"n = input('Введите 1 для вызова первой функции: ')\\nn = n.rstrip('\\\\r')\\nif n == '1':\\n    def echo():\\n        print('Вызов первой функции')\\nelse:\\n    def echo():\\n        print('Альтернативная функция')\",\n",
       "  \"n = input('Введите 1 для вызова первой функции: ')\\nn = n.rstrip('\\\\r')\\nif n == '1':\\n    def echo():\\n        print('Вызов первой функции')\\nelse:\\n    def echo():\\n        print('Альтернативная функция')\\necho()\",\n",
       "  'f1 = lambda: 10 + 20\\nf2 = lambda x, y: x + y\\nf3 = lambda x, y, z: x + y + z\\nprint(f1())\\nprint(f2(5,10))\\nprint(f3(5,10,30))',\n",
       "  \"arr = ['единица1', 'Единый', 'Единица2']\\narr.sort()\\nprint(arr)\\narr.sort(key=lambda s: s.lower())\\nprint(arr)\",\n",
       "  \"ls = ['дыня','вишня','арбуз','яблоко','абрикос']\\nsorted(ls)\",\n",
       "  'sorted(ls, key=lambda s: len(s))',\n",
       "  'def summa(x, y=2):\\n    return x + y',\n",
       "  'summa(5)',\n",
       "  'summa(5, 4)',\n",
       "  'def razn(x, y):\\n    return x - y',\n",
       "  'razn(y=10, x=10)',\n",
       "  'razn(y=10, x=20)',\n",
       "  'def append_if_even(x, lst=None):\\n    if lst is None:\\n        lst = []\\n    if x % 2 == 0:\\n        lst.append(x)\\n    return lst',\n",
       "  'append_if_even(2)',\n",
       "  'append_if_even(4)',\n",
       "  'def _append_if_even(x, lst=[]):\\n    if x % 2 == 0:\\n        lst.append(x)\\n    return lst',\n",
       "  '_append_if_even(2)',\n",
       "  '_append_if_even(4)',\n",
       "  'def min_med_max(1):\\n    ls = sorted(1)\\n    1_min = ls[0]\\n    1_max = ls[-1]\\n    1_med = ls[len(ls)//2]\\n    return 1_min, 1_med, 1_max',\n",
       "  'def mi_med_ma(1):\\n    ls = sorted(1)\\n    1_mi = ls[0]\\n    1_ma = ls[-1]\\n    1_med = ls[len(ls)//2]\\n    return 1_mi, 1_med, 1_ma',\n",
       "  'def mi_med_ma(1):\\n    ls = sorted(1)\\n    mi = ls[0]\\n    ma = ls[-1]\\n    med = ls[len(ls)//2]\\n    return mi, med, ma',\n",
       "  'def mi_med_ma(l):\\n    ls = sorted(1)\\n    mi = ls[0]\\n    ma = ls[-1]\\n    med = ls[len(ls)//2]\\n    return mi, med, ma',\n",
       "  'mi_med_ma([3, 1, 100, 11, 7])',\n",
       "  'def mi_med_ma(l):\\n    ls = sorted(l)\\n    mi = ls[0]\\n    ma = ls[-1]\\n    med = ls[len(ls)//2]\\n    return mi, med, ma',\n",
       "  'mi_med_ma([3, 1, 100, 11, 7])',\n",
       "  'min1, med1, max1 = mi_med_ma([3, 1, 100, 11, 7])',\n",
       "  \"print(f'min1 = {min1}, med1 = {med1}, max1 = {max1})\",\n",
       "  \"print(f'min1 = {min1}, med1 = {med1}, max1 = {max1}')\",\n",
       "  't1 = [2,3]',\n",
       "  'summa(*t1)',\n",
       "  'summa(*t2[:3])',\n",
       "  't1 = [2,3]\\nt2 = [1,2,3,4]',\n",
       "  'summa(*t1)',\n",
       "  'summa(*t2[:3])',\n",
       "  'summa(*t2[:2])',\n",
       "  \"d1 = {'x':11, 'y':12}\",\n",
       "  'summa(*d1)',\n",
       "  'summa(**d1)',\n",
       "  'def all_summa(*t):\\n    res = 0\\n    for i in t:\\n        res += 1\\n    return res',\n",
       "  'all_summa(10, 20, 30, 40, 50)',\n",
       "  'def all_summa(*t):\\n    res = 0\\n    for i in t:\\n        res += i\\n    return res',\n",
       "  'all_summa(10, 20, 30, 40, 50)',\n",
       "  't4 = [1, 2, 3, 4]\\nall_summa(*t4)',\n",
       "  \"def d_summa(**d):\\n    for k,v in d.items():\\n        print(f'{k} => {v}', end = '; ')\",\n",
       "  'd_summa(a=1, b=10, c=-1)',\n",
       "  \"d3 = {'f':3, 'g':4, 'e':5}\\nd_summa(**d)\",\n",
       "  \"d3 = {'f':3, 'g':4, 'e':5}\\nd_summa(**d3)\",\n",
       "  \"def c_summa(*t, **d):\\n    for v in t:\\n        print(v, end='; ')\\n    for k,v in d.items():\\n        print(f'{k} => {v}', end='; ')\",\n",
       "  'c_summa(10,20,30,a=1,b=2)',\n",
       "  'c_summa(*t4, **d3)',\n",
       "  \"get_ipython().run_line_magic('pinfo', 'print')\",\n",
       "  'import typing',\n",
       "  'def stringify(num: int) -> str:\\n    return str(num)\\ndef plus(num1: int, num2: int) -> int:\\n    return num1 + num2\\ndef f(num1: int, my_float: float = 3.5) -> float:\\n    return num1 + my_float',\n",
       "  'import typing\\nimport _main_',\n",
       "  'import typing',\n",
       "  'def stringify(num: int) -> str:\\n    return str(num)\\ndef plus(num1: int, num2: int) -> int:\\n    return num1 + num2\\ndef f(num1: int, my_float: float = 3.5) -> float:\\n    return num1 + my_float',\n",
       "  'stringify._annotations_',\n",
       "  \"def change(a, b):\\n    a = 20\\n    b = 'str'\",\n",
       "  \"v1 = 30\\nv2 = 'val'\\nchange(v1,v2)\\nprint(f'v1: {v1}')\\nprint(f'v2: {v2}')\",\n",
       "  'def change2(a):\\n    a.append(10)',\n",
       "  's1 = [1]\\nchange2(s1)\\ns1',\n",
       "  'def Glob(glob2):\\n    glob += 10\\nglob, glob2 = 10, 5\\nGlob(77)',\n",
       "  'def Glob(glob2):\\n    glob2 += 10\\nglob, glob2 = 10, 5\\nGlob(77)',\n",
       "  'def Glob(glob2):\\n    glob2 += 10\\nglob, glob2 = 10, 5\\nGlob(77)',\n",
       "  'def Glob(glob2):\\n    glob2 += 10\\nglob, glob2 = 10, 5\\nprint(glob2)\\nGlob(77)\\nprint(glob2)',\n",
       "  'def Glob(glob2):\\n    glob2 += 10\\n    print(glob2)\\nglob, glob2 = 10, 5\\nprint(glob2)\\nGlob(77)',\n",
       "  \"def func():\\n    loc = 77\\n    glob = 25\\n    print(glob)\\nglob = 10\\nfunc()\\nprint(glob)\\ntry:\\n    print(loc)\\nexcept NameError:\\n    print('loc only in func')\",\n",
       "  'def func():\\n    global glob\\n    loc = 77\\n    glob = 25\\n    print(glob)\\nglob = 10\\nfunc()\\nprint(glob)',\n",
       "  'globals()'],\n",
       " 'Out': {2: 3,\n",
       "  3: 9,\n",
       "  4: 'strint',\n",
       "  5: 'string',\n",
       "  6: [1, 3, 2],\n",
       "  7: 30,\n",
       "  8: function,\n",
       "  9: function,\n",
       "  12: 30,\n",
       "  14: -10,\n",
       "  21: ['абрикос', 'арбуз', 'вишня', 'дыня', 'яблоко'],\n",
       "  22: ['дыня', 'вишня', 'арбуз', 'яблоко', 'абрикос'],\n",
       "  24: 7,\n",
       "  25: 9,\n",
       "  27: 0,\n",
       "  28: 10,\n",
       "  30: [2],\n",
       "  31: [4],\n",
       "  33: [2, 4],\n",
       "  34: [2, 4],\n",
       "  41: (1, 7, 100),\n",
       "  46: 5,\n",
       "  49: 5,\n",
       "  51: 3,\n",
       "  53: 'xy',\n",
       "  54: 23,\n",
       "  56: 5,\n",
       "  58: 150,\n",
       "  59: 10,\n",
       "  77: [1, 10]},\n",
       " 'get_ipython': <bound method InteractiveShell.get_ipython of <ipykernel.zmqshell.ZMQInteractiveShell object at 0x10ed44e10>>,\n",
       " 'exit': <IPython.core.autocall.ZMQExitAutocall at 0x10ed68e90>,\n",
       " 'quit': <IPython.core.autocall.ZMQExitAutocall at 0x10ed68e90>,\n",
       " 'open': <function io.open(file, mode='r', buffering=-1, encoding=None, errors=None, newline=None, closefd=True, opener=None)>,\n",
       " '_': [1, 10],\n",
       " '__': 10,\n",
       " '___': 150,\n",
       " '_i': 'def func():\\n    global glob\\n    loc = 77\\n    glob = 25\\n    print(glob)\\nglob = 10\\nfunc()\\nprint(glob)',\n",
       " '_ii': \"def func():\\n    loc = 77\\n    glob = 25\\n    print(glob)\\nglob = 10\\nfunc()\\nprint(glob)\\ntry:\\n    print(loc)\\nexcept NameError:\\n    print('loc only in func')\",\n",
       " '_iii': 'def Glob(glob2):\\n    glob2 += 10\\n    print(glob2)\\nglob, glob2 = 10, 5\\nprint(glob2)\\nGlob(77)',\n",
       " '_i1': 'summa(1,2)',\n",
       " '_i2': 'def summa(x, y):\\n    return x + y\\nsumma(1, 2)',\n",
       " 'summa': <function __main__.summa(x, y=2)>,\n",
       " '_2': 3,\n",
       " '_i3': 'y = 3\\nx = 6\\nz = summa(y, x)\\nz',\n",
       " 'y': 3,\n",
       " 'x': 6,\n",
       " 'z': 9,\n",
       " '_3': 9,\n",
       " '_i4': \"summa('str', 'int')\",\n",
       " '_4': 'strint',\n",
       " '_i5': \"summa('str', 'ing')\",\n",
       " '_5': 'string',\n",
       " '_i6': 'summa([1,3], [2])',\n",
       " '_6': [1, 3, 2],\n",
       " '_i7': 'f = summa\\nv = f(10,20)\\nv',\n",
       " 'f': <function __main__.f(num1: int, my_float: float = 3.5) -> float>,\n",
       " 'v': 30,\n",
       " '_7': 30,\n",
       " '_i8': 'type(summa)',\n",
       " '_8': function,\n",
       " '_i9': 'type(f)',\n",
       " '_9': function,\n",
       " '_i10': 'func(summa, 10, 20)',\n",
       " '_i11': 'def func(fp, a, b):\\n    return fp(a,b)',\n",
       " 'func': <function __main__.func()>,\n",
       " '_i12': 'func(summa, 10, 20)',\n",
       " '_12': 30,\n",
       " '_i13': 'def razn(a, b):\\n    return a - b',\n",
       " 'razn': <function __main__.razn(x, y)>,\n",
       " '_i14': 'razn(10,20)',\n",
       " '_14': -10,\n",
       " '_i15': 'summa._name_',\n",
       " '_i16': \"n = input('Введите 1 для вызова первой функции: ')\\nn = n.rstrip('\\\\r')\\nif n == '1':\\n    def echo():\\n        print('Вызов первой функции')\\nelse:\\n    def echo():\\n        print('Альтернативная функция')\",\n",
       " 'n': '1',\n",
       " 'echo': <function __main__.echo()>,\n",
       " '_i17': \"n = input('Введите 1 для вызова первой функции: ')\\nn = n.rstrip('\\\\r')\\nif n == '1':\\n    def echo():\\n        print('Вызов первой функции')\\nelse:\\n    def echo():\\n        print('Альтернативная функция')\",\n",
       " '_i18': \"n = input('Введите 1 для вызова первой функции: ')\\nn = n.rstrip('\\\\r')\\nif n == '1':\\n    def echo():\\n        print('Вызов первой функции')\\nelse:\\n    def echo():\\n        print('Альтернативная функция')\\necho()\",\n",
       " '_i19': 'f1 = lambda: 10 + 20\\nf2 = lambda x, y: x + y\\nf3 = lambda x, y, z: x + y + z\\nprint(f1())\\nprint(f2(5,10))\\nprint(f3(5,10,30))',\n",
       " 'f1': <function __main__.<lambda>()>,\n",
       " 'f2': <function __main__.<lambda>(x, y)>,\n",
       " 'f3': <function __main__.<lambda>(x, y, z)>,\n",
       " '_i20': \"arr = ['единица1', 'Единый', 'Единица2']\\narr.sort()\\nprint(arr)\\narr.sort(key=lambda s: s.lower())\\nprint(arr)\",\n",
       " 'arr': ['единица1', 'Единица2', 'Единый'],\n",
       " '_i21': \"ls = ['дыня','вишня','арбуз','яблоко','абрикос']\\nsorted(ls)\",\n",
       " 'ls': ['дыня', 'вишня', 'арбуз', 'яблоко', 'абрикос'],\n",
       " '_21': ['абрикос', 'арбуз', 'вишня', 'дыня', 'яблоко'],\n",
       " '_i22': 'sorted(ls, key=lambda s: len(s))',\n",
       " '_22': ['дыня', 'вишня', 'арбуз', 'яблоко', 'абрикос'],\n",
       " '_i23': 'def summa(x, y=2):\\n    return x + y',\n",
       " '_i24': 'summa(5)',\n",
       " '_24': 7,\n",
       " '_i25': 'summa(5, 4)',\n",
       " '_25': 9,\n",
       " '_i26': 'def razn(x, y):\\n    return x - y',\n",
       " '_i27': 'razn(y=10, x=10)',\n",
       " '_27': 0,\n",
       " '_i28': 'razn(y=10, x=20)',\n",
       " '_28': 10,\n",
       " '_i29': 'def append_if_even(x, lst=None):\\n    if lst is None:\\n        lst = []\\n    if x % 2 == 0:\\n        lst.append(x)\\n    return lst',\n",
       " 'append_if_even': <function __main__.append_if_even(x, lst=None)>,\n",
       " '_i30': 'append_if_even(2)',\n",
       " '_30': [2],\n",
       " '_i31': 'append_if_even(4)',\n",
       " '_31': [4],\n",
       " '_i32': 'def _append_if_even(x, lst=[]):\\n    if x % 2 == 0:\\n        lst.append(x)\\n    return lst',\n",
       " '_append_if_even': <function __main__._append_if_even(x, lst=[2, 4])>,\n",
       " '_i33': '_append_if_even(2)',\n",
       " '_33': [2, 4],\n",
       " '_i34': '_append_if_even(4)',\n",
       " '_34': [2, 4],\n",
       " '_i35': 'def min_med_max(1):\\n    ls = sorted(1)\\n    1_min = ls[0]\\n    1_max = ls[-1]\\n    1_med = ls[len(ls)//2]\\n    return 1_min, 1_med, 1_max',\n",
       " '_i36': 'def mi_med_ma(1):\\n    ls = sorted(1)\\n    1_mi = ls[0]\\n    1_ma = ls[-1]\\n    1_med = ls[len(ls)//2]\\n    return 1_mi, 1_med, 1_ma',\n",
       " '_i37': 'def mi_med_ma(1):\\n    ls = sorted(1)\\n    mi = ls[0]\\n    ma = ls[-1]\\n    med = ls[len(ls)//2]\\n    return mi, med, ma',\n",
       " '_i38': 'def mi_med_ma(l):\\n    ls = sorted(1)\\n    mi = ls[0]\\n    ma = ls[-1]\\n    med = ls[len(ls)//2]\\n    return mi, med, ma',\n",
       " 'mi_med_ma': <function __main__.mi_med_ma(l)>,\n",
       " '_i39': 'mi_med_ma([3, 1, 100, 11, 7])',\n",
       " '_i40': 'def mi_med_ma(l):\\n    ls = sorted(l)\\n    mi = ls[0]\\n    ma = ls[-1]\\n    med = ls[len(ls)//2]\\n    return mi, med, ma',\n",
       " '_i41': 'mi_med_ma([3, 1, 100, 11, 7])',\n",
       " '_41': (1, 7, 100),\n",
       " '_i42': 'min1, med1, max1 = mi_med_ma([3, 1, 100, 11, 7])',\n",
       " 'min1': 1,\n",
       " 'med1': 7,\n",
       " 'max1': 100,\n",
       " '_i43': \"print(f'min1 = {min1}, med1 = {med1}, max1 = {max1})\",\n",
       " '_i44': \"print(f'min1 = {min1}, med1 = {med1}, max1 = {max1}')\",\n",
       " '_i45': 't1 = [2,3]',\n",
       " 't1': [2, 3],\n",
       " '_i46': 'summa(*t1)',\n",
       " '_46': 5,\n",
       " '_i47': 'summa(*t2[:3])',\n",
       " '_i48': 't1 = [2,3]\\nt2 = [1,2,3,4]',\n",
       " 't2': [1, 2, 3, 4],\n",
       " '_i49': 'summa(*t1)',\n",
       " '_49': 5,\n",
       " '_i50': 'summa(*t2[:3])',\n",
       " '_i51': 'summa(*t2[:2])',\n",
       " '_51': 3,\n",
       " '_i52': \"d1 = {'x':11, 'y':12}\",\n",
       " 'd1': {'x': 11, 'y': 12},\n",
       " '_i53': 'summa(*d1)',\n",
       " '_53': 'xy',\n",
       " '_i54': 'summa(**d1)',\n",
       " '_54': 23,\n",
       " '_i55': 'def all_summa(*t):\\n    res = 0\\n    for i in t:\\n        res += 1\\n    return res',\n",
       " 'all_summa': <function __main__.all_summa(*t)>,\n",
       " '_i56': 'all_summa(10, 20, 30, 40, 50)',\n",
       " '_56': 5,\n",
       " '_i57': 'def all_summa(*t):\\n    res = 0\\n    for i in t:\\n        res += i\\n    return res',\n",
       " '_i58': 'all_summa(10, 20, 30, 40, 50)',\n",
       " '_58': 150,\n",
       " '_i59': 't4 = [1, 2, 3, 4]\\nall_summa(*t4)',\n",
       " 't4': [1, 2, 3, 4],\n",
       " '_59': 10,\n",
       " '_i60': \"def d_summa(**d):\\n    for k,v in d.items():\\n        print(f'{k} => {v}', end = '; ')\",\n",
       " 'd_summa': <function __main__.d_summa(**d)>,\n",
       " '_i61': 'd_summa(a=1, b=10, c=-1)',\n",
       " '_i62': \"d3 = {'f':3, 'g':4, 'e':5}\\nd_summa(**d)\",\n",
       " 'd3': {'f': 3, 'g': 4, 'e': 5},\n",
       " '_i63': \"d3 = {'f':3, 'g':4, 'e':5}\\nd_summa(**d3)\",\n",
       " '_i64': \"def c_summa(*t, **d):\\n    for v in t:\\n        print(v, end='; ')\\n    for k,v in d.items():\\n        print(f'{k} => {v}', end='; ')\",\n",
       " 'c_summa': <function __main__.c_summa(*t, **d)>,\n",
       " '_i65': 'c_summa(10,20,30,a=1,b=2)',\n",
       " '_i66': 'c_summa(*t4, **d3)',\n",
       " '_i67': '?print',\n",
       " '_i68': 'import typing',\n",
       " 'typing': <module 'typing' from '/Users/test/anaconda3/lib/python3.11/typing.py'>,\n",
       " '_i69': 'def stringify(num: int) -> str:\\n    return str(num)\\ndef plus(num1: int, num2: int) -> int:\\n    return num1 + num2\\ndef f(num1: int, my_float: float = 3.5) -> float:\\n    return num1 + my_float',\n",
       " 'stringify': <function __main__.stringify(num: int) -> str>,\n",
       " 'plus': <function __main__.plus(num1: int, num2: int) -> int>,\n",
       " '_i70': 'import typing\\nimport _main_',\n",
       " '_i71': 'import typing',\n",
       " '_i72': 'def stringify(num: int) -> str:\\n    return str(num)\\ndef plus(num1: int, num2: int) -> int:\\n    return num1 + num2\\ndef f(num1: int, my_float: float = 3.5) -> float:\\n    return num1 + my_float',\n",
       " '_i73': 'stringify._annotations_',\n",
       " '_i74': \"def change(a, b):\\n    a = 20\\n    b = 'str'\",\n",
       " 'change': <function __main__.change(a, b)>,\n",
       " '_i75': \"v1 = 30\\nv2 = 'val'\\nchange(v1,v2)\\nprint(f'v1: {v1}')\\nprint(f'v2: {v2}')\",\n",
       " 'v1': 30,\n",
       " 'v2': 'val',\n",
       " '_i76': 'def change2(a):\\n    a.append(10)',\n",
       " 'change2': <function __main__.change2(a)>,\n",
       " '_i77': 's1 = [1]\\nchange2(s1)\\ns1',\n",
       " 's1': [1, 10],\n",
       " '_77': [1, 10],\n",
       " '_i78': 'def Glob(glob2):\\n    glob += 10\\nglob, glob2 = 10, 5\\nGlob(77)',\n",
       " 'Glob': <function __main__.Glob(glob2)>,\n",
       " 'glob': 25,\n",
       " 'glob2': 5,\n",
       " '_i79': 'def Glob(glob2):\\n    glob2 += 10\\nglob, glob2 = 10, 5\\nGlob(77)',\n",
       " '_i80': 'def Glob(glob2):\\n    glob2 += 10\\nglob, glob2 = 10, 5\\nGlob(77)',\n",
       " '_i81': 'def Glob(glob2):\\n    glob2 += 10\\nglob, glob2 = 10, 5\\nprint(glob2)\\nGlob(77)\\nprint(glob2)',\n",
       " '_i82': 'def Glob(glob2):\\n    glob2 += 10\\n    print(glob2)\\nglob, glob2 = 10, 5\\nprint(glob2)\\nGlob(77)',\n",
       " '_i83': \"def func():\\n    loc = 77\\n    glob = 25\\n    print(glob)\\nglob = 10\\nfunc()\\nprint(glob)\\ntry:\\n    print(loc)\\nexcept NameError:\\n    print('loc only in func')\",\n",
       " '_i84': 'def func():\\n    global glob\\n    loc = 77\\n    glob = 25\\n    print(glob)\\nglob = 10\\nfunc()\\nprint(glob)',\n",
       " '_i85': 'globals()'}"
      ]
     },
     "execution_count": 85,
     "metadata": {},
     "output_type": "execute_result"
    }
   ],
   "source": [
    "globals()"
   ]
  },
  {
   "cell_type": "code",
   "execution_count": 86,
   "id": "7c2950f1",
   "metadata": {},
   "outputs": [
    {
     "data": {
      "text/plain": [
       "{'__name__': '__main__',\n",
       " '__doc__': 'Automatically created module for IPython interactive environment',\n",
       " '__package__': None,\n",
       " '__loader__': None,\n",
       " '__spec__': None,\n",
       " '__builtin__': <module 'builtins' (built-in)>,\n",
       " '__builtins__': <module 'builtins' (built-in)>,\n",
       " '_ih': ['',\n",
       "  'summa(1,2)',\n",
       "  'def summa(x, y):\\n    return x + y\\nsumma(1, 2)',\n",
       "  'y = 3\\nx = 6\\nz = summa(y, x)\\nz',\n",
       "  \"summa('str', 'int')\",\n",
       "  \"summa('str', 'ing')\",\n",
       "  'summa([1,3], [2])',\n",
       "  'f = summa\\nv = f(10,20)\\nv',\n",
       "  'type(summa)',\n",
       "  'type(f)',\n",
       "  'func(summa, 10, 20)',\n",
       "  'def func(fp, a, b):\\n    return fp(a,b)',\n",
       "  'func(summa, 10, 20)',\n",
       "  'def razn(a, b):\\n    return a - b',\n",
       "  'razn(10,20)',\n",
       "  'summa._name_',\n",
       "  \"n = input('Введите 1 для вызова первой функции: ')\\nn = n.rstrip('\\\\r')\\nif n == '1':\\n    def echo():\\n        print('Вызов первой функции')\\nelse:\\n    def echo():\\n        print('Альтернативная функция')\",\n",
       "  \"n = input('Введите 1 для вызова первой функции: ')\\nn = n.rstrip('\\\\r')\\nif n == '1':\\n    def echo():\\n        print('Вызов первой функции')\\nelse:\\n    def echo():\\n        print('Альтернативная функция')\",\n",
       "  \"n = input('Введите 1 для вызова первой функции: ')\\nn = n.rstrip('\\\\r')\\nif n == '1':\\n    def echo():\\n        print('Вызов первой функции')\\nelse:\\n    def echo():\\n        print('Альтернативная функция')\\necho()\",\n",
       "  'f1 = lambda: 10 + 20\\nf2 = lambda x, y: x + y\\nf3 = lambda x, y, z: x + y + z\\nprint(f1())\\nprint(f2(5,10))\\nprint(f3(5,10,30))',\n",
       "  \"arr = ['единица1', 'Единый', 'Единица2']\\narr.sort()\\nprint(arr)\\narr.sort(key=lambda s: s.lower())\\nprint(arr)\",\n",
       "  \"ls = ['дыня','вишня','арбуз','яблоко','абрикос']\\nsorted(ls)\",\n",
       "  'sorted(ls, key=lambda s: len(s))',\n",
       "  'def summa(x, y=2):\\n    return x + y',\n",
       "  'summa(5)',\n",
       "  'summa(5, 4)',\n",
       "  'def razn(x, y):\\n    return x - y',\n",
       "  'razn(y=10, x=10)',\n",
       "  'razn(y=10, x=20)',\n",
       "  'def append_if_even(x, lst=None):\\n    if lst is None:\\n        lst = []\\n    if x % 2 == 0:\\n        lst.append(x)\\n    return lst',\n",
       "  'append_if_even(2)',\n",
       "  'append_if_even(4)',\n",
       "  'def _append_if_even(x, lst=[]):\\n    if x % 2 == 0:\\n        lst.append(x)\\n    return lst',\n",
       "  '_append_if_even(2)',\n",
       "  '_append_if_even(4)',\n",
       "  'def min_med_max(1):\\n    ls = sorted(1)\\n    1_min = ls[0]\\n    1_max = ls[-1]\\n    1_med = ls[len(ls)//2]\\n    return 1_min, 1_med, 1_max',\n",
       "  'def mi_med_ma(1):\\n    ls = sorted(1)\\n    1_mi = ls[0]\\n    1_ma = ls[-1]\\n    1_med = ls[len(ls)//2]\\n    return 1_mi, 1_med, 1_ma',\n",
       "  'def mi_med_ma(1):\\n    ls = sorted(1)\\n    mi = ls[0]\\n    ma = ls[-1]\\n    med = ls[len(ls)//2]\\n    return mi, med, ma',\n",
       "  'def mi_med_ma(l):\\n    ls = sorted(1)\\n    mi = ls[0]\\n    ma = ls[-1]\\n    med = ls[len(ls)//2]\\n    return mi, med, ma',\n",
       "  'mi_med_ma([3, 1, 100, 11, 7])',\n",
       "  'def mi_med_ma(l):\\n    ls = sorted(l)\\n    mi = ls[0]\\n    ma = ls[-1]\\n    med = ls[len(ls)//2]\\n    return mi, med, ma',\n",
       "  'mi_med_ma([3, 1, 100, 11, 7])',\n",
       "  'min1, med1, max1 = mi_med_ma([3, 1, 100, 11, 7])',\n",
       "  \"print(f'min1 = {min1}, med1 = {med1}, max1 = {max1})\",\n",
       "  \"print(f'min1 = {min1}, med1 = {med1}, max1 = {max1}')\",\n",
       "  't1 = [2,3]',\n",
       "  'summa(*t1)',\n",
       "  'summa(*t2[:3])',\n",
       "  't1 = [2,3]\\nt2 = [1,2,3,4]',\n",
       "  'summa(*t1)',\n",
       "  'summa(*t2[:3])',\n",
       "  'summa(*t2[:2])',\n",
       "  \"d1 = {'x':11, 'y':12}\",\n",
       "  'summa(*d1)',\n",
       "  'summa(**d1)',\n",
       "  'def all_summa(*t):\\n    res = 0\\n    for i in t:\\n        res += 1\\n    return res',\n",
       "  'all_summa(10, 20, 30, 40, 50)',\n",
       "  'def all_summa(*t):\\n    res = 0\\n    for i in t:\\n        res += i\\n    return res',\n",
       "  'all_summa(10, 20, 30, 40, 50)',\n",
       "  't4 = [1, 2, 3, 4]\\nall_summa(*t4)',\n",
       "  \"def d_summa(**d):\\n    for k,v in d.items():\\n        print(f'{k} => {v}', end = '; ')\",\n",
       "  'd_summa(a=1, b=10, c=-1)',\n",
       "  \"d3 = {'f':3, 'g':4, 'e':5}\\nd_summa(**d)\",\n",
       "  \"d3 = {'f':3, 'g':4, 'e':5}\\nd_summa(**d3)\",\n",
       "  \"def c_summa(*t, **d):\\n    for v in t:\\n        print(v, end='; ')\\n    for k,v in d.items():\\n        print(f'{k} => {v}', end='; ')\",\n",
       "  'c_summa(10,20,30,a=1,b=2)',\n",
       "  'c_summa(*t4, **d3)',\n",
       "  \"get_ipython().run_line_magic('pinfo', 'print')\",\n",
       "  'import typing',\n",
       "  'def stringify(num: int) -> str:\\n    return str(num)\\ndef plus(num1: int, num2: int) -> int:\\n    return num1 + num2\\ndef f(num1: int, my_float: float = 3.5) -> float:\\n    return num1 + my_float',\n",
       "  'import typing\\nimport _main_',\n",
       "  'import typing',\n",
       "  'def stringify(num: int) -> str:\\n    return str(num)\\ndef plus(num1: int, num2: int) -> int:\\n    return num1 + num2\\ndef f(num1: int, my_float: float = 3.5) -> float:\\n    return num1 + my_float',\n",
       "  'stringify._annotations_',\n",
       "  \"def change(a, b):\\n    a = 20\\n    b = 'str'\",\n",
       "  \"v1 = 30\\nv2 = 'val'\\nchange(v1,v2)\\nprint(f'v1: {v1}')\\nprint(f'v2: {v2}')\",\n",
       "  'def change2(a):\\n    a.append(10)',\n",
       "  's1 = [1]\\nchange2(s1)\\ns1',\n",
       "  'def Glob(glob2):\\n    glob += 10\\nglob, glob2 = 10, 5\\nGlob(77)',\n",
       "  'def Glob(glob2):\\n    glob2 += 10\\nglob, glob2 = 10, 5\\nGlob(77)',\n",
       "  'def Glob(glob2):\\n    glob2 += 10\\nglob, glob2 = 10, 5\\nGlob(77)',\n",
       "  'def Glob(glob2):\\n    glob2 += 10\\nglob, glob2 = 10, 5\\nprint(glob2)\\nGlob(77)\\nprint(glob2)',\n",
       "  'def Glob(glob2):\\n    glob2 += 10\\n    print(glob2)\\nglob, glob2 = 10, 5\\nprint(glob2)\\nGlob(77)',\n",
       "  \"def func():\\n    loc = 77\\n    glob = 25\\n    print(glob)\\nglob = 10\\nfunc()\\nprint(glob)\\ntry:\\n    print(loc)\\nexcept NameError:\\n    print('loc only in func')\",\n",
       "  'def func():\\n    global glob\\n    loc = 77\\n    glob = 25\\n    print(glob)\\nglob = 10\\nfunc()\\nprint(glob)',\n",
       "  'globals()',\n",
       "  'locals()'],\n",
       " '_oh': {2: 3,\n",
       "  3: 9,\n",
       "  4: 'strint',\n",
       "  5: 'string',\n",
       "  6: [1, 3, 2],\n",
       "  7: 30,\n",
       "  8: function,\n",
       "  9: function,\n",
       "  12: 30,\n",
       "  14: -10,\n",
       "  21: ['абрикос', 'арбуз', 'вишня', 'дыня', 'яблоко'],\n",
       "  22: ['дыня', 'вишня', 'арбуз', 'яблоко', 'абрикос'],\n",
       "  24: 7,\n",
       "  25: 9,\n",
       "  27: 0,\n",
       "  28: 10,\n",
       "  30: [2],\n",
       "  31: [4],\n",
       "  33: [2, 4],\n",
       "  34: [2, 4],\n",
       "  41: (1, 7, 100),\n",
       "  46: 5,\n",
       "  49: 5,\n",
       "  51: 3,\n",
       "  53: 'xy',\n",
       "  54: 23,\n",
       "  56: 5,\n",
       "  58: 150,\n",
       "  59: 10,\n",
       "  77: [1, 10],\n",
       "  85: {...}},\n",
       " '_dh': [PosixPath('/Users/test')],\n",
       " 'In': ['',\n",
       "  'summa(1,2)',\n",
       "  'def summa(x, y):\\n    return x + y\\nsumma(1, 2)',\n",
       "  'y = 3\\nx = 6\\nz = summa(y, x)\\nz',\n",
       "  \"summa('str', 'int')\",\n",
       "  \"summa('str', 'ing')\",\n",
       "  'summa([1,3], [2])',\n",
       "  'f = summa\\nv = f(10,20)\\nv',\n",
       "  'type(summa)',\n",
       "  'type(f)',\n",
       "  'func(summa, 10, 20)',\n",
       "  'def func(fp, a, b):\\n    return fp(a,b)',\n",
       "  'func(summa, 10, 20)',\n",
       "  'def razn(a, b):\\n    return a - b',\n",
       "  'razn(10,20)',\n",
       "  'summa._name_',\n",
       "  \"n = input('Введите 1 для вызова первой функции: ')\\nn = n.rstrip('\\\\r')\\nif n == '1':\\n    def echo():\\n        print('Вызов первой функции')\\nelse:\\n    def echo():\\n        print('Альтернативная функция')\",\n",
       "  \"n = input('Введите 1 для вызова первой функции: ')\\nn = n.rstrip('\\\\r')\\nif n == '1':\\n    def echo():\\n        print('Вызов первой функции')\\nelse:\\n    def echo():\\n        print('Альтернативная функция')\",\n",
       "  \"n = input('Введите 1 для вызова первой функции: ')\\nn = n.rstrip('\\\\r')\\nif n == '1':\\n    def echo():\\n        print('Вызов первой функции')\\nelse:\\n    def echo():\\n        print('Альтернативная функция')\\necho()\",\n",
       "  'f1 = lambda: 10 + 20\\nf2 = lambda x, y: x + y\\nf3 = lambda x, y, z: x + y + z\\nprint(f1())\\nprint(f2(5,10))\\nprint(f3(5,10,30))',\n",
       "  \"arr = ['единица1', 'Единый', 'Единица2']\\narr.sort()\\nprint(arr)\\narr.sort(key=lambda s: s.lower())\\nprint(arr)\",\n",
       "  \"ls = ['дыня','вишня','арбуз','яблоко','абрикос']\\nsorted(ls)\",\n",
       "  'sorted(ls, key=lambda s: len(s))',\n",
       "  'def summa(x, y=2):\\n    return x + y',\n",
       "  'summa(5)',\n",
       "  'summa(5, 4)',\n",
       "  'def razn(x, y):\\n    return x - y',\n",
       "  'razn(y=10, x=10)',\n",
       "  'razn(y=10, x=20)',\n",
       "  'def append_if_even(x, lst=None):\\n    if lst is None:\\n        lst = []\\n    if x % 2 == 0:\\n        lst.append(x)\\n    return lst',\n",
       "  'append_if_even(2)',\n",
       "  'append_if_even(4)',\n",
       "  'def _append_if_even(x, lst=[]):\\n    if x % 2 == 0:\\n        lst.append(x)\\n    return lst',\n",
       "  '_append_if_even(2)',\n",
       "  '_append_if_even(4)',\n",
       "  'def min_med_max(1):\\n    ls = sorted(1)\\n    1_min = ls[0]\\n    1_max = ls[-1]\\n    1_med = ls[len(ls)//2]\\n    return 1_min, 1_med, 1_max',\n",
       "  'def mi_med_ma(1):\\n    ls = sorted(1)\\n    1_mi = ls[0]\\n    1_ma = ls[-1]\\n    1_med = ls[len(ls)//2]\\n    return 1_mi, 1_med, 1_ma',\n",
       "  'def mi_med_ma(1):\\n    ls = sorted(1)\\n    mi = ls[0]\\n    ma = ls[-1]\\n    med = ls[len(ls)//2]\\n    return mi, med, ma',\n",
       "  'def mi_med_ma(l):\\n    ls = sorted(1)\\n    mi = ls[0]\\n    ma = ls[-1]\\n    med = ls[len(ls)//2]\\n    return mi, med, ma',\n",
       "  'mi_med_ma([3, 1, 100, 11, 7])',\n",
       "  'def mi_med_ma(l):\\n    ls = sorted(l)\\n    mi = ls[0]\\n    ma = ls[-1]\\n    med = ls[len(ls)//2]\\n    return mi, med, ma',\n",
       "  'mi_med_ma([3, 1, 100, 11, 7])',\n",
       "  'min1, med1, max1 = mi_med_ma([3, 1, 100, 11, 7])',\n",
       "  \"print(f'min1 = {min1}, med1 = {med1}, max1 = {max1})\",\n",
       "  \"print(f'min1 = {min1}, med1 = {med1}, max1 = {max1}')\",\n",
       "  't1 = [2,3]',\n",
       "  'summa(*t1)',\n",
       "  'summa(*t2[:3])',\n",
       "  't1 = [2,3]\\nt2 = [1,2,3,4]',\n",
       "  'summa(*t1)',\n",
       "  'summa(*t2[:3])',\n",
       "  'summa(*t2[:2])',\n",
       "  \"d1 = {'x':11, 'y':12}\",\n",
       "  'summa(*d1)',\n",
       "  'summa(**d1)',\n",
       "  'def all_summa(*t):\\n    res = 0\\n    for i in t:\\n        res += 1\\n    return res',\n",
       "  'all_summa(10, 20, 30, 40, 50)',\n",
       "  'def all_summa(*t):\\n    res = 0\\n    for i in t:\\n        res += i\\n    return res',\n",
       "  'all_summa(10, 20, 30, 40, 50)',\n",
       "  't4 = [1, 2, 3, 4]\\nall_summa(*t4)',\n",
       "  \"def d_summa(**d):\\n    for k,v in d.items():\\n        print(f'{k} => {v}', end = '; ')\",\n",
       "  'd_summa(a=1, b=10, c=-1)',\n",
       "  \"d3 = {'f':3, 'g':4, 'e':5}\\nd_summa(**d)\",\n",
       "  \"d3 = {'f':3, 'g':4, 'e':5}\\nd_summa(**d3)\",\n",
       "  \"def c_summa(*t, **d):\\n    for v in t:\\n        print(v, end='; ')\\n    for k,v in d.items():\\n        print(f'{k} => {v}', end='; ')\",\n",
       "  'c_summa(10,20,30,a=1,b=2)',\n",
       "  'c_summa(*t4, **d3)',\n",
       "  \"get_ipython().run_line_magic('pinfo', 'print')\",\n",
       "  'import typing',\n",
       "  'def stringify(num: int) -> str:\\n    return str(num)\\ndef plus(num1: int, num2: int) -> int:\\n    return num1 + num2\\ndef f(num1: int, my_float: float = 3.5) -> float:\\n    return num1 + my_float',\n",
       "  'import typing\\nimport _main_',\n",
       "  'import typing',\n",
       "  'def stringify(num: int) -> str:\\n    return str(num)\\ndef plus(num1: int, num2: int) -> int:\\n    return num1 + num2\\ndef f(num1: int, my_float: float = 3.5) -> float:\\n    return num1 + my_float',\n",
       "  'stringify._annotations_',\n",
       "  \"def change(a, b):\\n    a = 20\\n    b = 'str'\",\n",
       "  \"v1 = 30\\nv2 = 'val'\\nchange(v1,v2)\\nprint(f'v1: {v1}')\\nprint(f'v2: {v2}')\",\n",
       "  'def change2(a):\\n    a.append(10)',\n",
       "  's1 = [1]\\nchange2(s1)\\ns1',\n",
       "  'def Glob(glob2):\\n    glob += 10\\nglob, glob2 = 10, 5\\nGlob(77)',\n",
       "  'def Glob(glob2):\\n    glob2 += 10\\nglob, glob2 = 10, 5\\nGlob(77)',\n",
       "  'def Glob(glob2):\\n    glob2 += 10\\nglob, glob2 = 10, 5\\nGlob(77)',\n",
       "  'def Glob(glob2):\\n    glob2 += 10\\nglob, glob2 = 10, 5\\nprint(glob2)\\nGlob(77)\\nprint(glob2)',\n",
       "  'def Glob(glob2):\\n    glob2 += 10\\n    print(glob2)\\nglob, glob2 = 10, 5\\nprint(glob2)\\nGlob(77)',\n",
       "  \"def func():\\n    loc = 77\\n    glob = 25\\n    print(glob)\\nglob = 10\\nfunc()\\nprint(glob)\\ntry:\\n    print(loc)\\nexcept NameError:\\n    print('loc only in func')\",\n",
       "  'def func():\\n    global glob\\n    loc = 77\\n    glob = 25\\n    print(glob)\\nglob = 10\\nfunc()\\nprint(glob)',\n",
       "  'globals()',\n",
       "  'locals()'],\n",
       " 'Out': {2: 3,\n",
       "  3: 9,\n",
       "  4: 'strint',\n",
       "  5: 'string',\n",
       "  6: [1, 3, 2],\n",
       "  7: 30,\n",
       "  8: function,\n",
       "  9: function,\n",
       "  12: 30,\n",
       "  14: -10,\n",
       "  21: ['абрикос', 'арбуз', 'вишня', 'дыня', 'яблоко'],\n",
       "  22: ['дыня', 'вишня', 'арбуз', 'яблоко', 'абрикос'],\n",
       "  24: 7,\n",
       "  25: 9,\n",
       "  27: 0,\n",
       "  28: 10,\n",
       "  30: [2],\n",
       "  31: [4],\n",
       "  33: [2, 4],\n",
       "  34: [2, 4],\n",
       "  41: (1, 7, 100),\n",
       "  46: 5,\n",
       "  49: 5,\n",
       "  51: 3,\n",
       "  53: 'xy',\n",
       "  54: 23,\n",
       "  56: 5,\n",
       "  58: 150,\n",
       "  59: 10,\n",
       "  77: [1, 10],\n",
       "  85: {...}},\n",
       " 'get_ipython': <bound method InteractiveShell.get_ipython of <ipykernel.zmqshell.ZMQInteractiveShell object at 0x10ed44e10>>,\n",
       " 'exit': <IPython.core.autocall.ZMQExitAutocall at 0x10ed68e90>,\n",
       " 'quit': <IPython.core.autocall.ZMQExitAutocall at 0x10ed68e90>,\n",
       " 'open': <function io.open(file, mode='r', buffering=-1, encoding=None, errors=None, newline=None, closefd=True, opener=None)>,\n",
       " '_': {...},\n",
       " '__': [1, 10],\n",
       " '___': 10,\n",
       " '_i': 'globals()',\n",
       " '_ii': 'def func():\\n    global glob\\n    loc = 77\\n    glob = 25\\n    print(glob)\\nglob = 10\\nfunc()\\nprint(glob)',\n",
       " '_iii': \"def func():\\n    loc = 77\\n    glob = 25\\n    print(glob)\\nglob = 10\\nfunc()\\nprint(glob)\\ntry:\\n    print(loc)\\nexcept NameError:\\n    print('loc only in func')\",\n",
       " '_i1': 'summa(1,2)',\n",
       " '_i2': 'def summa(x, y):\\n    return x + y\\nsumma(1, 2)',\n",
       " 'summa': <function __main__.summa(x, y=2)>,\n",
       " '_2': 3,\n",
       " '_i3': 'y = 3\\nx = 6\\nz = summa(y, x)\\nz',\n",
       " 'y': 3,\n",
       " 'x': 6,\n",
       " 'z': 9,\n",
       " '_3': 9,\n",
       " '_i4': \"summa('str', 'int')\",\n",
       " '_4': 'strint',\n",
       " '_i5': \"summa('str', 'ing')\",\n",
       " '_5': 'string',\n",
       " '_i6': 'summa([1,3], [2])',\n",
       " '_6': [1, 3, 2],\n",
       " '_i7': 'f = summa\\nv = f(10,20)\\nv',\n",
       " 'f': <function __main__.f(num1: int, my_float: float = 3.5) -> float>,\n",
       " 'v': 30,\n",
       " '_7': 30,\n",
       " '_i8': 'type(summa)',\n",
       " '_8': function,\n",
       " '_i9': 'type(f)',\n",
       " '_9': function,\n",
       " '_i10': 'func(summa, 10, 20)',\n",
       " '_i11': 'def func(fp, a, b):\\n    return fp(a,b)',\n",
       " 'func': <function __main__.func()>,\n",
       " '_i12': 'func(summa, 10, 20)',\n",
       " '_12': 30,\n",
       " '_i13': 'def razn(a, b):\\n    return a - b',\n",
       " 'razn': <function __main__.razn(x, y)>,\n",
       " '_i14': 'razn(10,20)',\n",
       " '_14': -10,\n",
       " '_i15': 'summa._name_',\n",
       " '_i16': \"n = input('Введите 1 для вызова первой функции: ')\\nn = n.rstrip('\\\\r')\\nif n == '1':\\n    def echo():\\n        print('Вызов первой функции')\\nelse:\\n    def echo():\\n        print('Альтернативная функция')\",\n",
       " 'n': '1',\n",
       " 'echo': <function __main__.echo()>,\n",
       " '_i17': \"n = input('Введите 1 для вызова первой функции: ')\\nn = n.rstrip('\\\\r')\\nif n == '1':\\n    def echo():\\n        print('Вызов первой функции')\\nelse:\\n    def echo():\\n        print('Альтернативная функция')\",\n",
       " '_i18': \"n = input('Введите 1 для вызова первой функции: ')\\nn = n.rstrip('\\\\r')\\nif n == '1':\\n    def echo():\\n        print('Вызов первой функции')\\nelse:\\n    def echo():\\n        print('Альтернативная функция')\\necho()\",\n",
       " '_i19': 'f1 = lambda: 10 + 20\\nf2 = lambda x, y: x + y\\nf3 = lambda x, y, z: x + y + z\\nprint(f1())\\nprint(f2(5,10))\\nprint(f3(5,10,30))',\n",
       " 'f1': <function __main__.<lambda>()>,\n",
       " 'f2': <function __main__.<lambda>(x, y)>,\n",
       " 'f3': <function __main__.<lambda>(x, y, z)>,\n",
       " '_i20': \"arr = ['единица1', 'Единый', 'Единица2']\\narr.sort()\\nprint(arr)\\narr.sort(key=lambda s: s.lower())\\nprint(arr)\",\n",
       " 'arr': ['единица1', 'Единица2', 'Единый'],\n",
       " '_i21': \"ls = ['дыня','вишня','арбуз','яблоко','абрикос']\\nsorted(ls)\",\n",
       " 'ls': ['дыня', 'вишня', 'арбуз', 'яблоко', 'абрикос'],\n",
       " '_21': ['абрикос', 'арбуз', 'вишня', 'дыня', 'яблоко'],\n",
       " '_i22': 'sorted(ls, key=lambda s: len(s))',\n",
       " '_22': ['дыня', 'вишня', 'арбуз', 'яблоко', 'абрикос'],\n",
       " '_i23': 'def summa(x, y=2):\\n    return x + y',\n",
       " '_i24': 'summa(5)',\n",
       " '_24': 7,\n",
       " '_i25': 'summa(5, 4)',\n",
       " '_25': 9,\n",
       " '_i26': 'def razn(x, y):\\n    return x - y',\n",
       " '_i27': 'razn(y=10, x=10)',\n",
       " '_27': 0,\n",
       " '_i28': 'razn(y=10, x=20)',\n",
       " '_28': 10,\n",
       " '_i29': 'def append_if_even(x, lst=None):\\n    if lst is None:\\n        lst = []\\n    if x % 2 == 0:\\n        lst.append(x)\\n    return lst',\n",
       " 'append_if_even': <function __main__.append_if_even(x, lst=None)>,\n",
       " '_i30': 'append_if_even(2)',\n",
       " '_30': [2],\n",
       " '_i31': 'append_if_even(4)',\n",
       " '_31': [4],\n",
       " '_i32': 'def _append_if_even(x, lst=[]):\\n    if x % 2 == 0:\\n        lst.append(x)\\n    return lst',\n",
       " '_append_if_even': <function __main__._append_if_even(x, lst=[2, 4])>,\n",
       " '_i33': '_append_if_even(2)',\n",
       " '_33': [2, 4],\n",
       " '_i34': '_append_if_even(4)',\n",
       " '_34': [2, 4],\n",
       " '_i35': 'def min_med_max(1):\\n    ls = sorted(1)\\n    1_min = ls[0]\\n    1_max = ls[-1]\\n    1_med = ls[len(ls)//2]\\n    return 1_min, 1_med, 1_max',\n",
       " '_i36': 'def mi_med_ma(1):\\n    ls = sorted(1)\\n    1_mi = ls[0]\\n    1_ma = ls[-1]\\n    1_med = ls[len(ls)//2]\\n    return 1_mi, 1_med, 1_ma',\n",
       " '_i37': 'def mi_med_ma(1):\\n    ls = sorted(1)\\n    mi = ls[0]\\n    ma = ls[-1]\\n    med = ls[len(ls)//2]\\n    return mi, med, ma',\n",
       " '_i38': 'def mi_med_ma(l):\\n    ls = sorted(1)\\n    mi = ls[0]\\n    ma = ls[-1]\\n    med = ls[len(ls)//2]\\n    return mi, med, ma',\n",
       " 'mi_med_ma': <function __main__.mi_med_ma(l)>,\n",
       " '_i39': 'mi_med_ma([3, 1, 100, 11, 7])',\n",
       " '_i40': 'def mi_med_ma(l):\\n    ls = sorted(l)\\n    mi = ls[0]\\n    ma = ls[-1]\\n    med = ls[len(ls)//2]\\n    return mi, med, ma',\n",
       " '_i41': 'mi_med_ma([3, 1, 100, 11, 7])',\n",
       " '_41': (1, 7, 100),\n",
       " '_i42': 'min1, med1, max1 = mi_med_ma([3, 1, 100, 11, 7])',\n",
       " 'min1': 1,\n",
       " 'med1': 7,\n",
       " 'max1': 100,\n",
       " '_i43': \"print(f'min1 = {min1}, med1 = {med1}, max1 = {max1})\",\n",
       " '_i44': \"print(f'min1 = {min1}, med1 = {med1}, max1 = {max1}')\",\n",
       " '_i45': 't1 = [2,3]',\n",
       " 't1': [2, 3],\n",
       " '_i46': 'summa(*t1)',\n",
       " '_46': 5,\n",
       " '_i47': 'summa(*t2[:3])',\n",
       " '_i48': 't1 = [2,3]\\nt2 = [1,2,3,4]',\n",
       " 't2': [1, 2, 3, 4],\n",
       " '_i49': 'summa(*t1)',\n",
       " '_49': 5,\n",
       " '_i50': 'summa(*t2[:3])',\n",
       " '_i51': 'summa(*t2[:2])',\n",
       " '_51': 3,\n",
       " '_i52': \"d1 = {'x':11, 'y':12}\",\n",
       " 'd1': {'x': 11, 'y': 12},\n",
       " '_i53': 'summa(*d1)',\n",
       " '_53': 'xy',\n",
       " '_i54': 'summa(**d1)',\n",
       " '_54': 23,\n",
       " '_i55': 'def all_summa(*t):\\n    res = 0\\n    for i in t:\\n        res += 1\\n    return res',\n",
       " 'all_summa': <function __main__.all_summa(*t)>,\n",
       " '_i56': 'all_summa(10, 20, 30, 40, 50)',\n",
       " '_56': 5,\n",
       " '_i57': 'def all_summa(*t):\\n    res = 0\\n    for i in t:\\n        res += i\\n    return res',\n",
       " '_i58': 'all_summa(10, 20, 30, 40, 50)',\n",
       " '_58': 150,\n",
       " '_i59': 't4 = [1, 2, 3, 4]\\nall_summa(*t4)',\n",
       " 't4': [1, 2, 3, 4],\n",
       " '_59': 10,\n",
       " '_i60': \"def d_summa(**d):\\n    for k,v in d.items():\\n        print(f'{k} => {v}', end = '; ')\",\n",
       " 'd_summa': <function __main__.d_summa(**d)>,\n",
       " '_i61': 'd_summa(a=1, b=10, c=-1)',\n",
       " '_i62': \"d3 = {'f':3, 'g':4, 'e':5}\\nd_summa(**d)\",\n",
       " 'd3': {'f': 3, 'g': 4, 'e': 5},\n",
       " '_i63': \"d3 = {'f':3, 'g':4, 'e':5}\\nd_summa(**d3)\",\n",
       " '_i64': \"def c_summa(*t, **d):\\n    for v in t:\\n        print(v, end='; ')\\n    for k,v in d.items():\\n        print(f'{k} => {v}', end='; ')\",\n",
       " 'c_summa': <function __main__.c_summa(*t, **d)>,\n",
       " '_i65': 'c_summa(10,20,30,a=1,b=2)',\n",
       " '_i66': 'c_summa(*t4, **d3)',\n",
       " '_i67': '?print',\n",
       " '_i68': 'import typing',\n",
       " 'typing': <module 'typing' from '/Users/test/anaconda3/lib/python3.11/typing.py'>,\n",
       " '_i69': 'def stringify(num: int) -> str:\\n    return str(num)\\ndef plus(num1: int, num2: int) -> int:\\n    return num1 + num2\\ndef f(num1: int, my_float: float = 3.5) -> float:\\n    return num1 + my_float',\n",
       " 'stringify': <function __main__.stringify(num: int) -> str>,\n",
       " 'plus': <function __main__.plus(num1: int, num2: int) -> int>,\n",
       " '_i70': 'import typing\\nimport _main_',\n",
       " '_i71': 'import typing',\n",
       " '_i72': 'def stringify(num: int) -> str:\\n    return str(num)\\ndef plus(num1: int, num2: int) -> int:\\n    return num1 + num2\\ndef f(num1: int, my_float: float = 3.5) -> float:\\n    return num1 + my_float',\n",
       " '_i73': 'stringify._annotations_',\n",
       " '_i74': \"def change(a, b):\\n    a = 20\\n    b = 'str'\",\n",
       " 'change': <function __main__.change(a, b)>,\n",
       " '_i75': \"v1 = 30\\nv2 = 'val'\\nchange(v1,v2)\\nprint(f'v1: {v1}')\\nprint(f'v2: {v2}')\",\n",
       " 'v1': 30,\n",
       " 'v2': 'val',\n",
       " '_i76': 'def change2(a):\\n    a.append(10)',\n",
       " 'change2': <function __main__.change2(a)>,\n",
       " '_i77': 's1 = [1]\\nchange2(s1)\\ns1',\n",
       " 's1': [1, 10],\n",
       " '_77': [1, 10],\n",
       " '_i78': 'def Glob(glob2):\\n    glob += 10\\nglob, glob2 = 10, 5\\nGlob(77)',\n",
       " 'Glob': <function __main__.Glob(glob2)>,\n",
       " 'glob': 25,\n",
       " 'glob2': 5,\n",
       " '_i79': 'def Glob(glob2):\\n    glob2 += 10\\nglob, glob2 = 10, 5\\nGlob(77)',\n",
       " '_i80': 'def Glob(glob2):\\n    glob2 += 10\\nglob, glob2 = 10, 5\\nGlob(77)',\n",
       " '_i81': 'def Glob(glob2):\\n    glob2 += 10\\nglob, glob2 = 10, 5\\nprint(glob2)\\nGlob(77)\\nprint(glob2)',\n",
       " '_i82': 'def Glob(glob2):\\n    glob2 += 10\\n    print(glob2)\\nglob, glob2 = 10, 5\\nprint(glob2)\\nGlob(77)',\n",
       " '_i83': \"def func():\\n    loc = 77\\n    glob = 25\\n    print(glob)\\nglob = 10\\nfunc()\\nprint(glob)\\ntry:\\n    print(loc)\\nexcept NameError:\\n    print('loc only in func')\",\n",
       " '_i84': 'def func():\\n    global glob\\n    loc = 77\\n    glob = 25\\n    print(glob)\\nglob = 10\\nfunc()\\nprint(glob)',\n",
       " '_i85': 'globals()',\n",
       " '_85': {...},\n",
       " '_i86': 'locals()'}"
      ]
     },
     "execution_count": 86,
     "metadata": {},
     "output_type": "execute_result"
    }
   ],
   "source": [
    "locals()"
   ]
  },
  {
   "cell_type": "code",
   "execution_count": 87,
   "id": "5ef3ab3a",
   "metadata": {},
   "outputs": [],
   "source": [
    "def func():\n",
    "    loc = 54\n",
    "    glob2 = 25\n",
    "    print(sorted(vars().keys()))"
   ]
  },
  {
   "cell_type": "code",
   "execution_count": 88,
   "id": "80be5965",
   "metadata": {},
   "outputs": [
    {
     "name": "stdout",
     "output_type": "stream",
     "text": [
      "['glob2', 'loc']\n"
     ]
    }
   ],
   "source": [
    "func()"
   ]
  },
  {
   "cell_type": "code",
   "execution_count": 89,
   "id": "83d6094a",
   "metadata": {},
   "outputs": [],
   "source": [
    "def f1(x):\n",
    "    def f2():\n",
    "        print(x)\n",
    "    return f2"
   ]
  },
  {
   "cell_type": "code",
   "execution_count": 90,
   "id": "bf9ed74b",
   "metadata": {},
   "outputs": [
    {
     "name": "stdout",
     "output_type": "stream",
     "text": [
      "12\n"
     ]
    }
   ],
   "source": [
    "fa = f1(12)\n",
    "fa()"
   ]
  },
  {
   "cell_type": "code",
   "execution_count": 91,
   "id": "16f3bd2f",
   "metadata": {},
   "outputs": [
    {
     "name": "stdout",
     "output_type": "stream",
     "text": [
      "22\n"
     ]
    }
   ],
   "source": [
    "fb = f1(22)\n",
    "fb()"
   ]
  },
  {
   "cell_type": "markdown",
   "id": "35192a98",
   "metadata": {},
   "source": [
    "\n",
    "\n",
    "\n",
    "\n",
    "\n",
    "Исключения"
   ]
  },
  {
   "cell_type": "code",
   "execution_count": 92,
   "id": "9427b716",
   "metadata": {},
   "outputs": [
    {
     "name": "stdout",
     "output_type": "stream",
     "text": [
      "Обработали деление на 0\n",
      "0\n"
     ]
    }
   ],
   "source": [
    "x = 0\n",
    "try:\n",
    "    x = 1/0\n",
    "except ZeroDivisionError:\n",
    "    print('Обработали деление на 0')\n",
    "print(x)"
   ]
  },
  {
   "cell_type": "code",
   "execution_count": 93,
   "id": "6f48709a",
   "metadata": {},
   "outputs": [
    {
     "name": "stdout",
     "output_type": "stream",
     "text": [
      "Обработка деления на 0\n",
      "0\n"
     ]
    }
   ],
   "source": [
    "x = 0\n",
    "try:\n",
    "    try:\n",
    "        x = 1/0\n",
    "    except NameError:\n",
    "        print('Неопределенный идентификатор')\n",
    "    except IndexError:\n",
    "        print('Несуществующий индекс')\n",
    "    print('Выражение после вложенного обработчика')\n",
    "except ZeroDivisionError:\n",
    "    print('Обработка деления на 0')\n",
    "    x = 0\n",
    "print(x)"
   ]
  },
  {
   "cell_type": "code",
   "execution_count": 94,
   "id": "17291750",
   "metadata": {},
   "outputs": [
    {
     "name": "stdout",
     "output_type": "stream",
     "text": [
      "0\n"
     ]
    }
   ],
   "source": [
    "x = 0\n",
    "try:\n",
    "    x = 1/0\n",
    "except (ZeroDivisionError, NameError, IndexError):\n",
    "    x = 0\n",
    "print(x)"
   ]
  },
  {
   "cell_type": "code",
   "execution_count": 96,
   "id": "b525f072",
   "metadata": {},
   "outputs": [
    {
     "name": "stdout",
     "output_type": "stream",
     "text": [
      "division by zero\n"
     ]
    }
   ],
   "source": [
    "x = 0\n",
    "try:\n",
    "    x = 1/0\n",
    "except (ZeroDivisionError, NameError, IndexError) as err:\n",
    "#    print(err._class_._name_)\n",
    "    print(err)"
   ]
  },
  {
   "cell_type": "code",
   "execution_count": 97,
   "id": "25e1e990",
   "metadata": {},
   "outputs": [
    {
     "name": "stdout",
     "output_type": "stream",
     "text": [
      "Деление на 0\n",
      "Блок finally\n",
      "0\n"
     ]
    }
   ],
   "source": [
    "x = 0\n",
    "try:\n",
    "    x = 1/0\n",
    "except ZeroDivisionError:\n",
    "    print('Деление на 0')\n",
    "    x = 0\n",
    "else:\n",
    "    print('Блок else')\n",
    "finally:\n",
    "    print('Блок finally')\n",
    "print(x)"
   ]
  },
  {
   "cell_type": "code",
   "execution_count": 98,
   "id": "28e819f3",
   "metadata": {},
   "outputs": [
    {
     "name": "stdout",
     "output_type": "stream",
     "text": [
      "Обработали деление на 0\n",
      "0\n"
     ]
    }
   ],
   "source": [
    "x = 0\n",
    "try:\n",
    "    x = 1/0\n",
    "except ArithmeticError:\n",
    "    print('Обработали деление на 0')\n",
    "print(x)"
   ]
  },
  {
   "cell_type": "code",
   "execution_count": 99,
   "id": "fe08d82d",
   "metadata": {},
   "outputs": [
    {
     "name": "stdout",
     "output_type": "stream",
     "text": [
      "Описание исключения\n"
     ]
    }
   ],
   "source": [
    "try:\n",
    "    raise ValueError('Описание исключения')\n",
    "except ValueError as msg:\n",
    "    print(msg)"
   ]
  },
  {
   "cell_type": "code",
   "execution_count": 100,
   "id": "1d8c3f79",
   "metadata": {},
   "outputs": [
    {
     "name": "stdout",
     "output_type": "stream",
     "text": [
      "Сообщение об ошибке\n"
     ]
    }
   ],
   "source": [
    "try:\n",
    "    x = -3\n",
    "    assert x >= 0, 'Сообщение об ошибке'\n",
    "except AssertionError as err:\n",
    "    print(err)"
   ]
  },
  {
   "cell_type": "code",
   "execution_count": 101,
   "id": "47e6effe",
   "metadata": {},
   "outputs": [],
   "source": [
    "def factorial(n):\n",
    "    assert n >= 0, 'Аргумент n должен быть больше 0!'\n",
    "    assert n % 1 == 0, 'Аргумент n должен быть целым!'\n",
    "    f = 1\n",
    "    for i in range(2,n+1):\n",
    "        f *= i\n",
    "    return f"
   ]
  },
  {
   "cell_type": "code",
   "execution_count": 102,
   "id": "822000a1",
   "metadata": {},
   "outputs": [
    {
     "ename": "AssertionError",
     "evalue": "Аргумент n должен быть больше 0!",
     "output_type": "error",
     "traceback": [
      "\u001b[0;31m---------------------------------------------------------------------------\u001b[0m",
      "\u001b[0;31mAssertionError\u001b[0m                            Traceback (most recent call last)",
      "Cell \u001b[0;32mIn[102], line 1\u001b[0m\n\u001b[0;32m----> 1\u001b[0m factorial(\u001b[38;5;241m-\u001b[39m\u001b[38;5;241m2\u001b[39m)\n",
      "Cell \u001b[0;32mIn[101], line 2\u001b[0m, in \u001b[0;36mfactorial\u001b[0;34m(n)\u001b[0m\n\u001b[1;32m      1\u001b[0m \u001b[38;5;28;01mdef\u001b[39;00m \u001b[38;5;21mfactorial\u001b[39m(n):\n\u001b[0;32m----> 2\u001b[0m     \u001b[38;5;28;01massert\u001b[39;00m n \u001b[38;5;241m>\u001b[39m\u001b[38;5;241m=\u001b[39m \u001b[38;5;241m0\u001b[39m, \u001b[38;5;124m'\u001b[39m\u001b[38;5;124mАргумент n должен быть больше 0!\u001b[39m\u001b[38;5;124m'\u001b[39m\n\u001b[1;32m      3\u001b[0m     \u001b[38;5;28;01massert\u001b[39;00m n \u001b[38;5;241m%\u001b[39m \u001b[38;5;241m1\u001b[39m \u001b[38;5;241m==\u001b[39m \u001b[38;5;241m0\u001b[39m, \u001b[38;5;124m'\u001b[39m\u001b[38;5;124mАргумент n должен быть целым!\u001b[39m\u001b[38;5;124m'\u001b[39m\n\u001b[1;32m      4\u001b[0m     f \u001b[38;5;241m=\u001b[39m \u001b[38;5;241m1\u001b[39m\n",
      "\u001b[0;31mAssertionError\u001b[0m: Аргумент n должен быть больше 0!"
     ]
    }
   ],
   "source": [
    "factorial(-2)"
   ]
  },
  {
   "cell_type": "code",
   "execution_count": 103,
   "id": "10503060",
   "metadata": {},
   "outputs": [
    {
     "ename": "AssertionError",
     "evalue": "Аргумент n должен быть целым!",
     "output_type": "error",
     "traceback": [
      "\u001b[0;31m---------------------------------------------------------------------------\u001b[0m",
      "\u001b[0;31mAssertionError\u001b[0m                            Traceback (most recent call last)",
      "Cell \u001b[0;32mIn[103], line 1\u001b[0m\n\u001b[0;32m----> 1\u001b[0m factorial(\u001b[38;5;241m1.2\u001b[39m)\n",
      "Cell \u001b[0;32mIn[101], line 3\u001b[0m, in \u001b[0;36mfactorial\u001b[0;34m(n)\u001b[0m\n\u001b[1;32m      1\u001b[0m \u001b[38;5;28;01mdef\u001b[39;00m \u001b[38;5;21mfactorial\u001b[39m(n):\n\u001b[1;32m      2\u001b[0m     \u001b[38;5;28;01massert\u001b[39;00m n \u001b[38;5;241m>\u001b[39m\u001b[38;5;241m=\u001b[39m \u001b[38;5;241m0\u001b[39m, \u001b[38;5;124m'\u001b[39m\u001b[38;5;124mАргумент n должен быть больше 0!\u001b[39m\u001b[38;5;124m'\u001b[39m\n\u001b[0;32m----> 3\u001b[0m     \u001b[38;5;28;01massert\u001b[39;00m n \u001b[38;5;241m%\u001b[39m \u001b[38;5;241m1\u001b[39m \u001b[38;5;241m==\u001b[39m \u001b[38;5;241m0\u001b[39m, \u001b[38;5;124m'\u001b[39m\u001b[38;5;124mАргумент n должен быть целым!\u001b[39m\u001b[38;5;124m'\u001b[39m\n\u001b[1;32m      4\u001b[0m     f \u001b[38;5;241m=\u001b[39m \u001b[38;5;241m1\u001b[39m\n\u001b[1;32m      5\u001b[0m     \u001b[38;5;28;01mfor\u001b[39;00m i \u001b[38;5;129;01min\u001b[39;00m \u001b[38;5;28mrange\u001b[39m(\u001b[38;5;241m2\u001b[39m,n\u001b[38;5;241m+\u001b[39m\u001b[38;5;241m1\u001b[39m):\n",
      "\u001b[0;31mAssertionError\u001b[0m: Аргумент n должен быть целым!"
     ]
    }
   ],
   "source": [
    "factorial(1.2)"
   ]
  }
 ],
 "metadata": {
  "kernelspec": {
   "display_name": "Python 3 (ipykernel)",
   "language": "python",
   "name": "python3"
  },
  "language_info": {
   "codemirror_mode": {
    "name": "ipython",
    "version": 3
   },
   "file_extension": ".py",
   "mimetype": "text/x-python",
   "name": "python",
   "nbconvert_exporter": "python",
   "pygments_lexer": "ipython3",
   "version": "3.11.4"
  }
 },
 "nbformat": 4,
 "nbformat_minor": 5
}
