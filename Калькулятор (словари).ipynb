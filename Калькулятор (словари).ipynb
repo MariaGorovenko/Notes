{
 "cells": [
  {
   "cell_type": "code",
   "execution_count": 138,
   "id": "a6fbc3eb",
   "metadata": {},
   "outputs": [],
   "source": [
    "import re\n",
    "a = ['ноль','один','два','три','четыре','пять','шесть','семь','восемь','девять']\n",
    "b = ['одиннадцать','двенадцать','тринадцать','четырнадцать','пятнадцать','шестнадцать','семнадцать','восемнадцать','девятнадцать']\n",
    "c = ['десять','двадцать','тридцать','сорок','пятьдесят','шестьдесят','семьдесят','восемьдесят','девяносто','сто']\n",
    "e = ['плюс','минус','умножить','разделить']\n",
    "da = dict(zip(a,range(0,10)))\n",
    "db = dict(zip(b,range(11,20)))\n",
    "dc = dict(zip(c,range(10,101,10)))\n",
    "dct = {**da, **db, **dc}\n",
    "def calc(s):\n",
    "    l = []\n",
    "    l = re.split(' ',s)\n",
    "    if 'на' in l:\n",
    "        l.pop(l.index('на'))\n",
    "    p = 0\n",
    "    op1 = 0\n",
    "    op2 = 0\n",
    "    for i in l:\n",
    "        if i in e:\n",
    "            p = l.index(i)    # индекс операции\n",
    "    for i in l[:p]:\n",
    "        for k,v in dct.items():\n",
    "            if i == k:\n",
    "                op1 += v    # первый операнд\n",
    "    for i in l[p+1:]:\n",
    "        for k,v in dct.items():\n",
    "            if i == k:\n",
    "                op2 += v    # второй операнд\n",
    "    rez = 0\n",
    "    for i in e:\n",
    "        if l[p] == 'плюс':\n",
    "            rez = op1 + op2\n",
    "        elif l[p] == 'минус':\n",
    "            rez = op1 - op2\n",
    "        elif l[p] == 'умножить':\n",
    "            rez = op1 * op2\n",
    "        elif l[p] == 'разделить':\n",
    "            rez = op1 // op2\n",
    "    ans = []\n",
    "    if rez < 0:\n",
    "        ans.append('минус')\n",
    "        rez -= rez*2 \n",
    "    for k,v in dct.items():\n",
    "        if rez == v:\n",
    "            ans.append(k)\n",
    "            break\n",
    "        elif (rez // 10 * 10) == v:\n",
    "            ans.append(k)\n",
    "            for key,val in dct.items():\n",
    "                if rez % 10 == val:\n",
    "                    ans.append(key)\n",
    "    print(' '.join(ans))"
   ]
  },
  {
   "cell_type": "code",
   "execution_count": 139,
   "id": "e8534cf8",
   "metadata": {
    "scrolled": true
   },
   "outputs": [
    {
     "name": "stdout",
     "output_type": "stream",
     "text": [
      "двенадцать\n"
     ]
    }
   ],
   "source": [
    "calc('четырнадцать минус два')"
   ]
  },
  {
   "cell_type": "code",
   "execution_count": 140,
   "id": "36ee529f",
   "metadata": {},
   "outputs": [
    {
     "data": {
      "text/plain": [
       "'My name is Mary and I am 18 years old.'"
      ]
     },
     "execution_count": 140,
     "metadata": {},
     "output_type": "execute_result"
    }
   ],
   "source": [
    "name = 'Mary'\n",
    "age = 18\n",
    "s = 'My name is %s and I am %d years old.'%(name,age)\n",
    "s"
   ]
  },
  {
   "cell_type": "code",
   "execution_count": 141,
   "id": "77f79899",
   "metadata": {},
   "outputs": [
    {
     "data": {
      "text/plain": [
       "'My name is Mary and I am 18 years old.'"
      ]
     },
     "execution_count": 141,
     "metadata": {},
     "output_type": "execute_result"
    }
   ],
   "source": [
    "s1 = f'My name is {name} and I am {age} years old.'\n",
    "s1"
   ]
  },
  {
   "cell_type": "code",
   "execution_count": 144,
   "id": "dd1537bc",
   "metadata": {},
   "outputs": [
    {
     "data": {
      "text/plain": [
       "'My name is Mary and I am 18 years old.'"
      ]
     },
     "execution_count": 144,
     "metadata": {},
     "output_type": "execute_result"
    }
   ],
   "source": [
    "s2 = 'My name is {} and I am {} years old.'.format(name,age)\n",
    "s2"
   ]
  },
  {
   "cell_type": "code",
   "execution_count": 145,
   "id": "afb2dd3a",
   "metadata": {},
   "outputs": [
    {
     "data": {
      "text/plain": [
       "[[0, 0, 0], [0, 1, 2], [0, 2, 4]]"
      ]
     },
     "execution_count": 145,
     "metadata": {},
     "output_type": "execute_result"
    }
   ],
   "source": [
    "matrix = []\n",
    "for i in range(3):\n",
    "    row = []\n",
    "    for j in range(3):\n",
    "        row.append(i*j)\n",
    "    matrix.append(row)\n",
    "matrix"
   ]
  },
  {
   "cell_type": "code",
   "execution_count": 146,
   "id": "3aae2e40",
   "metadata": {},
   "outputs": [
    {
     "data": {
      "text/plain": [
       "[('a', 1), ('b', 2), ('c', 3)]"
      ]
     },
     "execution_count": 146,
     "metadata": {},
     "output_type": "execute_result"
    }
   ],
   "source": [
    "my_dict = {'a': 1, 'b': 2, 'c': 3}\n",
    "list(my_dict.items())"
   ]
  },
  {
   "cell_type": "code",
   "execution_count": 147,
   "id": "17685ab9",
   "metadata": {},
   "outputs": [
    {
     "data": {
      "text/plain": [
       "{'a': 1, 'b': 2, 'c': 3}"
      ]
     },
     "execution_count": 147,
     "metadata": {},
     "output_type": "execute_result"
    }
   ],
   "source": [
    "items_list = [('a', 1), ('b', 2), ('c', 3)]\n",
    "dict(items_list)"
   ]
  },
  {
   "cell_type": "code",
   "execution_count": 148,
   "id": "4c7e8047",
   "metadata": {},
   "outputs": [
    {
     "data": {
      "text/plain": [
       "{'b', 'c'}"
      ]
     },
     "execution_count": 148,
     "metadata": {},
     "output_type": "execute_result"
    }
   ],
   "source": [
    "my_dict = {'a': 1, 'b': 2, 'c': 3}\n",
    "keys_view = my_dict.keys()\n",
    "intersection = keys_view & {'b', 'c'}\n",
    "intersection"
   ]
  },
  {
   "cell_type": "code",
   "execution_count": 149,
   "id": "6fe4b9e4",
   "metadata": {},
   "outputs": [
    {
     "data": {
      "text/plain": [
       "{1, 2, 3, 4, 5, 6}"
      ]
     },
     "execution_count": 149,
     "metadata": {},
     "output_type": "execute_result"
    }
   ],
   "source": [
    "my_set = {1, 2, 3, 4, 5}\n",
    "my_set.add(6)\n",
    "my_set"
   ]
  },
  {
   "cell_type": "code",
   "execution_count": 150,
   "id": "9289ed34",
   "metadata": {},
   "outputs": [
    {
     "data": {
      "text/plain": [
       "{1, 2, 3, 4, 5}"
      ]
     },
     "execution_count": 150,
     "metadata": {},
     "output_type": "execute_result"
    }
   ],
   "source": [
    "my_set.remove(6)\n",
    "my_set"
   ]
  },
  {
   "cell_type": "code",
   "execution_count": 154,
   "id": "e51383ab",
   "metadata": {},
   "outputs": [
    {
     "name": "stdout",
     "output_type": "stream",
     "text": [
      "1 2 3\n"
     ]
    }
   ],
   "source": [
    "t = (1,2,3)\n",
    "a,b,c = t\n",
    "print(a,b,c)"
   ]
  },
  {
   "cell_type": "code",
   "execution_count": 155,
   "id": "56e37740",
   "metadata": {},
   "outputs": [
    {
     "name": "stdout",
     "output_type": "stream",
     "text": [
      "1 [2, 3]\n"
     ]
    }
   ],
   "source": [
    "d,*rest = t\n",
    "print(d,rest)"
   ]
  },
  {
   "cell_type": "code",
   "execution_count": 161,
   "id": "cc7481fe",
   "metadata": {},
   "outputs": [
    {
     "name": "stdout",
     "output_type": "stream",
     "text": [
      "Введите возраст: -2\n"
     ]
    },
    {
     "ename": "NameError",
     "evalue": "name 'CustomException' is not defined",
     "output_type": "error",
     "traceback": [
      "\u001b[0;31m---------------------------------------------------------------------------\u001b[0m",
      "\u001b[0;31mNameError\u001b[0m                                 Traceback (most recent call last)",
      "Cell \u001b[0;32mIn[161], line 7\u001b[0m\n\u001b[1;32m      6\u001b[0m     \u001b[38;5;28;01mif\u001b[39;00m age \u001b[38;5;241m<\u001b[39m \u001b[38;5;241m0\u001b[39m:\n\u001b[0;32m----> 7\u001b[0m         \u001b[38;5;28;01mraise\u001b[39;00m CustomException(\u001b[38;5;124m\"\u001b[39m\u001b[38;5;124mВозраст не может быть отрицательным числом\u001b[39m\u001b[38;5;124m\"\u001b[39m)\n\u001b[1;32m      8\u001b[0m \u001b[38;5;28;01mexcept\u001b[39;00m CustomException \u001b[38;5;28;01mas\u001b[39;00m ce:\n",
      "\u001b[0;31mNameError\u001b[0m: name 'CustomException' is not defined",
      "\nDuring handling of the above exception, another exception occurred:\n",
      "\u001b[0;31mNameError\u001b[0m                                 Traceback (most recent call last)",
      "Cell \u001b[0;32mIn[161], line 8\u001b[0m\n\u001b[1;32m      6\u001b[0m     \u001b[38;5;28;01mif\u001b[39;00m age \u001b[38;5;241m<\u001b[39m \u001b[38;5;241m0\u001b[39m:\n\u001b[1;32m      7\u001b[0m         \u001b[38;5;28;01mraise\u001b[39;00m CustomException(\u001b[38;5;124m\"\u001b[39m\u001b[38;5;124mВозраст не может быть отрицательным числом\u001b[39m\u001b[38;5;124m\"\u001b[39m)\n\u001b[0;32m----> 8\u001b[0m \u001b[38;5;28;01mexcept\u001b[39;00m CustomException \u001b[38;5;28;01mas\u001b[39;00m ce:\n\u001b[1;32m      9\u001b[0m     \u001b[38;5;28mprint\u001b[39m(ce)\n",
      "\u001b[0;31mNameError\u001b[0m: name 'CustomException' is not defined"
     ]
    }
   ],
   "source": [
    "class CustomError(Exception):\n",
    "    def __init__(self, message):\n",
    "        self.message = message\n",
    "try:\n",
    "    age = int(input(\"Введите возраст: \"))\n",
    "    if age < 0:\n",
    "        raise CustomException(\"Возраст не может быть отрицательным числом\")\n",
    "except CustomException as ce:\n",
    "    print(ce)"
   ]
  },
  {
   "cell_type": "code",
   "execution_count": null,
   "id": "acc17c3b",
   "metadata": {},
   "outputs": [],
   "source": []
  }
 ],
 "metadata": {
  "kernelspec": {
   "display_name": "Python 3 (ipykernel)",
   "language": "python",
   "name": "python3"
  },
  "language_info": {
   "codemirror_mode": {
    "name": "ipython",
    "version": 3
   },
   "file_extension": ".py",
   "mimetype": "text/x-python",
   "name": "python",
   "nbconvert_exporter": "python",
   "pygments_lexer": "ipython3",
   "version": "3.11.4"
  }
 },
 "nbformat": 4,
 "nbformat_minor": 5
}
